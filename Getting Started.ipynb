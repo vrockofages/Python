{
 "cells": [
  {
   "cell_type": "code",
   "execution_count": 1,
   "id": "ab51dc09",
   "metadata": {},
   "outputs": [
    {
     "name": "stdout",
     "output_type": "stream",
     "text": [
      "This is my first program\n"
     ]
    }
   ],
   "source": [
    "print(\"This is my first program\")"
   ]
  },
  {
   "cell_type": "code",
   "execution_count": 3,
   "id": "b6a4ac12",
   "metadata": {},
   "outputs": [
    {
     "name": "stdout",
     "output_type": "stream",
     "text": [
      "This is my second line\n"
     ]
    }
   ],
   "source": [
    "print(\"This is my second line\")"
   ]
  },
  {
   "cell_type": "code",
   "execution_count": 4,
   "id": "ceb4ad8c",
   "metadata": {},
   "outputs": [
    {
     "name": "stdout",
     "output_type": "stream",
     "text": [
      "Now I will learn Python\n"
     ]
    }
   ],
   "source": [
    "print(\"Now I will learn Python\")"
   ]
  },
  {
   "cell_type": "code",
   "execution_count": 5,
   "id": "7ad7da39",
   "metadata": {},
   "outputs": [],
   "source": [
    "# The above statement are just meant for the first program"
   ]
  },
  {
   "cell_type": "code",
   "execution_count": 6,
   "id": "3b2f1ab3",
   "metadata": {},
   "outputs": [],
   "source": [
    "# If you want to comment several lines at once.  1) Highlight cells and click CTRL + /"
   ]
  },
  {
   "cell_type": "code",
   "execution_count": 8,
   "id": "875e3ea8",
   "metadata": {},
   "outputs": [],
   "source": [
    "# kladfldsJKFADJ\n",
    "# ;LAKJ;LDDSFA\n",
    "# A;LKJ;DAJKFDSL\n",
    "# ALJDLAJKKLFDKL"
   ]
  },
  {
   "cell_type": "code",
   "execution_count": null,
   "id": "c5c8a7d5",
   "metadata": {},
   "outputs": [],
   "source": []
  }
 ],
 "metadata": {
  "kernelspec": {
   "display_name": "Python 3 (ipykernel)",
   "language": "python",
   "name": "python3"
  },
  "language_info": {
   "codemirror_mode": {
    "name": "ipython",
    "version": 3
   },
   "file_extension": ".py",
   "mimetype": "text/x-python",
   "name": "python",
   "nbconvert_exporter": "python",
   "pygments_lexer": "ipython3",
   "version": "3.9.7"
  }
 },
 "nbformat": 4,
 "nbformat_minor": 5
}
