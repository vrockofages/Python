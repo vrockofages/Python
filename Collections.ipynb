{
 "cells": [
  {
   "cell_type": "markdown",
   "id": "6b23788a",
   "metadata": {},
   "source": [
    "# NamedTuple()"
   ]
  },
  {
   "cell_type": "code",
   "execution_count": 24,
   "id": "56988436",
   "metadata": {},
   "outputs": [],
   "source": [
    "from collections import namedtuple"
   ]
  },
  {
   "cell_type": "code",
   "execution_count": 25,
   "id": "fd4c575a",
   "metadata": {},
   "outputs": [
    {
     "name": "stdout",
     "output_type": "stream",
     "text": [
      "courses(Name='Data Science', Technology='Python')\n",
      "courses(Name='Artificial Intelligence', Technology='SQL')\n"
     ]
    }
   ],
   "source": [
    "a = namedtuple('courses', 'Name, Technology')    # Creates a \"named tuple\"\n",
    "s = a('Data Science', 'Python')\n",
    "print(s)\n",
    "\n",
    "\n",
    "r = a._make(['Artificial Intelligence', 'SQL'])     # Uses a named tuple and populates it with its setup\n",
    "print(r)"
   ]
  },
  {
   "cell_type": "markdown",
   "id": "1eadcfcf",
   "metadata": {},
   "source": [
    "# Duque()"
   ]
  },
  {
   "cell_type": "code",
   "execution_count": 26,
   "id": "c0351948",
   "metadata": {},
   "outputs": [
    {
     "name": "stdout",
     "output_type": "stream",
     "text": [
      "['r', 'y', 'a', 'n']\n"
     ]
    }
   ],
   "source": [
    "from collections import deque\n",
    "a = ['r','y','a','n']\n",
    "print(a)"
   ]
  },
  {
   "cell_type": "code",
   "execution_count": 27,
   "id": "34f92fa4",
   "metadata": {},
   "outputs": [
    {
     "name": "stdout",
     "output_type": "stream",
     "text": [
      "['r', 'y', 'a', 'n', 'RAWKS']\n"
     ]
    }
   ],
   "source": [
    "a.append('RAWKS')\n",
    "print(a)"
   ]
  },
  {
   "cell_type": "markdown",
   "id": "39fcbdb1",
   "metadata": {},
   "source": [
    "# ChainMap"
   ]
  },
  {
   "cell_type": "code",
   "execution_count": 35,
   "id": "402f7f02",
   "metadata": {},
   "outputs": [
    {
     "name": "stdout",
     "output_type": "stream",
     "text": [
      "ChainMap({'1': 'billy', '2': 'erica', '3': 'booyah'}, {'1': 'killer', '2': 'apes', '3': 'earth'})\n"
     ]
    }
   ],
   "source": [
    "from collections import ChainMap   # Chain together mulitple dictionaries into one view\n",
    "\n",
    "a = {\"1\":\"billy\", \"2\":\"erica\", \"3\":\"booyah\"}\n",
    "b = {\"1\":\"killer\", \"2\":\"apes\", \"3\":\"earth\"}\n",
    "\n",
    "a1 = ChainMap(a,b)\n",
    "print(a1)"
   ]
  },
  {
   "cell_type": "markdown",
   "id": "65b53f8a",
   "metadata": {},
   "source": [
    "# Counter"
   ]
  },
  {
   "cell_type": "code",
   "execution_count": 46,
   "id": "31a607b8",
   "metadata": {},
   "outputs": [
    {
     "name": "stdout",
     "output_type": "stream",
     "text": [
      "Counter({3: 4, 4: 3, 5: 2, 7: 2, 1: 2, 2: 2, 6: 1, 8: 1, 88: 1})\n",
      "[3, 3, 3, 3, 5, 5, 6, 7, 7, 4, 4, 4, 8, 88, 1, 1, 2, 2]\n",
      "[(3, 4), (4, 3), (5, 2), (7, 2), (1, 2), (2, 2), (6, 1), (8, 1), (88, 1)]\n",
      "None\n",
      "[(3, 3), (5, 2), (7, 2), (1, 2), (2, 2), (6, 1), (4, 1), (8, 1), (88, 1)]\n"
     ]
    }
   ],
   "source": [
    "from collections import Counter       # will count of how many times each object appears in the list\n",
    "\n",
    "a = [3,5,6,7,4,3,4,5,3,7,8,88,4,1,1,2,2,3]\n",
    "\n",
    "countofa = Counter(a)\n",
    "\n",
    "print(countofa)\n",
    "\n",
    "print(list(countofa.elements()))  # Elements() shows all the elements\n",
    "\n",
    "print(countofa.most_common())  # Shows how many times each element value appears:  3 occurs 4 times, 4 occurs 3 times, etc.\n",
    "\n",
    "sub = {3:1, 4:2}\n",
    "\n",
    "print(countofa.subtract(sub))     # Subract removes occurences of an object\n",
    "print(countofa.most_common())     # 3 now occurs 3 times and 4 now occurs 1 time"
   ]
  },
  {
   "cell_type": "markdown",
   "id": "0a77af9b",
   "metadata": {},
   "source": [
    "# OrderedDict"
   ]
  },
  {
   "cell_type": "code",
   "execution_count": 55,
   "id": "0bdb5168",
   "metadata": {},
   "outputs": [
    {
     "name": "stdout",
     "output_type": "stream",
     "text": [
      "OrderedDict([('a', 343), ('b', 68), ('c', 767)])\n",
      "odict_keys(['a', 'b', 'c'])\n",
      "odict_items([('a', 343), ('b', 68), ('c', 767)])\n"
     ]
    }
   ],
   "source": [
    "from collections import OrderedDict\n",
    "\n",
    "d = OrderedDict()\n",
    "d['a'] = 343\n",
    "d['b'] = 68\n",
    "d['c'] = 767\n",
    "print(d)\n",
    "\n",
    "print(d.keys())\n",
    "\n",
    "print(d.items())"
   ]
  },
  {
   "cell_type": "markdown",
   "id": "6768838e",
   "metadata": {},
   "source": [
    "# Default Dict"
   ]
  },
  {
   "cell_type": "code",
   "execution_count": 2,
   "id": "4afa747c",
   "metadata": {},
   "outputs": [
    {
     "name": "stdout",
     "output_type": "stream",
     "text": [
      "0\n"
     ]
    }
   ],
   "source": [
    "from collections import defaultdict  # You won't get key error with defaultdict, you will get a 0 back\n",
    "d = defaultdict(int)\n",
    "d[1] = 'pyhton'\n",
    "d[2] = 'vaughn'\n",
    "d[3]= 'dogs'\n",
    "\n",
    "print(d[4])  # Zero returned, because no such index for d[4]"
   ]
  },
  {
   "cell_type": "markdown",
   "id": "97ac4934",
   "metadata": {},
   "source": [
    "# UserDict, UserList, User String"
   ]
  },
  {
   "cell_type": "code",
   "execution_count": null,
   "id": "7d37f17b",
   "metadata": {},
   "outputs": [],
   "source": []
  },
  {
   "cell_type": "code",
   "execution_count": 3,
   "id": "c3372fdc",
   "metadata": {},
   "outputs": [],
   "source": [
    "dogs = {\"1\":\"billy\", \"2\":\"erica\", \"3\":\"booyah\"}"
   ]
  },
  {
   "cell_type": "code",
   "execution_count": 4,
   "id": "e291fe88",
   "metadata": {},
   "outputs": [
    {
     "data": {
      "text/plain": [
       "{'1': 'billy', '2': 'erica', '3': 'booyah'}"
      ]
     },
     "execution_count": 4,
     "metadata": {},
     "output_type": "execute_result"
    }
   ],
   "source": [
    "dogs"
   ]
  },
  {
   "cell_type": "code",
   "execution_count": 5,
   "id": "f848be62",
   "metadata": {},
   "outputs": [
    {
     "data": {
      "text/plain": [
       "'erica'"
      ]
     },
     "execution_count": 5,
     "metadata": {},
     "output_type": "execute_result"
    }
   ],
   "source": [
    "dogs.get('2')"
   ]
  },
  {
   "cell_type": "code",
   "execution_count": 7,
   "id": "586afa6b",
   "metadata": {},
   "outputs": [
    {
     "data": {
      "text/plain": [
       "'booyah'"
      ]
     },
     "execution_count": 7,
     "metadata": {},
     "output_type": "execute_result"
    }
   ],
   "source": [
    "dogs.get('3')"
   ]
  },
  {
   "cell_type": "code",
   "execution_count": 8,
   "id": "9f9ab40a",
   "metadata": {},
   "outputs": [],
   "source": [
    "dogs[3] = \"pendergrass\""
   ]
  },
  {
   "cell_type": "code",
   "execution_count": 9,
   "id": "be21a02d",
   "metadata": {},
   "outputs": [
    {
     "data": {
      "text/plain": [
       "{'1': 'billy', '2': 'erica', '3': 'booyah', 3: 'pendergrass'}"
      ]
     },
     "execution_count": 9,
     "metadata": {},
     "output_type": "execute_result"
    }
   ],
   "source": [
    "dogs"
   ]
  },
  {
   "cell_type": "code",
   "execution_count": 10,
   "id": "9e116df0",
   "metadata": {},
   "outputs": [
    {
     "data": {
      "text/plain": [
       "range(0, 12)"
      ]
     },
     "execution_count": 10,
     "metadata": {},
     "output_type": "execute_result"
    }
   ],
   "source": [
    "range(12)"
   ]
  },
  {
   "cell_type": "code",
   "execution_count": 11,
   "id": "bc7dab2e",
   "metadata": {},
   "outputs": [
    {
     "data": {
      "text/plain": [
       "[0, 1, 2, 3]"
      ]
     },
     "execution_count": 11,
     "metadata": {},
     "output_type": "execute_result"
    }
   ],
   "source": [
    "list(range(4))"
   ]
  },
  {
   "cell_type": "code",
   "execution_count": 12,
   "id": "9cac606e",
   "metadata": {},
   "outputs": [],
   "source": [
    "a = [1,2,4,4]   # A list"
   ]
  },
  {
   "cell_type": "code",
   "execution_count": 13,
   "id": "e9a24fe5",
   "metadata": {},
   "outputs": [
    {
     "data": {
      "text/plain": [
       "4"
      ]
     },
     "execution_count": 13,
     "metadata": {},
     "output_type": "execute_result"
    }
   ],
   "source": [
    "a[2]"
   ]
  },
  {
   "cell_type": "code",
   "execution_count": 14,
   "id": "8ae381c8",
   "metadata": {},
   "outputs": [],
   "source": [
    "a[3]= \"dogs\""
   ]
  },
  {
   "cell_type": "code",
   "execution_count": 15,
   "id": "066a794f",
   "metadata": {},
   "outputs": [
    {
     "data": {
      "text/plain": [
       "[1, 2, 4, 'dogs']"
      ]
     },
     "execution_count": 15,
     "metadata": {},
     "output_type": "execute_result"
    }
   ],
   "source": [
    "a"
   ]
  },
  {
   "cell_type": "code",
   "execution_count": 17,
   "id": "d37db334",
   "metadata": {},
   "outputs": [
    {
     "data": {
      "text/plain": [
       "1"
      ]
     },
     "execution_count": 17,
     "metadata": {},
     "output_type": "execute_result"
    }
   ],
   "source": [
    "a.count('dogs')"
   ]
  },
  {
   "cell_type": "code",
   "execution_count": 18,
   "id": "f375bad4",
   "metadata": {},
   "outputs": [],
   "source": [
    "b =  {\"1\":\"billy\", \"2\":\"erica\", \"3\":\"booyah\"}    # A Dictionary"
   ]
  },
  {
   "cell_type": "code",
   "execution_count": 21,
   "id": "9918f177",
   "metadata": {},
   "outputs": [],
   "source": [
    "c = [a, b]"
   ]
  },
  {
   "cell_type": "code",
   "execution_count": 22,
   "id": "3b56dd3f",
   "metadata": {},
   "outputs": [
    {
     "data": {
      "text/plain": [
       "[[1, 2, 4, 'dogs'], {'1': 'billy', '2': 'erica', '3': 'booyah'}]"
      ]
     },
     "execution_count": 22,
     "metadata": {},
     "output_type": "execute_result"
    }
   ],
   "source": [
    "c                      # List and Dictionary combined into a new list"
   ]
  },
  {
   "cell_type": "code",
   "execution_count": null,
   "id": "8b1a65b5",
   "metadata": {},
   "outputs": [],
   "source": []
  }
 ],
 "metadata": {
  "kernelspec": {
   "display_name": "Python 3 (ipykernel)",
   "language": "python",
   "name": "python3"
  },
  "language_info": {
   "codemirror_mode": {
    "name": "ipython",
    "version": 3
   },
   "file_extension": ".py",
   "mimetype": "text/x-python",
   "name": "python",
   "nbconvert_exporter": "python",
   "pygments_lexer": "ipython3",
   "version": "3.9.7"
  }
 },
 "nbformat": 4,
 "nbformat_minor": 5
}
