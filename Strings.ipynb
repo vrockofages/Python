{
 "cells": [
  {
   "cell_type": "code",
   "execution_count": 1,
   "id": "854957de",
   "metadata": {},
   "outputs": [],
   "source": [
    "Ryan = \"Cool\""
   ]
  },
  {
   "cell_type": "code",
   "execution_count": 2,
   "id": "b86bc977",
   "metadata": {},
   "outputs": [],
   "source": [
    "Mason = \"\"\"Boy oh Boy\"\"\""
   ]
  },
  {
   "cell_type": "code",
   "execution_count": 3,
   "id": "bb234d7f",
   "metadata": {},
   "outputs": [],
   "source": [
    "PJ = 'Pooch'"
   ]
  },
  {
   "cell_type": "code",
   "execution_count": 4,
   "id": "15d78511",
   "metadata": {},
   "outputs": [
    {
     "data": {
      "text/plain": [
       "'o'"
      ]
     },
     "execution_count": 4,
     "metadata": {},
     "output_type": "execute_result"
    }
   ],
   "source": [
    "Ryan[2]"
   ]
  },
  {
   "cell_type": "code",
   "execution_count": 5,
   "id": "f805d3b8",
   "metadata": {},
   "outputs": [
    {
     "data": {
      "text/plain": [
       "'y'"
      ]
     },
     "execution_count": 5,
     "metadata": {},
     "output_type": "execute_result"
    }
   ],
   "source": [
    "Mason[-1]"
   ]
  },
  {
   "cell_type": "markdown",
   "id": "326b7d33",
   "metadata": {},
   "source": [
    "# String Slicing"
   ]
  },
  {
   "cell_type": "code",
   "execution_count": 6,
   "id": "a998cc85",
   "metadata": {},
   "outputs": [
    {
     "ename": "NameError",
     "evalue": "name 'RyanList' is not defined",
     "output_type": "error",
     "traceback": [
      "\u001b[1;31m---------------------------------------------------------------------------\u001b[0m",
      "\u001b[1;31mNameError\u001b[0m                                 Traceback (most recent call last)",
      "\u001b[1;32mC:\\Users\\RVAUGH~1.GRA\\AppData\\Local\\Temp/ipykernel_12764/254322977.py\u001b[0m in \u001b[0;36m<module>\u001b[1;34m\u001b[0m\n\u001b[1;32m----> 1\u001b[1;33m \u001b[0mRyanList\u001b[0m\u001b[1;33m[\u001b[0m\u001b[1;33m:\u001b[0m\u001b[1;33m]\u001b[0m\u001b[1;33m\u001b[0m\u001b[1;33m\u001b[0m\u001b[0m\n\u001b[0m",
      "\u001b[1;31mNameError\u001b[0m: name 'RyanList' is not defined"
     ]
    }
   ],
   "source": [
    "RyanList[:]"
   ]
  },
  {
   "cell_type": "code",
   "execution_count": 7,
   "id": "a8dc3117",
   "metadata": {},
   "outputs": [
    {
     "ename": "NameError",
     "evalue": "name 'RyanList' is not defined",
     "output_type": "error",
     "traceback": [
      "\u001b[1;31m---------------------------------------------------------------------------\u001b[0m",
      "\u001b[1;31mNameError\u001b[0m                                 Traceback (most recent call last)",
      "\u001b[1;32mC:\\Users\\RVAUGH~1.GRA\\AppData\\Local\\Temp/ipykernel_12764/2454727319.py\u001b[0m in \u001b[0;36m<module>\u001b[1;34m\u001b[0m\n\u001b[1;32m----> 1\u001b[1;33m \u001b[0mRyanList\u001b[0m\u001b[1;33m\u001b[0m\u001b[1;33m\u001b[0m\u001b[0m\n\u001b[0m",
      "\u001b[1;31mNameError\u001b[0m: name 'RyanList' is not defined"
     ]
    }
   ],
   "source": [
    "RyanList"
   ]
  },
  {
   "cell_type": "code",
   "execution_count": 8,
   "id": "d921dd58",
   "metadata": {},
   "outputs": [
    {
     "data": {
      "text/plain": [
       "'Cool'"
      ]
     },
     "execution_count": 8,
     "metadata": {},
     "output_type": "execute_result"
    }
   ],
   "source": [
    "Ryan"
   ]
  },
  {
   "cell_type": "code",
   "execution_count": 9,
   "id": "8507eb9b",
   "metadata": {},
   "outputs": [],
   "source": [
    "Phrase = \"When the going gets tough, the tough get going!\""
   ]
  },
  {
   "cell_type": "code",
   "execution_count": 10,
   "id": "529b7936",
   "metadata": {},
   "outputs": [
    {
     "data": {
      "text/plain": [
       "'When the going gets tough, the tough get going!'"
      ]
     },
     "execution_count": 10,
     "metadata": {},
     "output_type": "execute_result"
    }
   ],
   "source": [
    "Phrase"
   ]
  },
  {
   "cell_type": "code",
   "execution_count": 11,
   "id": "947995c4",
   "metadata": {},
   "outputs": [
    {
     "data": {
      "text/plain": [
       "'When the going gets tough, the tough get going!'"
      ]
     },
     "execution_count": 11,
     "metadata": {},
     "output_type": "execute_result"
    }
   ],
   "source": [
    "Phrase[:]"
   ]
  },
  {
   "cell_type": "code",
   "execution_count": 12,
   "id": "7f86c56d",
   "metadata": {},
   "outputs": [
    {
     "data": {
      "text/plain": [
       "'!'"
      ]
     },
     "execution_count": 12,
     "metadata": {},
     "output_type": "execute_result"
    }
   ],
   "source": [
    "Phrase[-1]"
   ]
  },
  {
   "cell_type": "code",
   "execution_count": 13,
   "id": "f555d572",
   "metadata": {},
   "outputs": [
    {
     "data": {
      "text/plain": [
       "'hen the going gets tough, the tough get going!'"
      ]
     },
     "execution_count": 13,
     "metadata": {},
     "output_type": "execute_result"
    }
   ],
   "source": [
    "Phrase[1:]"
   ]
  },
  {
   "cell_type": "code",
   "execution_count": 14,
   "id": "ef235738",
   "metadata": {},
   "outputs": [
    {
     "data": {
      "text/plain": [
       "'i'"
      ]
     },
     "execution_count": 14,
     "metadata": {},
     "output_type": "execute_result"
    }
   ],
   "source": [
    "Phrase[-4]"
   ]
  },
  {
   "cell_type": "code",
   "execution_count": 15,
   "id": "c7515ff1",
   "metadata": {},
   "outputs": [
    {
     "data": {
      "text/plain": [
       "'When the going gets tough, the tough get g'"
      ]
     },
     "execution_count": 15,
     "metadata": {},
     "output_type": "execute_result"
    }
   ],
   "source": [
    "Phrase[:-5]"
   ]
  },
  {
   "cell_type": "code",
   "execution_count": 16,
   "id": "efbbd7d7",
   "metadata": {},
   "outputs": [
    {
     "data": {
      "text/plain": [
       "'When '"
      ]
     },
     "execution_count": 16,
     "metadata": {},
     "output_type": "execute_result"
    }
   ],
   "source": [
    "Phrase[:5]"
   ]
  },
  {
   "cell_type": "code",
   "execution_count": 17,
   "id": "622f138b",
   "metadata": {},
   "outputs": [
    {
     "data": {
      "text/plain": [
       "'Wnhgn'"
      ]
     },
     "execution_count": 17,
     "metadata": {},
     "output_type": "execute_result"
    }
   ],
   "source": [
    "#Skipping Elements.  This code will take first 15 characters and skip eliminate the next 2 characters.\n",
    "Phrase[0:14:3]"
   ]
  },
  {
   "cell_type": "code",
   "execution_count": 18,
   "id": "46a15de5",
   "metadata": {},
   "outputs": [
    {
     "data": {
      "text/plain": [
       "'!gniog teg hguot eht ,hguot steg gniog eht nehW'"
      ]
     },
     "execution_count": 18,
     "metadata": {},
     "output_type": "execute_result"
    }
   ],
   "source": [
    "Phrase[::-1]"
   ]
  },
  {
   "cell_type": "code",
   "execution_count": 19,
   "id": "8a36a7d9",
   "metadata": {},
   "outputs": [
    {
     "data": {
      "text/plain": [
       "47"
      ]
     },
     "execution_count": 19,
     "metadata": {},
     "output_type": "execute_result"
    }
   ],
   "source": [
    "len(Phrase)"
   ]
  },
  {
   "cell_type": "code",
   "execution_count": 1,
   "id": "f1feabc4",
   "metadata": {},
   "outputs": [],
   "source": [
    "e = \"Hello this is my first string program\""
   ]
  },
  {
   "cell_type": "code",
   "execution_count": 2,
   "id": "fb126f8a",
   "metadata": {},
   "outputs": [
    {
     "data": {
      "text/plain": [
       "'Hello this'"
      ]
     },
     "execution_count": 2,
     "metadata": {},
     "output_type": "execute_result"
    }
   ],
   "source": [
    "e[0:10]"
   ]
  },
  {
   "cell_type": "code",
   "execution_count": 3,
   "id": "c3f34ed5",
   "metadata": {},
   "outputs": [
    {
     "data": {
      "text/plain": [
       "'Hello this'"
      ]
     },
     "execution_count": 3,
     "metadata": {},
     "output_type": "execute_result"
    }
   ],
   "source": [
    "e[0:10:1]"
   ]
  },
  {
   "cell_type": "code",
   "execution_count": 4,
   "id": "ef3de862",
   "metadata": {},
   "outputs": [
    {
     "data": {
      "text/plain": [
       "'Hloti'"
      ]
     },
     "execution_count": 4,
     "metadata": {},
     "output_type": "execute_result"
    }
   ],
   "source": [
    "e[0:10:2]"
   ]
  },
  {
   "cell_type": "code",
   "execution_count": 5,
   "id": "90b0a52f",
   "metadata": {},
   "outputs": [
    {
     "data": {
      "text/plain": [
       "'Hlts'"
      ]
     },
     "execution_count": 5,
     "metadata": {},
     "output_type": "execute_result"
    }
   ],
   "source": [
    "e[0:10:3]"
   ]
  },
  {
   "cell_type": "code",
   "execution_count": 6,
   "id": "6a909fea",
   "metadata": {},
   "outputs": [
    {
     "data": {
      "text/plain": [
       "'margorp gnirts tsrif ym si siht olleH'"
      ]
     },
     "execution_count": 6,
     "metadata": {},
     "output_type": "execute_result"
    }
   ],
   "source": [
    "# Reverse the string\n",
    "e[::-1]"
   ]
  },
  {
   "cell_type": "code",
   "execution_count": 7,
   "id": "2212a061",
   "metadata": {},
   "outputs": [
    {
     "data": {
      "text/plain": [
       "'mropgit si ms itolH'"
      ]
     },
     "execution_count": 7,
     "metadata": {},
     "output_type": "execute_result"
    }
   ],
   "source": [
    "e[::-2]"
   ]
  },
  {
   "cell_type": "code",
   "execution_count": null,
   "id": "48ec6e88",
   "metadata": {},
   "outputs": [],
   "source": []
  }
 ],
 "metadata": {
  "kernelspec": {
   "display_name": "Python 3 (ipykernel)",
   "language": "python",
   "name": "python3"
  },
  "language_info": {
   "codemirror_mode": {
    "name": "ipython",
    "version": 3
   },
   "file_extension": ".py",
   "mimetype": "text/x-python",
   "name": "python",
   "nbconvert_exporter": "python",
   "pygments_lexer": "ipython3",
   "version": "3.9.7"
  }
 },
 "nbformat": 4,
 "nbformat_minor": 5
}
