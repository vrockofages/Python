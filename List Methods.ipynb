{
 "cells": [
  {
   "cell_type": "code",
   "execution_count": 15,
   "id": "95072f3a",
   "metadata": {},
   "outputs": [],
   "source": [
    "RyanList = [10,20,45,62,7,90.5,44423,11,8756.34334,4,5,6]"
   ]
  },
  {
   "cell_type": "code",
   "execution_count": 2,
   "id": "285fd307",
   "metadata": {},
   "outputs": [
    {
     "data": {
      "text/plain": [
       "[10, 20, 45, 62, 7, 90.5, 44423, 11, 8756.34334, 4, 5, 6]"
      ]
     },
     "execution_count": 2,
     "metadata": {},
     "output_type": "execute_result"
    }
   ],
   "source": [
    "RyanList"
   ]
  },
  {
   "cell_type": "code",
   "execution_count": 3,
   "id": "9f296a0f",
   "metadata": {},
   "outputs": [
    {
     "data": {
      "text/plain": [
       "12"
      ]
     },
     "execution_count": 3,
     "metadata": {},
     "output_type": "execute_result"
    }
   ],
   "source": [
    "len(RyanList)"
   ]
  },
  {
   "cell_type": "markdown",
   "id": "959b1a8e",
   "metadata": {},
   "source": [
    "# Append()"
   ]
  },
  {
   "cell_type": "code",
   "execution_count": 4,
   "id": "e07e0c0c",
   "metadata": {},
   "outputs": [],
   "source": [
    "#Adds the number 30 to the end of the list.\n",
    "RyanList.append(30)"
   ]
  },
  {
   "cell_type": "code",
   "execution_count": 16,
   "id": "205117d0",
   "metadata": {},
   "outputs": [
    {
     "data": {
      "text/plain": [
       "[10, 20, 45, 62, 7, 90.5, 44423, 11, 8756.34334, 4, 5, 6]"
      ]
     },
     "execution_count": 16,
     "metadata": {},
     "output_type": "execute_result"
    }
   ],
   "source": [
    "RyanList"
   ]
  },
  {
   "cell_type": "markdown",
   "id": "6593440b",
   "metadata": {},
   "source": [
    "# Extend()"
   ]
  },
  {
   "cell_type": "code",
   "execution_count": 6,
   "id": "1d70b773",
   "metadata": {},
   "outputs": [],
   "source": [
    "RyanList.extend([543, 192223.003, 399])"
   ]
  },
  {
   "cell_type": "code",
   "execution_count": 7,
   "id": "688803f9",
   "metadata": {},
   "outputs": [
    {
     "data": {
      "text/plain": [
       "[10,\n",
       " 20,\n",
       " 45,\n",
       " 62,\n",
       " 7,\n",
       " 90.5,\n",
       " 44423,\n",
       " 11,\n",
       " 8756.34334,\n",
       " 4,\n",
       " 5,\n",
       " 6,\n",
       " 30,\n",
       " 543,\n",
       " 192223.003,\n",
       " 399]"
      ]
     },
     "execution_count": 7,
     "metadata": {},
     "output_type": "execute_result"
    }
   ],
   "source": [
    "RyanList"
   ]
  },
  {
   "cell_type": "code",
   "execution_count": 9,
   "id": "bec6ee82",
   "metadata": {},
   "outputs": [],
   "source": [
    "MasonList = [34334, 5343, 10]"
   ]
  },
  {
   "cell_type": "code",
   "execution_count": 10,
   "id": "6833ef6f",
   "metadata": {},
   "outputs": [],
   "source": [
    "RyanList.extend(MasonList)"
   ]
  },
  {
   "cell_type": "code",
   "execution_count": 11,
   "id": "7979e4f0",
   "metadata": {},
   "outputs": [
    {
     "data": {
      "text/plain": [
       "[10,\n",
       " 20,\n",
       " 45,\n",
       " 62,\n",
       " 7,\n",
       " 90.5,\n",
       " 44423,\n",
       " 11,\n",
       " 8756.34334,\n",
       " 4,\n",
       " 5,\n",
       " 6,\n",
       " 30,\n",
       " 543,\n",
       " 192223.003,\n",
       " 399,\n",
       " 34334,\n",
       " 5343,\n",
       " 10]"
      ]
     },
     "execution_count": 11,
     "metadata": {},
     "output_type": "execute_result"
    }
   ],
   "source": [
    "RyanList"
   ]
  },
  {
   "cell_type": "code",
   "execution_count": 12,
   "id": "13a96a67",
   "metadata": {},
   "outputs": [
    {
     "data": {
      "text/plain": [
       "19"
      ]
     },
     "execution_count": 12,
     "metadata": {},
     "output_type": "execute_result"
    }
   ],
   "source": [
    "len(RyanList)"
   ]
  },
  {
   "cell_type": "code",
   "execution_count": 13,
   "id": "9d79b9e0",
   "metadata": {},
   "outputs": [
    {
     "data": {
      "text/plain": [
       "3"
      ]
     },
     "execution_count": 13,
     "metadata": {},
     "output_type": "execute_result"
    }
   ],
   "source": [
    "len(MasonList)"
   ]
  },
  {
   "cell_type": "code",
   "execution_count": 17,
   "id": "d91a126f",
   "metadata": {},
   "outputs": [
    {
     "data": {
      "text/plain": [
       "[34334, 5343, 10]"
      ]
     },
     "execution_count": 17,
     "metadata": {},
     "output_type": "execute_result"
    }
   ],
   "source": [
    "MasonList"
   ]
  },
  {
   "cell_type": "markdown",
   "id": "ae398204",
   "metadata": {},
   "source": [
    "# Insert"
   ]
  },
  {
   "cell_type": "code",
   "execution_count": 18,
   "id": "524106d2",
   "metadata": {},
   "outputs": [],
   "source": [
    "RyanList.insert(4, \"Booyah\")"
   ]
  },
  {
   "cell_type": "code",
   "execution_count": 19,
   "id": "e05fe81b",
   "metadata": {},
   "outputs": [
    {
     "data": {
      "text/plain": [
       "[10, 20, 45, 62, 'Booyah', 7, 90.5, 44423, 11, 8756.34334, 4, 5, 6]"
      ]
     },
     "execution_count": 19,
     "metadata": {},
     "output_type": "execute_result"
    }
   ],
   "source": [
    "RyanList"
   ]
  },
  {
   "cell_type": "code",
   "execution_count": 20,
   "id": "644012ec",
   "metadata": {},
   "outputs": [],
   "source": [
    "RyanList.extend(MasonList)"
   ]
  },
  {
   "cell_type": "code",
   "execution_count": 21,
   "id": "238469e4",
   "metadata": {},
   "outputs": [
    {
     "data": {
      "text/plain": [
       "[10,\n",
       " 20,\n",
       " 45,\n",
       " 62,\n",
       " 'Booyah',\n",
       " 7,\n",
       " 90.5,\n",
       " 44423,\n",
       " 11,\n",
       " 8756.34334,\n",
       " 4,\n",
       " 5,\n",
       " 6,\n",
       " 34334,\n",
       " 5343,\n",
       " 10]"
      ]
     },
     "execution_count": 21,
     "metadata": {},
     "output_type": "execute_result"
    }
   ],
   "source": [
    "RyanList"
   ]
  },
  {
   "cell_type": "code",
   "execution_count": 25,
   "id": "157d2f78",
   "metadata": {},
   "outputs": [],
   "source": [
    "# Pop\n",
    "#Gets rid of a particular element by position"
   ]
  },
  {
   "cell_type": "code",
   "execution_count": 22,
   "id": "b496a549",
   "metadata": {},
   "outputs": [
    {
     "data": {
      "text/plain": [
       "10"
      ]
     },
     "execution_count": 22,
     "metadata": {},
     "output_type": "execute_result"
    }
   ],
   "source": [
    "RyanList.pop()"
   ]
  },
  {
   "cell_type": "code",
   "execution_count": 23,
   "id": "34149971",
   "metadata": {},
   "outputs": [
    {
     "data": {
      "text/plain": [
       "5343"
      ]
     },
     "execution_count": 23,
     "metadata": {},
     "output_type": "execute_result"
    }
   ],
   "source": [
    "RyanList.pop(-1)"
   ]
  },
  {
   "cell_type": "code",
   "execution_count": 24,
   "id": "bb8b51ad",
   "metadata": {},
   "outputs": [
    {
     "data": {
      "text/plain": [
       "[10, 20, 45, 62, 'Booyah', 7, 90.5, 44423, 11, 8756.34334, 4, 5, 6, 34334]"
      ]
     },
     "execution_count": 24,
     "metadata": {},
     "output_type": "execute_result"
    }
   ],
   "source": [
    "RyanList"
   ]
  },
  {
   "cell_type": "markdown",
   "id": "dc7737f2",
   "metadata": {},
   "source": [
    "# Remove"
   ]
  },
  {
   "cell_type": "code",
   "execution_count": 26,
   "id": "84ffa484",
   "metadata": {},
   "outputs": [],
   "source": [
    "# Gets rid of the first occurrence of a particular #.\n",
    "RyanList.remove(62)"
   ]
  },
  {
   "cell_type": "code",
   "execution_count": 27,
   "id": "98b8647e",
   "metadata": {},
   "outputs": [
    {
     "data": {
      "text/plain": [
       "[10, 20, 45, 'Booyah', 7, 90.5, 44423, 11, 8756.34334, 4, 5, 6, 34334]"
      ]
     },
     "execution_count": 27,
     "metadata": {},
     "output_type": "execute_result"
    }
   ],
   "source": [
    "RyanList"
   ]
  },
  {
   "cell_type": "markdown",
   "id": "98e8281b",
   "metadata": {},
   "source": [
    "# Count"
   ]
  },
  {
   "cell_type": "code",
   "execution_count": 30,
   "id": "205fef04",
   "metadata": {},
   "outputs": [
    {
     "data": {
      "text/plain": [
       "[10, 20, 45, 'Booyah', 7, 90.5, 44423, 11, 8756.34334, 4, 5, 6, 34334]"
      ]
     },
     "execution_count": 30,
     "metadata": {},
     "output_type": "execute_result"
    }
   ],
   "source": [
    "RyanList"
   ]
  },
  {
   "cell_type": "code",
   "execution_count": 31,
   "id": "2d6c5aab",
   "metadata": {},
   "outputs": [
    {
     "data": {
      "text/plain": [
       "1"
      ]
     },
     "execution_count": 31,
     "metadata": {},
     "output_type": "execute_result"
    }
   ],
   "source": [
    "# Count # of occurrences of a variable\n",
    "RyanList.count('Booyah')"
   ]
  },
  {
   "cell_type": "markdown",
   "id": "a6e8db87",
   "metadata": {},
   "source": [
    "# Index"
   ]
  },
  {
   "cell_type": "code",
   "execution_count": 32,
   "id": "69d0a201",
   "metadata": {},
   "outputs": [
    {
     "data": {
      "text/plain": [
       "7"
      ]
     },
     "execution_count": 32,
     "metadata": {},
     "output_type": "execute_result"
    }
   ],
   "source": [
    "# Tells you index # of a variable\n",
    "RyanList.index(11)"
   ]
  },
  {
   "cell_type": "markdown",
   "id": "d838e125",
   "metadata": {},
   "source": [
    "# Reverse"
   ]
  },
  {
   "cell_type": "code",
   "execution_count": 33,
   "id": "72db4b62",
   "metadata": {},
   "outputs": [],
   "source": [
    "RyanList.reverse()"
   ]
  },
  {
   "cell_type": "code",
   "execution_count": 34,
   "id": "7a8f6d0c",
   "metadata": {},
   "outputs": [
    {
     "data": {
      "text/plain": [
       "[34334, 6, 5, 4, 8756.34334, 11, 44423, 90.5, 7, 'Booyah', 45, 20, 10]"
      ]
     },
     "execution_count": 34,
     "metadata": {},
     "output_type": "execute_result"
    }
   ],
   "source": [
    "RyanList"
   ]
  },
  {
   "cell_type": "markdown",
   "id": "78e9583c",
   "metadata": {},
   "source": [
    "# Sort"
   ]
  },
  {
   "cell_type": "code",
   "execution_count": 36,
   "id": "57391fa4",
   "metadata": {},
   "outputs": [
    {
     "ename": "TypeError",
     "evalue": "'<' not supported between instances of 'str' and 'int'",
     "output_type": "error",
     "traceback": [
      "\u001b[1;31m---------------------------------------------------------------------------\u001b[0m",
      "\u001b[1;31mTypeError\u001b[0m                                 Traceback (most recent call last)",
      "\u001b[1;32mC:\\Users\\RVAUGH~1.GRA\\AppData\\Local\\Temp/ipykernel_10088/610299579.py\u001b[0m in \u001b[0;36m<module>\u001b[1;34m\u001b[0m\n\u001b[1;32m----> 1\u001b[1;33m \u001b[0mRyanList\u001b[0m\u001b[1;33m.\u001b[0m\u001b[0msort\u001b[0m\u001b[1;33m(\u001b[0m\u001b[0mreverse\u001b[0m\u001b[1;33m=\u001b[0m\u001b[1;32mTrue\u001b[0m\u001b[1;33m)\u001b[0m\u001b[1;33m\u001b[0m\u001b[1;33m\u001b[0m\u001b[0m\n\u001b[0m",
      "\u001b[1;31mTypeError\u001b[0m: '<' not supported between instances of 'str' and 'int'"
     ]
    }
   ],
   "source": [
    "# Cannot use a sort with strings and integers\n",
    "RyanList.sort(reverse=True)"
   ]
  },
  {
   "cell_type": "markdown",
   "id": "43bb0095",
   "metadata": {},
   "source": [
    "# Len"
   ]
  },
  {
   "cell_type": "code",
   "execution_count": 38,
   "id": "45bc967c",
   "metadata": {},
   "outputs": [
    {
     "data": {
      "text/plain": [
       "13"
      ]
     },
     "execution_count": 38,
     "metadata": {},
     "output_type": "execute_result"
    }
   ],
   "source": [
    "len(RyanList)"
   ]
  },
  {
   "cell_type": "code",
   "execution_count": null,
   "id": "73a05b12",
   "metadata": {},
   "outputs": [],
   "source": []
  }
 ],
 "metadata": {
  "kernelspec": {
   "display_name": "Python 3 (ipykernel)",
   "language": "python",
   "name": "python3"
  },
  "language_info": {
   "codemirror_mode": {
    "name": "ipython",
    "version": 3
   },
   "file_extension": ".py",
   "mimetype": "text/x-python",
   "name": "python",
   "nbconvert_exporter": "python",
   "pygments_lexer": "ipython3",
   "version": "3.9.7"
  }
 },
 "nbformat": 4,
 "nbformat_minor": 5
}
