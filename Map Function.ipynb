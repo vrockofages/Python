{
 "cells": [
  {
   "cell_type": "markdown",
   "id": "210ad9b0",
   "metadata": {},
   "source": [
    "# Map Function"
   ]
  },
  {
   "cell_type": "code",
   "execution_count": 1,
   "id": "6490bb98",
   "metadata": {},
   "outputs": [],
   "source": [
    "# map(function, iterator)\n",
    "\n",
    "x=[1,3,5,7,9,11,13,15]\n",
    "\n",
    "def square(x):\n",
    "    return(x**2)\n",
    "\n",
    "y = map(square,x)    # \"square\" is our function and \"x\" is our LIST iterator"
   ]
  },
  {
   "cell_type": "code",
   "execution_count": 2,
   "id": "6ee6c345",
   "metadata": {},
   "outputs": [
    {
     "data": {
      "text/plain": [
       "map"
      ]
     },
     "execution_count": 2,
     "metadata": {},
     "output_type": "execute_result"
    }
   ],
   "source": [
    "type(y)"
   ]
  },
  {
   "cell_type": "code",
   "execution_count": 3,
   "id": "f0230739",
   "metadata": {},
   "outputs": [
    {
     "data": {
      "text/plain": [
       "[1, 9, 25, 49, 81, 121, 169, 225]"
      ]
     },
     "execution_count": 3,
     "metadata": {},
     "output_type": "execute_result"
    }
   ],
   "source": [
    "list(y)"
   ]
  },
  {
   "cell_type": "code",
   "execution_count": 4,
   "id": "e078d3dd",
   "metadata": {},
   "outputs": [],
   "source": [
    "a = (10, 20, 30, 40, 50, 60)   # Our TUPLE iterator\n",
    "\n",
    "def add(x):                    # \"add\" our function\n",
    "    return(x+50)\n",
    "\n",
    "b = map(add,a)"
   ]
  },
  {
   "cell_type": "code",
   "execution_count": 5,
   "id": "a19d2ee9",
   "metadata": {},
   "outputs": [
    {
     "data": {
      "text/plain": [
       "<map at 0x26c4b2df940>"
      ]
     },
     "execution_count": 5,
     "metadata": {},
     "output_type": "execute_result"
    }
   ],
   "source": [
    "b"
   ]
  },
  {
   "cell_type": "code",
   "execution_count": 6,
   "id": "9f4c001c",
   "metadata": {},
   "outputs": [
    {
     "data": {
      "text/plain": [
       "[60, 70, 80, 90, 100, 110]"
      ]
     },
     "execution_count": 6,
     "metadata": {},
     "output_type": "execute_result"
    }
   ],
   "source": [
    "list(b)"
   ]
  },
  {
   "cell_type": "code",
   "execution_count": 8,
   "id": "358a7c82",
   "metadata": {},
   "outputs": [],
   "source": [
    "x = [1,2,3,4,5,6,7,8]\n",
    "y = [10,20,30,40,50,60,70,80]\n",
    "\n",
    "def addition(x,y):\n",
    "    return(x+y)\n",
    "\n",
    "z = map(addition,x,y)"
   ]
  },
  {
   "cell_type": "code",
   "execution_count": 9,
   "id": "53ff5f14",
   "metadata": {},
   "outputs": [
    {
     "data": {
      "text/plain": [
       "[11, 22, 33, 44, 55, 66, 77, 88]"
      ]
     },
     "execution_count": 9,
     "metadata": {},
     "output_type": "execute_result"
    }
   ],
   "source": [
    "list(z)"
   ]
  },
  {
   "cell_type": "code",
   "execution_count": 13,
   "id": "8ec1c5a8",
   "metadata": {},
   "outputs": [],
   "source": [
    "e = [10,43,343,667,5858,8686]\n",
    "\n",
    "def oddOReven(x):\n",
    "    if x%2==0:\n",
    "        return(\"even\")\n",
    "    else:\n",
    "        return(\"odd\")"
   ]
  },
  {
   "cell_type": "code",
   "execution_count": 14,
   "id": "4662c52d",
   "metadata": {},
   "outputs": [
    {
     "data": {
      "text/plain": [
       "'even'"
      ]
     },
     "execution_count": 14,
     "metadata": {},
     "output_type": "execute_result"
    }
   ],
   "source": [
    "oddOReven(23838)"
   ]
  },
  {
   "cell_type": "code",
   "execution_count": 15,
   "id": "e07e8554",
   "metadata": {},
   "outputs": [],
   "source": [
    "y=map(oddOReven,e)"
   ]
  },
  {
   "cell_type": "code",
   "execution_count": 16,
   "id": "06fbd18c",
   "metadata": {},
   "outputs": [
    {
     "data": {
      "text/plain": [
       "['even', 'odd', 'odd', 'odd', 'even', 'even']"
      ]
     },
     "execution_count": 16,
     "metadata": {},
     "output_type": "execute_result"
    }
   ],
   "source": [
    "list(y)"
   ]
  },
  {
   "cell_type": "code",
   "execution_count": null,
   "id": "fd75bb7a",
   "metadata": {},
   "outputs": [],
   "source": []
  }
 ],
 "metadata": {
  "kernelspec": {
   "display_name": "Python 3 (ipykernel)",
   "language": "python",
   "name": "python3"
  },
  "language_info": {
   "codemirror_mode": {
    "name": "ipython",
    "version": 3
   },
   "file_extension": ".py",
   "mimetype": "text/x-python",
   "name": "python",
   "nbconvert_exporter": "python",
   "pygments_lexer": "ipython3",
   "version": "3.9.7"
  }
 },
 "nbformat": 4,
 "nbformat_minor": 5
}
