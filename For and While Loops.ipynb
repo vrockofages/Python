{
 "cells": [
  {
   "cell_type": "code",
   "execution_count": 1,
   "id": "c5e750b3",
   "metadata": {},
   "outputs": [
    {
     "data": {
      "text/plain": [
       "array('i', [3, 4, 4, 6, 3, 2, 4, 6, 4])"
      ]
     },
     "execution_count": 1,
     "metadata": {},
     "output_type": "execute_result"
    }
   ],
   "source": [
    "import array as arr\n",
    "a = arr.array('i', [3,4,4,6,3,2,4,6,4])\n",
    "a"
   ]
  },
  {
   "cell_type": "code",
   "execution_count": 7,
   "id": "e9ed6cb9",
   "metadata": {},
   "outputs": [
    {
     "name": "stdout",
     "output_type": "stream",
     "text": [
      "array('i', [3, 4, 4, 6, 3, 2, 4, 6, 4])\n",
      "array('i', [3, 4, 4, 6, 3, 2, 4, 6, 4])\n",
      "array('i', [3, 4, 4, 6, 3, 2, 4, 6, 4])\n",
      "array('i', [3, 4, 4, 6, 3, 2, 4, 6, 4])\n",
      "array('i', [3, 4, 4, 6, 3, 2, 4, 6, 4])\n",
      "array('i', [3, 4, 4, 6, 3, 2, 4, 6, 4])\n",
      "array('i', [3, 4, 4, 6, 3, 2, 4, 6, 4])\n",
      "array('i', [3, 4, 4, 6, 3, 2, 4, 6, 4])\n",
      "array('i', [3, 4, 4, 6, 3, 2, 4, 6, 4])\n"
     ]
    }
   ],
   "source": [
    "for x in a:\n",
    "    print(a)"
   ]
  },
  {
   "cell_type": "code",
   "execution_count": 6,
   "id": "2d8cd0f1",
   "metadata": {},
   "outputs": [
    {
     "data": {
      "text/plain": [
       "array('i', [3, 4, 4, 6, 3, 2, 4, 6, 4])"
      ]
     },
     "execution_count": 6,
     "metadata": {},
     "output_type": "execute_result"
    }
   ],
   "source": [
    "a\n",
    "    "
   ]
  },
  {
   "cell_type": "code",
   "execution_count": 8,
   "id": "ffbfd39c",
   "metadata": {},
   "outputs": [
    {
     "name": "stdout",
     "output_type": "stream",
     "text": [
      "3\n",
      "4\n",
      "4\n"
     ]
    }
   ],
   "source": [
    "for x in a[0:3]:\n",
    "    print(x)"
   ]
  },
  {
   "cell_type": "code",
   "execution_count": 10,
   "id": "db080b8f",
   "metadata": {},
   "outputs": [
    {
     "name": "stdout",
     "output_type": "stream",
     "text": [
      "3\n",
      "4\n",
      "4\n",
      "6\n",
      "3\n",
      "2\n",
      "4\n",
      "6\n",
      "4\n"
     ]
    }
   ],
   "source": [
    "for x in a:\n",
    "    print(x)"
   ]
  },
  {
   "cell_type": "code",
   "execution_count": 11,
   "id": "b3dbd98b",
   "metadata": {},
   "outputs": [
    {
     "data": {
      "text/plain": [
       "array('i', [3, 4, 4, 6, 3, 2, 4, 6, 4])"
      ]
     },
     "execution_count": 11,
     "metadata": {},
     "output_type": "execute_result"
    }
   ],
   "source": [
    "a\n"
   ]
  },
  {
   "cell_type": "code",
   "execution_count": 18,
   "id": "b635b4b9",
   "metadata": {},
   "outputs": [
    {
     "name": "stdout",
     "output_type": "stream",
     "text": [
      "3\n",
      "4\n",
      "4\n",
      "6\n"
     ]
    }
   ],
   "source": [
    "myiterator = 0\n",
    "while myiterator<a[8]:\n",
    "    print(a[myiterator])\n",
    "    myiterator = myiterator + 1"
   ]
  },
  {
   "cell_type": "code",
   "execution_count": 31,
   "id": "51946f45",
   "metadata": {},
   "outputs": [],
   "source": [
    "a.insert(11,12)"
   ]
  },
  {
   "cell_type": "code",
   "execution_count": 32,
   "id": "98d58d4d",
   "metadata": {},
   "outputs": [
    {
     "data": {
      "text/plain": [
       "array('i', [3, 4, 4, 6, 3, 2, 4, 6, 4, 12, 54, 12])"
      ]
     },
     "execution_count": 32,
     "metadata": {},
     "output_type": "execute_result"
    }
   ],
   "source": [
    "a"
   ]
  },
  {
   "cell_type": "code",
   "execution_count": 34,
   "id": "83b25427",
   "metadata": {},
   "outputs": [
    {
     "name": "stdout",
     "output_type": "stream",
     "text": [
      "3\n",
      "6\n",
      "4\n",
      "12\n"
     ]
    }
   ],
   "source": [
    "myiterator = 0\n",
    "while myiterator < a[11]:\n",
    "    print(a[myiterator])\n",
    "    myiterator = myiterator + 3"
   ]
  },
  {
   "cell_type": "code",
   "execution_count": 25,
   "id": "1a43854c",
   "metadata": {},
   "outputs": [
    {
     "data": {
      "text/plain": [
       "10"
      ]
     },
     "execution_count": 25,
     "metadata": {},
     "output_type": "execute_result"
    }
   ],
   "source": [
    "len(a)"
   ]
  },
  {
   "cell_type": "code",
   "execution_count": 26,
   "id": "c821e84f",
   "metadata": {},
   "outputs": [
    {
     "data": {
      "text/plain": [
       "array('i', [3, 4, 4, 6, 3, 2, 4, 6, 4, 54])"
      ]
     },
     "execution_count": 26,
     "metadata": {},
     "output_type": "execute_result"
    }
   ],
   "source": [
    "a"
   ]
  },
  {
   "cell_type": "code",
   "execution_count": null,
   "id": "dbd7efd8",
   "metadata": {},
   "outputs": [],
   "source": []
  }
 ],
 "metadata": {
  "kernelspec": {
   "display_name": "Python 3 (ipykernel)",
   "language": "python",
   "name": "python3"
  },
  "language_info": {
   "codemirror_mode": {
    "name": "ipython",
    "version": 3
   },
   "file_extension": ".py",
   "mimetype": "text/x-python",
   "name": "python",
   "nbconvert_exporter": "python",
   "pygments_lexer": "ipython3",
   "version": "3.9.7"
  }
 },
 "nbformat": 4,
 "nbformat_minor": 5
}
