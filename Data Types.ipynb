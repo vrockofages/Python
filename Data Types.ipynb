{
 "cells": [
  {
   "cell_type": "code",
   "execution_count": 1,
   "id": "8bca05b6",
   "metadata": {},
   "outputs": [],
   "source": [
    "x=10"
   ]
  },
  {
   "cell_type": "code",
   "execution_count": 2,
   "id": "883f7e08",
   "metadata": {},
   "outputs": [
    {
     "data": {
      "text/plain": [
       "int"
      ]
     },
     "execution_count": 2,
     "metadata": {},
     "output_type": "execute_result"
    }
   ],
   "source": [
    "type(x)"
   ]
  },
  {
   "cell_type": "code",
   "execution_count": 3,
   "id": "d9c27d80",
   "metadata": {},
   "outputs": [],
   "source": [
    "y='dog'"
   ]
  },
  {
   "cell_type": "code",
   "execution_count": 4,
   "id": "8dd461ab",
   "metadata": {},
   "outputs": [
    {
     "data": {
      "text/plain": [
       "str"
      ]
     },
     "execution_count": 4,
     "metadata": {},
     "output_type": "execute_result"
    }
   ],
   "source": [
    "type(y)"
   ]
  },
  {
   "cell_type": "code",
   "execution_count": 5,
   "id": "a3365e62",
   "metadata": {},
   "outputs": [],
   "source": [
    "z=56.32"
   ]
  },
  {
   "cell_type": "code",
   "execution_count": 6,
   "id": "8632a60b",
   "metadata": {},
   "outputs": [
    {
     "data": {
      "text/plain": [
       "float"
      ]
     },
     "execution_count": 6,
     "metadata": {},
     "output_type": "execute_result"
    }
   ],
   "source": [
    "type(z)"
   ]
  },
  {
   "cell_type": "code",
   "execution_count": 7,
   "id": "ae20cf36",
   "metadata": {},
   "outputs": [],
   "source": [
    "t = True"
   ]
  },
  {
   "cell_type": "code",
   "execution_count": 8,
   "id": "89be4600",
   "metadata": {},
   "outputs": [
    {
     "data": {
      "text/plain": [
       "bool"
      ]
     },
     "execution_count": 8,
     "metadata": {},
     "output_type": "execute_result"
    }
   ],
   "source": [
    "type(t)"
   ]
  },
  {
   "cell_type": "code",
   "execution_count": 9,
   "id": "e3fd496e",
   "metadata": {},
   "outputs": [],
   "source": [
    "B = [\"dog\", 20, True, \"cat\"]"
   ]
  },
  {
   "cell_type": "code",
   "execution_count": 10,
   "id": "f06b8622",
   "metadata": {},
   "outputs": [
    {
     "data": {
      "text/plain": [
       "list"
      ]
     },
     "execution_count": 10,
     "metadata": {},
     "output_type": "execute_result"
    }
   ],
   "source": [
    "type(B)"
   ]
  },
  {
   "cell_type": "code",
   "execution_count": 11,
   "id": "05b97b9c",
   "metadata": {},
   "outputs": [],
   "source": [
    "C = (\"rabbit\", 97764, \"bear\")"
   ]
  },
  {
   "cell_type": "code",
   "execution_count": 12,
   "id": "3c030d72",
   "metadata": {},
   "outputs": [
    {
     "data": {
      "text/plain": [
       "tuple"
      ]
     },
     "execution_count": 12,
     "metadata": {},
     "output_type": "execute_result"
    }
   ],
   "source": [
    "type(C)"
   ]
  },
  {
   "cell_type": "code",
   "execution_count": 13,
   "id": "5ee80e9c",
   "metadata": {},
   "outputs": [],
   "source": [
    "D = {\"bird\", 87934, False}"
   ]
  },
  {
   "cell_type": "code",
   "execution_count": 14,
   "id": "4f8966f9",
   "metadata": {},
   "outputs": [
    {
     "data": {
      "text/plain": [
       "set"
      ]
     },
     "execution_count": 14,
     "metadata": {},
     "output_type": "execute_result"
    }
   ],
   "source": [
    "type(D)"
   ]
  },
  {
   "cell_type": "code",
   "execution_count": 15,
   "id": "aa14394a",
   "metadata": {},
   "outputs": [],
   "source": [
    "E = {1: \"Ryan\", 2: \"PJ\", 3: \"Mason\", 4: \"Dez\"}"
   ]
  },
  {
   "cell_type": "code",
   "execution_count": 16,
   "id": "592f3231",
   "metadata": {},
   "outputs": [
    {
     "data": {
      "text/plain": [
       "dict"
      ]
     },
     "execution_count": 16,
     "metadata": {},
     "output_type": "execute_result"
    }
   ],
   "source": [
    "type(E)"
   ]
  },
  {
   "cell_type": "code",
   "execution_count": 17,
   "id": "80c9b193",
   "metadata": {},
   "outputs": [
    {
     "name": "stdout",
     "output_type": "stream",
     "text": [
      "Ryan\n"
     ]
    }
   ],
   "source": [
    "print(E[1])"
   ]
  },
  {
   "cell_type": "code",
   "execution_count": 18,
   "id": "ba5f4f10",
   "metadata": {},
   "outputs": [
    {
     "name": "stdout",
     "output_type": "stream",
     "text": [
      "PJ\n"
     ]
    }
   ],
   "source": [
    "print(E[2])"
   ]
  },
  {
   "cell_type": "code",
   "execution_count": 19,
   "id": "36d2ed7d",
   "metadata": {},
   "outputs": [
    {
     "name": "stdout",
     "output_type": "stream",
     "text": [
      "PJDez\n"
     ]
    }
   ],
   "source": [
    "print(E[2] + E[4])"
   ]
  },
  {
   "cell_type": "code",
   "execution_count": 20,
   "id": "98ac9a70",
   "metadata": {},
   "outputs": [],
   "source": [
    "F = {4, \"tiger\"}"
   ]
  },
  {
   "cell_type": "code",
   "execution_count": 21,
   "id": "35bf6152",
   "metadata": {},
   "outputs": [
    {
     "data": {
      "text/plain": [
       "set"
      ]
     },
     "execution_count": 21,
     "metadata": {},
     "output_type": "execute_result"
    }
   ],
   "source": [
    "type(F)"
   ]
  },
  {
   "cell_type": "markdown",
   "id": "a027318b",
   "metadata": {},
   "source": [
    "# TYPE CASTING"
   ]
  },
  {
   "cell_type": "code",
   "execution_count": 22,
   "id": "1eff1905",
   "metadata": {},
   "outputs": [],
   "source": [
    "x = '12'"
   ]
  },
  {
   "cell_type": "code",
   "execution_count": 23,
   "id": "8dbd3449",
   "metadata": {},
   "outputs": [
    {
     "data": {
      "text/plain": [
       "str"
      ]
     },
     "execution_count": 23,
     "metadata": {},
     "output_type": "execute_result"
    }
   ],
   "source": [
    "type(x)"
   ]
  },
  {
   "cell_type": "code",
   "execution_count": 24,
   "id": "0806c273",
   "metadata": {},
   "outputs": [
    {
     "data": {
      "text/plain": [
       "12"
      ]
     },
     "execution_count": 24,
     "metadata": {},
     "output_type": "execute_result"
    }
   ],
   "source": [
    "int(x)"
   ]
  },
  {
   "cell_type": "code",
   "execution_count": 26,
   "id": "9f61f849",
   "metadata": {},
   "outputs": [],
   "source": [
    "y = int(x)"
   ]
  },
  {
   "cell_type": "code",
   "execution_count": 27,
   "id": "3f3eaa3e",
   "metadata": {},
   "outputs": [
    {
     "data": {
      "text/plain": [
       "int"
      ]
     },
     "execution_count": 27,
     "metadata": {},
     "output_type": "execute_result"
    }
   ],
   "source": [
    "type(y)"
   ]
  },
  {
   "cell_type": "code",
   "execution_count": 28,
   "id": "8a894b25",
   "metadata": {},
   "outputs": [
    {
     "data": {
      "text/plain": [
       "74"
      ]
     },
     "execution_count": 28,
     "metadata": {},
     "output_type": "execute_result"
    }
   ],
   "source": [
    "int('74')"
   ]
  },
  {
   "cell_type": "code",
   "execution_count": 29,
   "id": "3d585767",
   "metadata": {},
   "outputs": [
    {
     "data": {
      "text/plain": [
       "8979"
      ]
     },
     "execution_count": 29,
     "metadata": {},
     "output_type": "execute_result"
    }
   ],
   "source": [
    "int(8979)"
   ]
  },
  {
   "cell_type": "code",
   "execution_count": 30,
   "id": "7e6259a7",
   "metadata": {},
   "outputs": [
    {
     "data": {
      "text/plain": [
       "12"
      ]
     },
     "execution_count": 30,
     "metadata": {},
     "output_type": "execute_result"
    }
   ],
   "source": [
    "int(12.23432)"
   ]
  },
  {
   "cell_type": "code",
   "execution_count": 31,
   "id": "b05af96e",
   "metadata": {},
   "outputs": [
    {
     "data": {
      "text/plain": [
       "56.7334"
      ]
     },
     "execution_count": 31,
     "metadata": {},
     "output_type": "execute_result"
    }
   ],
   "source": [
    "float(56.7334)"
   ]
  },
  {
   "cell_type": "code",
   "execution_count": 32,
   "id": "4a266f9b",
   "metadata": {},
   "outputs": [
    {
     "data": {
      "text/plain": [
       "'84745'"
      ]
     },
     "execution_count": 32,
     "metadata": {},
     "output_type": "execute_result"
    }
   ],
   "source": [
    "str(\"84745\")"
   ]
  },
  {
   "cell_type": "code",
   "execution_count": 33,
   "id": "2ae95c2e",
   "metadata": {},
   "outputs": [],
   "source": [
    "u = str(\"898934.03434\")"
   ]
  },
  {
   "cell_type": "code",
   "execution_count": 34,
   "id": "e9b7c93c",
   "metadata": {},
   "outputs": [
    {
     "data": {
      "text/plain": [
       "str"
      ]
     },
     "execution_count": 34,
     "metadata": {},
     "output_type": "execute_result"
    }
   ],
   "source": [
    "type(u)"
   ]
  },
  {
   "cell_type": "code",
   "execution_count": 35,
   "id": "298175a7",
   "metadata": {},
   "outputs": [
    {
     "data": {
      "text/plain": [
       "12"
      ]
     },
     "execution_count": 35,
     "metadata": {},
     "output_type": "execute_result"
    }
   ],
   "source": [
    "int(12.21)"
   ]
  },
  {
   "cell_type": "code",
   "execution_count": 36,
   "id": "6c4cd716",
   "metadata": {},
   "outputs": [
    {
     "data": {
      "text/plain": [
       "12.0"
      ]
     },
     "execution_count": 36,
     "metadata": {},
     "output_type": "execute_result"
    }
   ],
   "source": [
    "float(12)"
   ]
  },
  {
   "cell_type": "code",
   "execution_count": null,
   "id": "0ec81c55",
   "metadata": {},
   "outputs": [],
   "source": []
  }
 ],
 "metadata": {
  "kernelspec": {
   "display_name": "Python 3 (ipykernel)",
   "language": "python",
   "name": "python3"
  },
  "language_info": {
   "codemirror_mode": {
    "name": "ipython",
    "version": 3
   },
   "file_extension": ".py",
   "mimetype": "text/x-python",
   "name": "python",
   "nbconvert_exporter": "python",
   "pygments_lexer": "ipython3",
   "version": "3.9.7"
  }
 },
 "nbformat": 4,
 "nbformat_minor": 5
}
