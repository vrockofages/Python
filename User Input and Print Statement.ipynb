{
 "cells": [
  {
   "cell_type": "code",
   "execution_count": 1,
   "id": "f8f1036d",
   "metadata": {},
   "outputs": [
    {
     "name": "stdout",
     "output_type": "stream",
     "text": [
      "How old are you?12\n"
     ]
    },
    {
     "data": {
      "text/plain": [
       "'12'"
      ]
     },
     "execution_count": 1,
     "metadata": {},
     "output_type": "execute_result"
    }
   ],
   "source": [
    "input(\"How old are you?\")"
   ]
  },
  {
   "cell_type": "code",
   "execution_count": 2,
   "id": "32c1f798",
   "metadata": {},
   "outputs": [
    {
     "name": "stdout",
     "output_type": "stream",
     "text": [
      "Enter your age47\n"
     ]
    }
   ],
   "source": [
    "x = input(\"Enter your age\")"
   ]
  },
  {
   "cell_type": "code",
   "execution_count": 3,
   "id": "620a2d6e",
   "metadata": {},
   "outputs": [
    {
     "data": {
      "text/plain": [
       "'47'"
      ]
     },
     "execution_count": 3,
     "metadata": {},
     "output_type": "execute_result"
    }
   ],
   "source": [
    "x"
   ]
  },
  {
   "cell_type": "code",
   "execution_count": 4,
   "id": "e80614ed",
   "metadata": {},
   "outputs": [
    {
     "data": {
      "text/plain": [
       "47"
      ]
     },
     "execution_count": 4,
     "metadata": {},
     "output_type": "execute_result"
    }
   ],
   "source": [
    "int(x)"
   ]
  },
  {
   "cell_type": "code",
   "execution_count": 5,
   "id": "a097b31b",
   "metadata": {},
   "outputs": [
    {
     "data": {
      "text/plain": [
       "str"
      ]
     },
     "execution_count": 5,
     "metadata": {},
     "output_type": "execute_result"
    }
   ],
   "source": [
    "type(x)"
   ]
  },
  {
   "cell_type": "code",
   "execution_count": 6,
   "id": "a1739f0e",
   "metadata": {},
   "outputs": [],
   "source": [
    "x = int(x)"
   ]
  },
  {
   "cell_type": "code",
   "execution_count": 7,
   "id": "4f84de59",
   "metadata": {},
   "outputs": [
    {
     "data": {
      "text/plain": [
       "int"
      ]
     },
     "execution_count": 7,
     "metadata": {},
     "output_type": "execute_result"
    }
   ],
   "source": [
    "type(x)"
   ]
  },
  {
   "cell_type": "markdown",
   "id": "6bb2bda7",
   "metadata": {},
   "source": [
    "# Print Statements"
   ]
  },
  {
   "cell_type": "code",
   "execution_count": 8,
   "id": "4c7ea3dd",
   "metadata": {},
   "outputs": [
    {
     "name": "stdout",
     "output_type": "stream",
     "text": [
      "47\n"
     ]
    }
   ],
   "source": [
    "print(x)"
   ]
  },
  {
   "cell_type": "code",
   "execution_count": 9,
   "id": "69075b29",
   "metadata": {},
   "outputs": [
    {
     "name": "stdout",
     "output_type": "stream",
     "text": [
      "25\n"
     ]
    }
   ],
   "source": [
    "print(25)"
   ]
  },
  {
   "cell_type": "code",
   "execution_count": 10,
   "id": "1df8bc83",
   "metadata": {},
   "outputs": [
    {
     "name": "stdout",
     "output_type": "stream",
     "text": [
      "hello\n"
     ]
    }
   ],
   "source": [
    "print(\"hello\")"
   ]
  },
  {
   "cell_type": "code",
   "execution_count": 12,
   "id": "10fbad2c",
   "metadata": {},
   "outputs": [
    {
     "name": "stdout",
     "output_type": "stream",
     "text": [
      "My age is 47\n"
     ]
    }
   ],
   "source": [
    "print(\"My age is \" + str(x))"
   ]
  },
  {
   "cell_type": "code",
   "execution_count": 13,
   "id": "a7366bbd",
   "metadata": {},
   "outputs": [
    {
     "data": {
      "text/plain": [
       "int"
      ]
     },
     "execution_count": 13,
     "metadata": {},
     "output_type": "execute_result"
    }
   ],
   "source": [
    "type(x)"
   ]
  },
  {
   "cell_type": "code",
   "execution_count": 31,
   "id": "25c3271b",
   "metadata": {},
   "outputs": [
    {
     "name": "stdout",
     "output_type": "stream",
     "text": [
      "What is Mason's age?13\n"
     ]
    }
   ],
   "source": [
    "a = input(\"What is Mason's age?\")"
   ]
  },
  {
   "cell_type": "code",
   "execution_count": 32,
   "id": "023ccd7a",
   "metadata": {},
   "outputs": [],
   "source": [
    "b = int(a) + 34"
   ]
  },
  {
   "cell_type": "code",
   "execution_count": 34,
   "id": "67c97c3d",
   "metadata": {},
   "outputs": [
    {
     "name": "stdout",
     "output_type": "stream",
     "text": [
      "47\n"
     ]
    }
   ],
   "source": [
    "print(b)"
   ]
  },
  {
   "cell_type": "code",
   "execution_count": 37,
   "id": "8efcb6ce",
   "metadata": {},
   "outputs": [
    {
     "name": "stdout",
     "output_type": "stream",
     "text": [
      "Mason is 13 and Ryan is 47\n"
     ]
    }
   ],
   "source": [
    "print(\"Mason is \" + str(a) + \" and Ryan is \" + str(b))"
   ]
  },
  {
   "cell_type": "code",
   "execution_count": 44,
   "id": "4157b0f0",
   "metadata": {},
   "outputs": [
    {
     "name": "stdout",
     "output_type": "stream",
     "text": [
      "Mason is 13 and Ryan is 47 years old\n"
     ]
    }
   ],
   "source": [
    "print(\"Mason is {x} and Ryan is {y} years old\".format(x=a,y=b))"
   ]
  },
  {
   "cell_type": "code",
   "execution_count": 47,
   "id": "27693993",
   "metadata": {},
   "outputs": [
    {
     "name": "stdout",
     "output_type": "stream",
     "text": [
      "Mason is 13 years old and his Father is 47 years old.\n"
     ]
    }
   ],
   "source": [
    "print(\"Mason is {0} years old and his Father is {1} years old.\". format(a,b))"
   ]
  },
  {
   "cell_type": "code",
   "execution_count": 49,
   "id": "6fddeebe",
   "metadata": {},
   "outputs": [
    {
     "name": "stdout",
     "output_type": "stream",
     "text": [
      "Mason likes Travis Scott and Ryan likes Def Leppard.\n"
     ]
    }
   ],
   "source": [
    "print(\"Mason likes {0} and Ryan likes {1}.\".format(\"Travis Scott\", \"Def Leppard\"))"
   ]
  },
  {
   "cell_type": "code",
   "execution_count": 50,
   "id": "63ef8f19",
   "metadata": {},
   "outputs": [
    {
     "name": "stdout",
     "output_type": "stream",
     "text": [
      "Joel likes 30, Ryan likes65, Ashley likes100\n"
     ]
    }
   ],
   "source": [
    "print(\"Joel likes {}, Ryan likes{}, Ashley likes{}\".format(30, 65, 100))"
   ]
  },
  {
   "cell_type": "code",
   "execution_count": null,
   "id": "735c73ce",
   "metadata": {},
   "outputs": [],
   "source": []
  }
 ],
 "metadata": {
  "kernelspec": {
   "display_name": "Python 3 (ipykernel)",
   "language": "python",
   "name": "python3"
  },
  "language_info": {
   "codemirror_mode": {
    "name": "ipython",
    "version": 3
   },
   "file_extension": ".py",
   "mimetype": "text/x-python",
   "name": "python",
   "nbconvert_exporter": "python",
   "pygments_lexer": "ipython3",
   "version": "3.9.7"
  }
 },
 "nbformat": 4,
 "nbformat_minor": 5
}
