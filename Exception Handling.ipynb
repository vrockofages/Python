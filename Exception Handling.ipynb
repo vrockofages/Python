{
 "cells": [
  {
   "cell_type": "markdown",
   "id": "01d2b7c1",
   "metadata": {},
   "source": [
    "# Exception Handling"
   ]
  },
  {
   "cell_type": "code",
   "execution_count": 1,
   "id": "bd5045fe",
   "metadata": {},
   "outputs": [
    {
     "ename": "NameError",
     "evalue": "name 'dog' is not defined",
     "output_type": "error",
     "traceback": [
      "\u001b[1;31m---------------------------------------------------------------------------\u001b[0m",
      "\u001b[1;31mNameError\u001b[0m                                 Traceback (most recent call last)",
      "\u001b[1;32mC:\\Users\\RVAUGH~1.GRA\\AppData\\Local\\Temp/ipykernel_17580/901048440.py\u001b[0m in \u001b[0;36m<module>\u001b[1;34m\u001b[0m\n\u001b[1;32m----> 1\u001b[1;33m \u001b[0mprint\u001b[0m\u001b[1;33m(\u001b[0m\u001b[0mdog\u001b[0m\u001b[1;33m)\u001b[0m\u001b[1;33m\u001b[0m\u001b[1;33m\u001b[0m\u001b[0m\n\u001b[0m",
      "\u001b[1;31mNameError\u001b[0m: name 'dog' is not defined"
     ]
    }
   ],
   "source": [
    "print(dog)"
   ]
  },
  {
   "cell_type": "code",
   "execution_count": 2,
   "id": "023c7d66",
   "metadata": {},
   "outputs": [
    {
     "name": "stdout",
     "output_type": "stream",
     "text": [
      "Define the variable silly\n"
     ]
    }
   ],
   "source": [
    "try: \n",
    "    print(x)\n",
    "except:\n",
    "    print(\"Define the variable silly\")\n",
    "    "
   ]
  },
  {
   "cell_type": "code",
   "execution_count": 7,
   "id": "0bc2bd03",
   "metadata": {},
   "outputs": [
    {
     "name": "stdout",
     "output_type": "stream",
     "text": [
      "x is not an integer\n"
     ]
    }
   ],
   "source": [
    "x= \"You rock player\"\n",
    "try:\n",
    "    y = int(x)\n",
    "except:\n",
    "    print(\"x is not an integer\")\n",
    "\n"
   ]
  },
  {
   "cell_type": "code",
   "execution_count": 14,
   "id": "4b73dba1",
   "metadata": {},
   "outputs": [
    {
     "name": "stdout",
     "output_type": "stream",
     "text": [
      "Enter a number\n",
      "Finished.....\n"
     ]
    }
   ],
   "source": [
    "f = \"hello\"\n",
    "try:\n",
    "    y = float(f)\n",
    "    print(y)\n",
    "except:\n",
    "    print(\"Enter a number\")\n",
    "finally:\n",
    "    print(\"Finished.....\")"
   ]
  },
  {
   "cell_type": "code",
   "execution_count": 26,
   "id": "140e5b57",
   "metadata": {},
   "outputs": [
    {
     "name": "stdout",
     "output_type": "stream",
     "text": [
      "enter age: 58\n",
      "83\n",
      "Finished processing\n"
     ]
    }
   ],
   "source": [
    "def age():\n",
    "    try:\n",
    "        x=input(\"enter age: \")\n",
    "        y=int(x)+25\n",
    "        print(y)\n",
    "    except:\n",
    "        print(\"Enter a Number!\")\n",
    "        age()\n",
    "    finally:\n",
    "        print(\"Finished processing\")\n",
    "age()"
   ]
  },
  {
   "cell_type": "markdown",
   "id": "8d08b357",
   "metadata": {},
   "source": [
    "# Name Error"
   ]
  },
  {
   "cell_type": "code",
   "execution_count": 28,
   "id": "e5b36a9a",
   "metadata": {},
   "outputs": [
    {
     "name": "stdout",
     "output_type": "stream",
     "text": [
      "define h:\n"
     ]
    }
   ],
   "source": [
    "try:\n",
    "    print(h)\n",
    "except NameError:\n",
    "    print(\"define h:\")"
   ]
  },
  {
   "cell_type": "markdown",
   "id": "2258a676",
   "metadata": {},
   "source": [
    "# Type Error"
   ]
  },
  {
   "cell_type": "code",
   "execution_count": 32,
   "id": "47df2cb2",
   "metadata": {},
   "outputs": [
    {
     "name": "stdout",
     "output_type": "stream",
     "text": [
      "Both should be numbers!\n",
      "Finished\n"
     ]
    }
   ],
   "source": [
    "x = 87\n",
    "y = \"Hello\"\n",
    "\n",
    "\n",
    "try:\n",
    "    print(x+y)\n",
    "except TypeError:\n",
    "    print(\"Both should be numbers!\")\n",
    "finally: print(\"Finished\")"
   ]
  },
  {
   "cell_type": "markdown",
   "id": "1b87524b",
   "metadata": {},
   "source": [
    "# Value Error"
   ]
  },
  {
   "cell_type": "code",
   "execution_count": 34,
   "id": "1ec86f6f",
   "metadata": {},
   "outputs": [
    {
     "name": "stdout",
     "output_type": "stream",
     "text": [
      "Enter a number!\n",
      "Finished\n"
     ]
    }
   ],
   "source": [
    "x = \"Yo what's up homeboy?\"\n",
    "try: \n",
    "    print(int(x))\n",
    "except ValueError:\n",
    "    print(\"Enter a number!\")\n",
    "finally:\n",
    "    print(\"Finished\")"
   ]
  },
  {
   "cell_type": "markdown",
   "id": "8e33c6ce",
   "metadata": {},
   "source": [
    "# Zero Division Error"
   ]
  },
  {
   "cell_type": "code",
   "execution_count": 36,
   "id": "42af2ea5",
   "metadata": {},
   "outputs": [
    {
     "name": "stdout",
     "output_type": "stream",
     "text": [
      "Cannot divide by zero\n",
      "Finished processing\n"
     ]
    }
   ],
   "source": [
    "r = 7\n",
    "s = 0\n",
    "try:\n",
    "    print(r/s)\n",
    "except ZeroDivisionError:\n",
    "    print(\"Cannot divide by zero\")\n",
    "finally:\n",
    "    print(\"Finished processing\")"
   ]
  },
  {
   "cell_type": "markdown",
   "id": "1cb311d0",
   "metadata": {},
   "source": [
    "# Raise Exception"
   ]
  },
  {
   "cell_type": "code",
   "execution_count": 57,
   "id": "0dee1003",
   "metadata": {},
   "outputs": [
    {
     "ename": "Exception",
     "evalue": "Number entered is not in the list!!",
     "output_type": "error",
     "traceback": [
      "\u001b[1;31m---------------------------------------------------------------------------\u001b[0m",
      "\u001b[1;31mException\u001b[0m                                 Traceback (most recent call last)",
      "\u001b[1;32mC:\\Users\\RVAUGH~1.GRA\\AppData\\Local\\Temp/ipykernel_17580/1184358630.py\u001b[0m in \u001b[0;36m<module>\u001b[1;34m\u001b[0m\n\u001b[0;32m      5\u001b[0m \u001b[0mx\u001b[0m \u001b[1;33m=\u001b[0m \u001b[1;36m5154\u001b[0m\u001b[1;33m\u001b[0m\u001b[1;33m\u001b[0m\u001b[0m\n\u001b[0;32m      6\u001b[0m \u001b[1;32mif\u001b[0m \u001b[0mx\u001b[0m \u001b[1;32mnot\u001b[0m \u001b[1;32min\u001b[0m \u001b[0mlist1\u001b[0m\u001b[1;33m:\u001b[0m\u001b[1;33m\u001b[0m\u001b[1;33m\u001b[0m\u001b[0m\n\u001b[1;32m----> 7\u001b[1;33m     \u001b[1;32mraise\u001b[0m \u001b[0mException\u001b[0m\u001b[1;33m(\u001b[0m\u001b[1;34m\"Number entered is not in the list!!\"\u001b[0m\u001b[1;33m)\u001b[0m    \u001b[1;31m# Will print out a customized Exception msg.\u001b[0m\u001b[1;33m\u001b[0m\u001b[1;33m\u001b[0m\u001b[0m\n\u001b[0m\u001b[0;32m      8\u001b[0m \u001b[0mlist1\u001b[0m\u001b[1;33m.\u001b[0m\u001b[0mindex\u001b[0m\u001b[1;33m(\u001b[0m\u001b[0mx\u001b[0m\u001b[1;33m)\u001b[0m\u001b[1;33m\u001b[0m\u001b[1;33m\u001b[0m\u001b[0m\n",
      "\u001b[1;31mException\u001b[0m: Number entered is not in the list!!"
     ]
    }
   ],
   "source": [
    "list1 = [2,34,366,2543,443354,45,43,22222,1,2,3]\n",
    "#list1[15]    # will look for index 15 which is out of our range\n",
    "#list1.index(6)  Will find the index value of \"6\"  However, \"6\" is not in our list\n",
    "\n",
    "x = 5154\n",
    "if x not in list1:\n",
    "    raise Exception(\"Number entered is not in the list!!\")    # Will print out a customized Exception msg.\n",
    "list1.index(x)"
   ]
  },
  {
   "cell_type": "code",
   "execution_count": 72,
   "id": "1e4c623d",
   "metadata": {},
   "outputs": [
    {
     "name": "stdout",
     "output_type": "stream",
     "text": [
      "5 10\n"
     ]
    }
   ],
   "source": [
    "l2 = [1,3,3,5,5,3,5,32,5,6,76,432234,455,232]\n",
    "x = 76\n",
    "y = 8\n",
    "\n",
    "if x not in l2:\n",
    "    raise Exception(\"Number entered is not in the list!!!\")\n",
    "l2.index(x)\n",
    "if y not in range(0,len(l2)-1):\n",
    "    raise Exception(\"Index is out of range!!!\")\n",
    "print(l2[y],l2.index(x))   "
   ]
  },
  {
   "cell_type": "code",
   "execution_count": 7,
   "id": "9b4031a8",
   "metadata": {},
   "outputs": [],
   "source": []
  }
 ],
 "metadata": {
  "kernelspec": {
   "display_name": "Python 3 (ipykernel)",
   "language": "python",
   "name": "python3"
  },
  "language_info": {
   "codemirror_mode": {
    "name": "ipython",
    "version": 3
   },
   "file_extension": ".py",
   "mimetype": "text/x-python",
   "name": "python",
   "nbconvert_exporter": "python",
   "pygments_lexer": "ipython3",
   "version": "3.9.7"
  }
 },
 "nbformat": 4,
 "nbformat_minor": 5
}
