{
 "cells": [
  {
   "cell_type": "code",
   "execution_count": 1,
   "id": "56c8b245",
   "metadata": {},
   "outputs": [],
   "source": [
    "Ryan = [1,2,6,68,52,99,'dog']"
   ]
  },
  {
   "cell_type": "code",
   "execution_count": 2,
   "id": "07c55d33",
   "metadata": {},
   "outputs": [
    {
     "data": {
      "text/plain": [
       "52"
      ]
     },
     "execution_count": 2,
     "metadata": {},
     "output_type": "execute_result"
    }
   ],
   "source": [
    "Ryan[4]"
   ]
  },
  {
   "cell_type": "code",
   "execution_count": 3,
   "id": "d09a6210",
   "metadata": {},
   "outputs": [
    {
     "data": {
      "text/plain": [
       "'dog'"
      ]
     },
     "execution_count": 3,
     "metadata": {},
     "output_type": "execute_result"
    }
   ],
   "source": [
    "Ryan[6]"
   ]
  },
  {
   "cell_type": "code",
   "execution_count": 4,
   "id": "d265dcba",
   "metadata": {},
   "outputs": [
    {
     "data": {
      "text/plain": [
       "'dog'"
      ]
     },
     "execution_count": 4,
     "metadata": {},
     "output_type": "execute_result"
    }
   ],
   "source": [
    "Ryan[-1]"
   ]
  },
  {
   "cell_type": "code",
   "execution_count": 5,
   "id": "ccf5932f",
   "metadata": {},
   "outputs": [
    {
     "data": {
      "text/plain": [
       "52"
      ]
     },
     "execution_count": 5,
     "metadata": {},
     "output_type": "execute_result"
    }
   ],
   "source": [
    "Ryan[-3]"
   ]
  },
  {
   "cell_type": "code",
   "execution_count": 6,
   "id": "663d786b",
   "metadata": {},
   "outputs": [
    {
     "data": {
      "text/plain": [
       "7"
      ]
     },
     "execution_count": 6,
     "metadata": {},
     "output_type": "execute_result"
    }
   ],
   "source": [
    "len(Ryan)"
   ]
  },
  {
   "cell_type": "code",
   "execution_count": 7,
   "id": "a409bf35",
   "metadata": {},
   "outputs": [
    {
     "data": {
      "text/plain": [
       "[1, 2, 6]"
      ]
     },
     "execution_count": 7,
     "metadata": {},
     "output_type": "execute_result"
    }
   ],
   "source": [
    "Ryan[0:3]"
   ]
  },
  {
   "cell_type": "code",
   "execution_count": 8,
   "id": "9e408bcc",
   "metadata": {},
   "outputs": [
    {
     "data": {
      "text/plain": [
       "[6, 68]"
      ]
     },
     "execution_count": 8,
     "metadata": {},
     "output_type": "execute_result"
    }
   ],
   "source": [
    "Ryan[2:4]"
   ]
  },
  {
   "cell_type": "code",
   "execution_count": 9,
   "id": "e4c3f2e0",
   "metadata": {},
   "outputs": [
    {
     "data": {
      "text/plain": [
       "[68, 52, 99, 'dog']"
      ]
     },
     "execution_count": 9,
     "metadata": {},
     "output_type": "execute_result"
    }
   ],
   "source": [
    "Ryan[3:]"
   ]
  },
  {
   "cell_type": "code",
   "execution_count": 10,
   "id": "e2bd80d4",
   "metadata": {},
   "outputs": [
    {
     "data": {
      "text/plain": [
       "[68, 52, 99]"
      ]
     },
     "execution_count": 10,
     "metadata": {},
     "output_type": "execute_result"
    }
   ],
   "source": [
    "Ryan[3:-1]"
   ]
  },
  {
   "cell_type": "code",
   "execution_count": 11,
   "id": "948721ca",
   "metadata": {},
   "outputs": [
    {
     "data": {
      "text/plain": [
       "[1, 2, 6, 68, 52, 99, 'dog']"
      ]
     },
     "execution_count": 11,
     "metadata": {},
     "output_type": "execute_result"
    }
   ],
   "source": [
    "Ryan"
   ]
  },
  {
   "cell_type": "code",
   "execution_count": 12,
   "id": "5d72fdd2",
   "metadata": {},
   "outputs": [
    {
     "data": {
      "text/plain": [
       "[6, 68, 52]"
      ]
     },
     "execution_count": 12,
     "metadata": {},
     "output_type": "execute_result"
    }
   ],
   "source": [
    "Ryan[2:5]"
   ]
  },
  {
   "cell_type": "code",
   "execution_count": 13,
   "id": "4ddb7ea9",
   "metadata": {},
   "outputs": [
    {
     "data": {
      "text/plain": [
       "[1, 2, 6, 68, 52]"
      ]
     },
     "execution_count": 13,
     "metadata": {},
     "output_type": "execute_result"
    }
   ],
   "source": [
    "Ryan[:5]"
   ]
  },
  {
   "cell_type": "code",
   "execution_count": 14,
   "id": "5f241356",
   "metadata": {},
   "outputs": [],
   "source": [
    "Names = ['Ryan', 'Mason', 'PJ', 'Dez', 'Joe', 'Paul', 'Jesse', 'Wyatt', 'Ogre']"
   ]
  },
  {
   "cell_type": "code",
   "execution_count": 16,
   "id": "824b6804",
   "metadata": {},
   "outputs": [
    {
     "data": {
      "text/plain": [
       "['Ryan', 'Mason', 'PJ', 'Dez', 'Joe', 'Paul', 'Jesse', 'Wyatt', 'Ogre']"
      ]
     },
     "execution_count": 16,
     "metadata": {},
     "output_type": "execute_result"
    }
   ],
   "source": [
    "Names[0:9:1]"
   ]
  },
  {
   "cell_type": "code",
   "execution_count": 17,
   "id": "197ba1a1",
   "metadata": {},
   "outputs": [
    {
     "data": {
      "text/plain": [
       "['Ryan', 'PJ', 'Joe', 'Jesse', 'Ogre']"
      ]
     },
     "execution_count": 17,
     "metadata": {},
     "output_type": "execute_result"
    }
   ],
   "source": [
    "Names[0:9:2]"
   ]
  },
  {
   "cell_type": "code",
   "execution_count": 18,
   "id": "3c76d099",
   "metadata": {},
   "outputs": [
    {
     "data": {
      "text/plain": [
       "['Ryan', 'Dez', 'Jesse']"
      ]
     },
     "execution_count": 18,
     "metadata": {},
     "output_type": "execute_result"
    }
   ],
   "source": [
    "Names[0:9:3]"
   ]
  },
  {
   "cell_type": "code",
   "execution_count": 19,
   "id": "d5e368e0",
   "metadata": {},
   "outputs": [
    {
     "data": {
      "text/plain": [
       "['PJ', 'Joe', 'Jesse']"
      ]
     },
     "execution_count": 19,
     "metadata": {},
     "output_type": "execute_result"
    }
   ],
   "source": [
    "Names[2:7:2]"
   ]
  },
  {
   "cell_type": "code",
   "execution_count": 20,
   "id": "e62bc639",
   "metadata": {},
   "outputs": [
    {
     "data": {
      "text/plain": [
       "['PJ', 'Joe', 'Jesse', 'Ogre']"
      ]
     },
     "execution_count": 20,
     "metadata": {},
     "output_type": "execute_result"
    }
   ],
   "source": [
    "Names[2:9:2]"
   ]
  },
  {
   "cell_type": "code",
   "execution_count": 21,
   "id": "1a5a8d40",
   "metadata": {},
   "outputs": [
    {
     "data": {
      "text/plain": [
       "['Ogre', 'Wyatt', 'Jesse', 'Paul', 'Joe', 'Dez', 'PJ']"
      ]
     },
     "execution_count": 21,
     "metadata": {},
     "output_type": "execute_result"
    }
   ],
   "source": [
    "Names[-1:1:-1]"
   ]
  },
  {
   "cell_type": "code",
   "execution_count": 23,
   "id": "d23000d0",
   "metadata": {},
   "outputs": [
    {
     "data": {
      "text/plain": [
       "[]"
      ]
     },
     "execution_count": 23,
     "metadata": {},
     "output_type": "execute_result"
    }
   ],
   "source": [
    "Names[-1:0:]"
   ]
  },
  {
   "cell_type": "code",
   "execution_count": 25,
   "id": "f1cf8ba5",
   "metadata": {},
   "outputs": [
    {
     "data": {
      "text/plain": [
       "['Ogre', 'Wyatt', 'Jesse', 'Paul', 'Joe', 'Dez', 'PJ']"
      ]
     },
     "execution_count": 25,
     "metadata": {},
     "output_type": "execute_result"
    }
   ],
   "source": [
    "Names[-1:1:-1]"
   ]
  },
  {
   "cell_type": "code",
   "execution_count": 26,
   "id": "90d7318c",
   "metadata": {},
   "outputs": [
    {
     "data": {
      "text/plain": [
       "['Ogre', 'Jesse', 'Joe', 'PJ']"
      ]
     },
     "execution_count": 26,
     "metadata": {},
     "output_type": "execute_result"
    }
   ],
   "source": [
    "Names[-1:1:-2]"
   ]
  },
  {
   "cell_type": "code",
   "execution_count": 27,
   "id": "fc6a9d84",
   "metadata": {},
   "outputs": [
    {
     "data": {
      "text/plain": [
       "['Ryan', 'Mason', 'PJ', 'Dez', 'Joe', 'Paul', 'Jesse', 'Wyatt', 'Ogre']"
      ]
     },
     "execution_count": 27,
     "metadata": {},
     "output_type": "execute_result"
    }
   ],
   "source": [
    "Names"
   ]
  },
  {
   "cell_type": "code",
   "execution_count": 28,
   "id": "3d0abf6f",
   "metadata": {},
   "outputs": [
    {
     "data": {
      "text/plain": [
       "['Ogre', 'Wyatt', 'Jesse', 'Paul', 'Joe', 'Dez', 'PJ', 'Mason', 'Ryan']"
      ]
     },
     "execution_count": 28,
     "metadata": {},
     "output_type": "execute_result"
    }
   ],
   "source": [
    "#Reverse the list\n",
    "Names[::-1]"
   ]
  },
  {
   "cell_type": "code",
   "execution_count": null,
   "id": "18281bb1",
   "metadata": {},
   "outputs": [],
   "source": []
  }
 ],
 "metadata": {
  "kernelspec": {
   "display_name": "Python 3 (ipykernel)",
   "language": "python",
   "name": "python3"
  },
  "language_info": {
   "codemirror_mode": {
    "name": "ipython",
    "version": 3
   },
   "file_extension": ".py",
   "mimetype": "text/x-python",
   "name": "python",
   "nbconvert_exporter": "python",
   "pygments_lexer": "ipython3",
   "version": "3.9.7"
  }
 },
 "nbformat": 4,
 "nbformat_minor": 5
}
