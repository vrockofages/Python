{
 "cells": [
  {
   "cell_type": "code",
   "execution_count": 1,
   "id": "0932a5d8",
   "metadata": {},
   "outputs": [],
   "source": [
    "ryan = 10"
   ]
  },
  {
   "cell_type": "code",
   "execution_count": 2,
   "id": "cf252433",
   "metadata": {},
   "outputs": [
    {
     "data": {
      "text/plain": [
       "10"
      ]
     },
     "execution_count": 2,
     "metadata": {},
     "output_type": "execute_result"
    }
   ],
   "source": [
    "ryan"
   ]
  },
  {
   "cell_type": "code",
   "execution_count": 3,
   "id": "2bdeb3b8",
   "metadata": {},
   "outputs": [],
   "source": [
    "ryan_2 = 20"
   ]
  },
  {
   "cell_type": "code",
   "execution_count": 4,
   "id": "b45c3c3f",
   "metadata": {},
   "outputs": [
    {
     "data": {
      "text/plain": [
       "20"
      ]
     },
     "execution_count": 4,
     "metadata": {},
     "output_type": "execute_result"
    }
   ],
   "source": [
    "ryan_2"
   ]
  },
  {
   "cell_type": "code",
   "execution_count": 5,
   "id": "e4a080f2",
   "metadata": {},
   "outputs": [],
   "source": [
    "_mason = 13"
   ]
  },
  {
   "cell_type": "code",
   "execution_count": 6,
   "id": "8dd87c14",
   "metadata": {},
   "outputs": [
    {
     "data": {
      "text/plain": [
       "13"
      ]
     },
     "execution_count": 6,
     "metadata": {},
     "output_type": "execute_result"
    }
   ],
   "source": [
    "_mason"
   ]
  },
  {
   "cell_type": "code",
   "execution_count": 7,
   "id": "2e90f202",
   "metadata": {},
   "outputs": [],
   "source": [
    "x=2\n",
    "y=4"
   ]
  },
  {
   "cell_type": "code",
   "execution_count": 8,
   "id": "fa8834de",
   "metadata": {},
   "outputs": [],
   "source": [
    "z = x * y"
   ]
  },
  {
   "cell_type": "code",
   "execution_count": 9,
   "id": "043b6064",
   "metadata": {},
   "outputs": [
    {
     "data": {
      "text/plain": [
       "8"
      ]
     },
     "execution_count": 9,
     "metadata": {},
     "output_type": "execute_result"
    }
   ],
   "source": [
    "z"
   ]
  },
  {
   "cell_type": "code",
   "execution_count": null,
   "id": "0f15fff6",
   "metadata": {},
   "outputs": [],
   "source": []
  }
 ],
 "metadata": {
  "kernelspec": {
   "display_name": "Python 3 (ipykernel)",
   "language": "python",
   "name": "python3"
  },
  "language_info": {
   "codemirror_mode": {
    "name": "ipython",
    "version": 3
   },
   "file_extension": ".py",
   "mimetype": "text/x-python",
   "name": "python",
   "nbconvert_exporter": "python",
   "pygments_lexer": "ipython3",
   "version": "3.9.7"
  }
 },
 "nbformat": 4,
 "nbformat_minor": 5
}
