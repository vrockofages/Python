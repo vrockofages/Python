{
 "cells": [
  {
   "cell_type": "markdown",
   "id": "098034a0",
   "metadata": {},
   "source": [
    "# Lambda Functions"
   ]
  },
  {
   "cell_type": "code",
   "execution_count": 2,
   "id": "2f50d16a",
   "metadata": {},
   "outputs": [],
   "source": [
    "def square(x):\n",
    "    return(x*x)"
   ]
  },
  {
   "cell_type": "code",
   "execution_count": 3,
   "id": "4abf40d5",
   "metadata": {},
   "outputs": [
    {
     "data": {
      "text/plain": [
       "36"
      ]
     },
     "execution_count": 3,
     "metadata": {},
     "output_type": "execute_result"
    }
   ],
   "source": [
    "square(6)"
   ]
  },
  {
   "cell_type": "code",
   "execution_count": 4,
   "id": "c477d072",
   "metadata": {},
   "outputs": [
    {
     "data": {
      "text/plain": [
       "1024"
      ]
     },
     "execution_count": 4,
     "metadata": {},
     "output_type": "execute_result"
    }
   ],
   "source": [
    "square(32)"
   ]
  },
  {
   "cell_type": "code",
   "execution_count": 5,
   "id": "a9ce5206",
   "metadata": {},
   "outputs": [],
   "source": [
    "SQUARE = lambda x: x*x"
   ]
  },
  {
   "cell_type": "code",
   "execution_count": 6,
   "id": "4ce9d653",
   "metadata": {},
   "outputs": [
    {
     "data": {
      "text/plain": [
       "400"
      ]
     },
     "execution_count": 6,
     "metadata": {},
     "output_type": "execute_result"
    }
   ],
   "source": [
    "SQUARE(20)"
   ]
  },
  {
   "cell_type": "code",
   "execution_count": 7,
   "id": "51538cfb",
   "metadata": {},
   "outputs": [],
   "source": [
    "Division = lambda x,y: x/y"
   ]
  },
  {
   "cell_type": "code",
   "execution_count": 8,
   "id": "29111332",
   "metadata": {},
   "outputs": [
    {
     "data": {
      "text/plain": [
       "21.0"
      ]
     },
     "execution_count": 8,
     "metadata": {},
     "output_type": "execute_result"
    }
   ],
   "source": [
    "Division(42,2)"
   ]
  },
  {
   "cell_type": "code",
   "execution_count": 13,
   "id": "bc71ee71",
   "metadata": {},
   "outputs": [],
   "source": [
    "BooleanCompare = lambda x: \"Wow that's Great\" if x > 20 else \"That sucks!!!\""
   ]
  },
  {
   "cell_type": "code",
   "execution_count": 14,
   "id": "d770290e",
   "metadata": {},
   "outputs": [
    {
     "data": {
      "text/plain": [
       "\"Wow that's Great\""
      ]
     },
     "execution_count": 14,
     "metadata": {},
     "output_type": "execute_result"
    }
   ],
   "source": [
    "BooleanCompare(54)"
   ]
  },
  {
   "cell_type": "code",
   "execution_count": 15,
   "id": "18624127",
   "metadata": {},
   "outputs": [
    {
     "data": {
      "text/plain": [
       "'That sucks!!!'"
      ]
     },
     "execution_count": 15,
     "metadata": {},
     "output_type": "execute_result"
    }
   ],
   "source": [
    "BooleanCompare(6)"
   ]
  },
  {
   "cell_type": "code",
   "execution_count": 16,
   "id": "b74e7830",
   "metadata": {},
   "outputs": [],
   "source": [
    "def addition(x,y):\n",
    "    result = x+7\n",
    "    return(result)"
   ]
  },
  {
   "cell_type": "code",
   "execution_count": 17,
   "id": "546d4ce0",
   "metadata": {},
   "outputs": [
    {
     "data": {
      "text/plain": [
       "52"
      ]
     },
     "execution_count": 17,
     "metadata": {},
     "output_type": "execute_result"
    }
   ],
   "source": [
    "addition(45,67)"
   ]
  },
  {
   "cell_type": "code",
   "execution_count": 20,
   "id": "0cf8332e",
   "metadata": {},
   "outputs": [],
   "source": [
    "add = lambda x,y,z: x+y+z"
   ]
  },
  {
   "cell_type": "code",
   "execution_count": 21,
   "id": "c509c7d3",
   "metadata": {},
   "outputs": [
    {
     "data": {
      "text/plain": [
       "336"
      ]
     },
     "execution_count": 21,
     "metadata": {},
     "output_type": "execute_result"
    }
   ],
   "source": [
    "add(6,243,87)"
   ]
  },
  {
   "cell_type": "code",
   "execution_count": 26,
   "id": "56e4e562",
   "metadata": {},
   "outputs": [],
   "source": [
    "Sum = lambda x,y: \"That's higher than 10\" if x + y > 10 else \"That's less than 10\" "
   ]
  },
  {
   "cell_type": "code",
   "execution_count": 24,
   "id": "d2959fc7",
   "metadata": {},
   "outputs": [
    {
     "data": {
      "text/plain": [
       "\"That's less than 10\""
      ]
     },
     "execution_count": 24,
     "metadata": {},
     "output_type": "execute_result"
    }
   ],
   "source": [
    "Sum(1,3)"
   ]
  },
  {
   "cell_type": "code",
   "execution_count": 27,
   "id": "b0ae1ebd",
   "metadata": {},
   "outputs": [
    {
     "data": {
      "text/plain": [
       "\"That's higher than 10\""
      ]
     },
     "execution_count": 27,
     "metadata": {},
     "output_type": "execute_result"
    }
   ],
   "source": [
    "Sum(5,8)"
   ]
  },
  {
   "cell_type": "code",
   "execution_count": 29,
   "id": "df7d1408",
   "metadata": {},
   "outputs": [],
   "source": [
    "def even(x):\n",
    "    if x% 2 == 0:\n",
    "        return(\"even\")\n",
    "    else:\n",
    "        return(\"odd\")"
   ]
  },
  {
   "cell_type": "code",
   "execution_count": 30,
   "id": "90c39106",
   "metadata": {},
   "outputs": [
    {
     "data": {
      "text/plain": [
       "'odd'"
      ]
     },
     "execution_count": 30,
     "metadata": {},
     "output_type": "execute_result"
    }
   ],
   "source": [
    "even(5)"
   ]
  },
  {
   "cell_type": "code",
   "execution_count": 31,
   "id": "1a08eb2a",
   "metadata": {},
   "outputs": [
    {
     "data": {
      "text/plain": [
       "'even'"
      ]
     },
     "execution_count": 31,
     "metadata": {},
     "output_type": "execute_result"
    }
   ],
   "source": [
    "even(4)"
   ]
  },
  {
   "cell_type": "code",
   "execution_count": 32,
   "id": "0ecd522f",
   "metadata": {},
   "outputs": [],
   "source": [
    "odd = lambda x: 'odd'  if x%2 !=0 else 'even'"
   ]
  },
  {
   "cell_type": "code",
   "execution_count": 33,
   "id": "39ed8796",
   "metadata": {},
   "outputs": [
    {
     "data": {
      "text/plain": [
       "'odd'"
      ]
     },
     "execution_count": 33,
     "metadata": {},
     "output_type": "execute_result"
    }
   ],
   "source": [
    "odd(5)"
   ]
  },
  {
   "cell_type": "code",
   "execution_count": 34,
   "id": "8fdf503b",
   "metadata": {},
   "outputs": [
    {
     "data": {
      "text/plain": [
       "'even'"
      ]
     },
     "execution_count": 34,
     "metadata": {},
     "output_type": "execute_result"
    }
   ],
   "source": [
    "odd(8)"
   ]
  },
  {
   "cell_type": "code",
   "execution_count": 1,
   "id": "e6d6241f",
   "metadata": {},
   "outputs": [],
   "source": [
    "cube = lambda x: x**3"
   ]
  },
  {
   "cell_type": "code",
   "execution_count": 2,
   "id": "5bae5f90",
   "metadata": {},
   "outputs": [
    {
     "data": {
      "text/plain": [
       "27"
      ]
     },
     "execution_count": 2,
     "metadata": {},
     "output_type": "execute_result"
    }
   ],
   "source": [
    "cube(3)"
   ]
  },
  {
   "cell_type": "code",
   "execution_count": 3,
   "id": "32c758d4",
   "metadata": {},
   "outputs": [
    {
     "data": {
      "text/plain": [
       "64"
      ]
     },
     "execution_count": 3,
     "metadata": {},
     "output_type": "execute_result"
    }
   ],
   "source": [
    "cube(4)"
   ]
  },
  {
   "cell_type": "code",
   "execution_count": 4,
   "id": "b305941b",
   "metadata": {},
   "outputs": [],
   "source": [
    "prod = lambda x,y: x*y"
   ]
  },
  {
   "cell_type": "code",
   "execution_count": 5,
   "id": "9bf51823",
   "metadata": {},
   "outputs": [
    {
     "data": {
      "text/plain": [
       "360"
      ]
     },
     "execution_count": 5,
     "metadata": {},
     "output_type": "execute_result"
    }
   ],
   "source": [
    "prod(8,45)"
   ]
  },
  {
   "cell_type": "code",
   "execution_count": 6,
   "id": "b4b02c9f",
   "metadata": {},
   "outputs": [],
   "source": [
    "def Greater(x):\n",
    "    if x>15:\n",
    "        print(\"Greater than 15 \")\n",
    "    else:\n",
    "        print(\"Lesser than 15 \")"
   ]
  },
  {
   "cell_type": "code",
   "execution_count": 7,
   "id": "d14f8e1e",
   "metadata": {},
   "outputs": [
    {
     "name": "stdout",
     "output_type": "stream",
     "text": [
      "Lesser than 15 \n"
     ]
    }
   ],
   "source": [
    "Greater(11)"
   ]
  },
  {
   "cell_type": "code",
   "execution_count": 8,
   "id": "922a4fbf",
   "metadata": {},
   "outputs": [],
   "source": [
    "def add(x,y):\n",
    "    add = x + y\n",
    "    if add > 10:\n",
    "        return(True)\n",
    "    else:\n",
    "        return(False)"
   ]
  },
  {
   "cell_type": "code",
   "execution_count": 9,
   "id": "1c476188",
   "metadata": {},
   "outputs": [
    {
     "data": {
      "text/plain": [
       "True"
      ]
     },
     "execution_count": 9,
     "metadata": {},
     "output_type": "execute_result"
    }
   ],
   "source": [
    "add(8,5)"
   ]
  },
  {
   "cell_type": "code",
   "execution_count": null,
   "id": "f669a85c",
   "metadata": {},
   "outputs": [],
   "source": []
  }
 ],
 "metadata": {
  "kernelspec": {
   "display_name": "Python 3 (ipykernel)",
   "language": "python",
   "name": "python3"
  },
  "language_info": {
   "codemirror_mode": {
    "name": "ipython",
    "version": 3
   },
   "file_extension": ".py",
   "mimetype": "text/x-python",
   "name": "python",
   "nbconvert_exporter": "python",
   "pygments_lexer": "ipython3",
   "version": "3.9.7"
  }
 },
 "nbformat": 4,
 "nbformat_minor": 5
}
