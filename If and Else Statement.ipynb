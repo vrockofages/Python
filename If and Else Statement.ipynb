{
 "cells": [
  {
   "cell_type": "code",
   "execution_count": 14,
   "id": "95b61d8f",
   "metadata": {},
   "outputs": [],
   "source": [
    "x=18"
   ]
  },
  {
   "cell_type": "code",
   "execution_count": 3,
   "id": "8a31fd9b",
   "metadata": {},
   "outputs": [
    {
     "name": "stdout",
     "output_type": "stream",
     "text": [
      "X is greater than 5.\n"
     ]
    }
   ],
   "source": [
    "if(x>5):\n",
    "    print(\"X is greater than 5.\")"
   ]
  },
  {
   "cell_type": "code",
   "execution_count": 5,
   "id": "66ad5844",
   "metadata": {},
   "outputs": [
    {
     "name": "stdout",
     "output_type": "stream",
     "text": [
      "X is not greater than 15\n"
     ]
    }
   ],
   "source": [
    "if(x>=15):\n",
    "    print(\"X is greater than 15\")\n",
    "else:\n",
    "    print(\"X is not greater than 15\")"
   ]
  },
  {
   "cell_type": "code",
   "execution_count": 16,
   "id": "3a5d9cd5",
   "metadata": {},
   "outputs": [
    {
     "name": "stdout",
     "output_type": "stream",
     "text": [
      "X is greater than or equal to 10\n"
     ]
    }
   ],
   "source": [
    "if(x<5):\n",
    "    print(\"X is less than 5\")\n",
    "elif((x>5) and (x<10)):\n",
    "    print(\"X is between 5 and 10\")\n",
    "else:\n",
    "    print(\"X is greater than or equal to 10\")"
   ]
  },
  {
   "cell_type": "code",
   "execution_count": 15,
   "id": "1b51b12a",
   "metadata": {},
   "outputs": [
    {
     "name": "stdout",
     "output_type": "stream",
     "text": [
      "X is greater than or equal to 15\n"
     ]
    }
   ],
   "source": [
    "if(x<=5):\n",
    "    print(\"X is less than 5\")\n",
    "elif((x>5) & (x<15)):\n",
    "    print(\"X is between 5 and 15\")\n",
    "else:\n",
    "    print(\"X is greater than or equal to 15\")"
   ]
  },
  {
   "cell_type": "code",
   "execution_count": 22,
   "id": "d86db029",
   "metadata": {},
   "outputs": [
    {
     "name": "stdout",
     "output_type": "stream",
     "text": [
      "X may not be divided.\n"
     ]
    }
   ],
   "source": [
    "# #If number is divided by two, it is even.  If number is divided by 2 or 5 or 7, it can be divided, if number is not divided by \n",
    "# 2, 5 or 7, we'll say it cannot be divided.\n",
    "# x % 2 means divide the number by 2 and return the remainder.\n",
    "\n",
    "if (x % 2 == 0):\n",
    "    print (\"X is an even number.\")\n",
    "elif ((x % 5 == 0 or x % 7 == 0)):\n",
    "    print(\"X is allowed to be divided\")\n",
    "else:\n",
    "    print(\"X may not be divided.\")"
   ]
  },
  {
   "cell_type": "code",
   "execution_count": 19,
   "id": "6e21b9a6",
   "metadata": {},
   "outputs": [],
   "source": [
    "x = 55"
   ]
  },
  {
   "cell_type": "code",
   "execution_count": 21,
   "id": "6fbdce65",
   "metadata": {},
   "outputs": [],
   "source": [
    "x=73"
   ]
  },
  {
   "cell_type": "code",
   "execution_count": 23,
   "id": "bdaba414",
   "metadata": {},
   "outputs": [],
   "source": [
    "a = 5%2"
   ]
  },
  {
   "cell_type": "code",
   "execution_count": 24,
   "id": "ecd90839",
   "metadata": {},
   "outputs": [
    {
     "data": {
      "text/plain": [
       "1"
      ]
     },
     "execution_count": 24,
     "metadata": {},
     "output_type": "execute_result"
    }
   ],
   "source": [
    "a"
   ]
  },
  {
   "cell_type": "code",
   "execution_count": 25,
   "id": "51aa92c0",
   "metadata": {},
   "outputs": [],
   "source": [
    "b = 14%3"
   ]
  },
  {
   "cell_type": "code",
   "execution_count": 26,
   "id": "107423a6",
   "metadata": {},
   "outputs": [
    {
     "data": {
      "text/plain": [
       "2"
      ]
     },
     "execution_count": 26,
     "metadata": {},
     "output_type": "execute_result"
    }
   ],
   "source": [
    "b"
   ]
  },
  {
   "cell_type": "code",
   "execution_count": null,
   "id": "80159d27",
   "metadata": {},
   "outputs": [],
   "source": []
  }
 ],
 "metadata": {
  "kernelspec": {
   "display_name": "Python 3 (ipykernel)",
   "language": "python",
   "name": "python3"
  },
  "language_info": {
   "codemirror_mode": {
    "name": "ipython",
    "version": 3
   },
   "file_extension": ".py",
   "mimetype": "text/x-python",
   "name": "python",
   "nbconvert_exporter": "python",
   "pygments_lexer": "ipython3",
   "version": "3.9.7"
  }
 },
 "nbformat": 4,
 "nbformat_minor": 5
}
