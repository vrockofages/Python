{
 "cells": [
  {
   "cell_type": "code",
   "execution_count": 1,
   "id": "be25aacd",
   "metadata": {},
   "outputs": [
    {
     "name": "stdout",
     "output_type": "stream",
     "text": [
      "0\n",
      "1\n",
      "2\n",
      "3\n",
      "4\n",
      "5\n",
      "6\n",
      "7\n",
      "8\n",
      "9\n"
     ]
    }
   ],
   "source": [
    "for i in range (0,10):\n",
    "    print(i)"
   ]
  },
  {
   "cell_type": "code",
   "execution_count": 1,
   "id": "d1ee6206",
   "metadata": {},
   "outputs": [
    {
     "name": "stdout",
     "output_type": "stream",
     "text": [
      "You know it.\n",
      "You know it.\n",
      "You know it.\n",
      "You know it.\n",
      "You know it.\n",
      "You know it.\n",
      "You know it.\n",
      "You know it.\n",
      "You know it.\n",
      "You know it.\n"
     ]
    }
   ],
   "source": [
    "for i in range (0,10):\n",
    "    print (\"You know it.\")"
   ]
  },
  {
   "cell_type": "code",
   "execution_count": 2,
   "id": "159eee2f",
   "metadata": {},
   "outputs": [
    {
     "name": "stdout",
     "output_type": "stream",
     "text": [
      "1\n",
      "1\n",
      "1\n",
      "1\n",
      "1\n",
      "1\n",
      "1\n",
      "1\n",
      "1\n",
      "1\n"
     ]
    }
   ],
   "source": [
    "x = 1\n",
    "for i in range (0,10):\n",
    "    print (x)"
   ]
  },
  {
   "cell_type": "code",
   "execution_count": 3,
   "id": "c61f8a8b",
   "metadata": {},
   "outputs": [
    {
     "name": "stdout",
     "output_type": "stream",
     "text": [
      "1\n",
      "2\n",
      "3\n",
      "4\n",
      "5\n",
      "6\n",
      "7\n",
      "8\n",
      "9\n",
      "10\n"
     ]
    }
   ],
   "source": [
    "x = 1\n",
    "for i in range (0,10):\n",
    "    print (x + i)"
   ]
  },
  {
   "cell_type": "markdown",
   "id": "6a993add",
   "metadata": {},
   "source": [
    "# Factorial of a Number"
   ]
  },
  {
   "cell_type": "code",
   "execution_count": 5,
   "id": "7680bd52",
   "metadata": {},
   "outputs": [
    {
     "name": "stdout",
     "output_type": "stream",
     "text": [
      "2\n",
      "4\n",
      "12\n",
      "48\n",
      "240\n",
      "1440\n"
     ]
    }
   ],
   "source": [
    "x=2\n",
    "for i in range (1,7):\n",
    "    x = x*i\n",
    "    print(x)"
   ]
  },
  {
   "cell_type": "code",
   "execution_count": 6,
   "id": "c0618e2a",
   "metadata": {},
   "outputs": [
    {
     "name": "stdout",
     "output_type": "stream",
     "text": [
      "1\n",
      "2\n",
      "6\n",
      "24\n",
      "120\n",
      "720\n"
     ]
    }
   ],
   "source": [
    "x=1\n",
    "for i in range (1,7):\n",
    "    x = x*i\n",
    "    print(x)"
   ]
  },
  {
   "cell_type": "code",
   "execution_count": 9,
   "id": "7dbb6650",
   "metadata": {},
   "outputs": [
    {
     "name": "stdout",
     "output_type": "stream",
     "text": [
      "0\n",
      "0\n",
      "0\n",
      "0\n",
      "0\n"
     ]
    }
   ],
   "source": [
    "x=2\n",
    "for i in range (0,5):\n",
    "    x = x*i\n",
    "    print(x)"
   ]
  },
  {
   "cell_type": "code",
   "execution_count": 8,
   "id": "704f6200",
   "metadata": {},
   "outputs": [
    {
     "name": "stdout",
     "output_type": "stream",
     "text": [
      "2\n",
      "4\n",
      "12\n",
      "48\n"
     ]
    }
   ],
   "source": [
    "x=2\n",
    "for i in range (1,5):\n",
    "    x = x*i\n",
    "    print(x)"
   ]
  },
  {
   "cell_type": "code",
   "execution_count": 20,
   "id": "fa49c9c3",
   "metadata": {},
   "outputs": [
    {
     "name": "stdout",
     "output_type": "stream",
     "text": [
      "120\n"
     ]
    }
   ],
   "source": [
    "x = 1\n",
    "for i in range (1,6):\n",
    "    x=x*i\n",
    "print(x)"
   ]
  },
  {
   "cell_type": "code",
   "execution_count": 24,
   "id": "7ae05676",
   "metadata": {},
   "outputs": [
    {
     "name": "stdout",
     "output_type": "stream",
     "text": [
      "1 1\n",
      "2 2\n",
      "3 6\n",
      "4 24\n",
      "5 120\n"
     ]
    }
   ],
   "source": [
    "x = 1\n",
    "for i in range (1,6):\n",
    "    x=x*i\n",
    "    print(i,x)\n",
    "#Line 1 = 1 * 1  1st column is i, 2nd column is x\n",
    "#Line 2 = 2 * 1\n",
    "#Line 3 = 3 * 2\n",
    "#Line 4 = 4 * 6\n",
    "#Line 5 = 5 * 24"
   ]
  },
  {
   "cell_type": "code",
   "execution_count": 11,
   "id": "fbbe7ab2",
   "metadata": {},
   "outputs": [
    {
     "name": "stdout",
     "output_type": "stream",
     "text": [
      "2\n"
     ]
    }
   ],
   "source": [
    "x = 1\n",
    "for i in range (1,3):\n",
    "    x=x*i\n",
    "print(x)"
   ]
  },
  {
   "cell_type": "code",
   "execution_count": 12,
   "id": "cae858de",
   "metadata": {},
   "outputs": [
    {
     "name": "stdout",
     "output_type": "stream",
     "text": [
      "2\n"
     ]
    }
   ],
   "source": [
    "print(x)"
   ]
  },
  {
   "cell_type": "code",
   "execution_count": 13,
   "id": "2c360182",
   "metadata": {},
   "outputs": [
    {
     "name": "stdout",
     "output_type": "stream",
     "text": [
      "[5, 3, 5, 6, 7]\n",
      "[5, 3, 5, 6, 7]\n",
      "[5, 3, 5, 6, 7]\n",
      "[5, 3, 5, 6, 7]\n"
     ]
    }
   ],
   "source": [
    "x = [5,3,5,6,7]\n",
    "for i in range (0,4):\n",
    "    print(x)\n",
    "  "
   ]
  },
  {
   "cell_type": "code",
   "execution_count": 17,
   "id": "a12106fc",
   "metadata": {},
   "outputs": [
    {
     "name": "stdout",
     "output_type": "stream",
     "text": [
      "[5, 3, 5, 6, 7]\n",
      "[5, 3, 5, 6, 7, 5, 3, 5, 6, 7]\n",
      "[5, 3, 5, 6, 7, 5, 3, 5, 6, 7, 5, 3, 5, 6, 7, 5, 3, 5, 6, 7, 5, 3, 5, 6, 7, 5, 3, 5, 6, 7]\n"
     ]
    }
   ],
   "source": [
    "x = [5,3,5,6,7]\n",
    "for i in range (1,4):\n",
    "    x=x*i\n",
    "    print(x)"
   ]
  },
  {
   "cell_type": "code",
   "execution_count": 18,
   "id": "3924b18d",
   "metadata": {},
   "outputs": [],
   "source": [
    "z=4"
   ]
  },
  {
   "cell_type": "code",
   "execution_count": 19,
   "id": "2361de85",
   "metadata": {},
   "outputs": [
    {
     "name": "stdout",
     "output_type": "stream",
     "text": [
      "4\n"
     ]
    }
   ],
   "source": [
    "print(z)"
   ]
  },
  {
   "cell_type": "code",
   "execution_count": 30,
   "id": "49c639eb",
   "metadata": {},
   "outputs": [
    {
     "name": "stdout",
     "output_type": "stream",
     "text": [
      "Please enter a number to figure out the factorial of: 8\n",
      "1 1\n",
      "2 2\n",
      "3 6\n",
      "4 24\n",
      "5 120\n",
      "6 720\n",
      "7 5040\n",
      "8 40320\n"
     ]
    }
   ],
   "source": [
    "# Lets get Factorial of a User inputed number\n",
    "\n",
    "y = int(input(\"Please enter a number to figure out the factorial of: \"))\n",
    "x = 1\n",
    "for i in range(1, y + 1):\n",
    "    x = x * i\n",
    "    print(i,x)   "
   ]
  },
  {
   "cell_type": "code",
   "execution_count": 31,
   "id": "1843b1f6",
   "metadata": {},
   "outputs": [
    {
     "name": "stdout",
     "output_type": "stream",
     "text": [
      "dog\n",
      "cat\n",
      "seagull\n",
      "leopard\n"
     ]
    }
   ],
   "source": [
    "list1 = ['dog', 'cat', 'seagull', 'leopard']\n",
    "for i in list1:\n",
    "    print(i)"
   ]
  },
  {
   "cell_type": "code",
   "execution_count": 32,
   "id": "cd99fe0c",
   "metadata": {},
   "outputs": [
    {
     "name": "stdout",
     "output_type": "stream",
     "text": [
      "dog\n",
      "cat\n",
      "seagull\n",
      "leopard\n"
     ]
    }
   ],
   "source": [
    "for i in range(0,len(list1)):\n",
    "    print(list1[i])"
   ]
  },
  {
   "cell_type": "code",
   "execution_count": 34,
   "id": "23e16ea2",
   "metadata": {},
   "outputs": [
    {
     "data": {
      "text/plain": [
       "'seagull'"
      ]
     },
     "execution_count": 34,
     "metadata": {},
     "output_type": "execute_result"
    }
   ],
   "source": [
    "list1[2]"
   ]
  }
 ],
 "metadata": {
  "kernelspec": {
   "display_name": "Python 3 (ipykernel)",
   "language": "python",
   "name": "python3"
  },
  "language_info": {
   "codemirror_mode": {
    "name": "ipython",
    "version": 3
   },
   "file_extension": ".py",
   "mimetype": "text/x-python",
   "name": "python",
   "nbconvert_exporter": "python",
   "pygments_lexer": "ipython3",
   "version": "3.9.7"
  }
 },
 "nbformat": 4,
 "nbformat_minor": 5
}
