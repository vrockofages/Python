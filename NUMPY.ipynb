{
 "cells": [
  {
   "cell_type": "markdown",
   "id": "2c0a899d",
   "metadata": {},
   "source": [
    "# NUMPY"
   ]
  },
  {
   "cell_type": "code",
   "execution_count": 4,
   "id": "99d1828a",
   "metadata": {},
   "outputs": [],
   "source": [
    "# Numpy is a library. \n",
    "import numpy as np\n",
    "list1 = [1,2,34,3,4,555]\n",
    "\n",
    "arr1 = np.array(list1)"
   ]
  },
  {
   "cell_type": "code",
   "execution_count": 5,
   "id": "32d966f1",
   "metadata": {},
   "outputs": [
    {
     "data": {
      "text/plain": [
       "[1, 2, 34, 3, 4, 555]"
      ]
     },
     "execution_count": 5,
     "metadata": {},
     "output_type": "execute_result"
    }
   ],
   "source": [
    "list1"
   ]
  },
  {
   "cell_type": "code",
   "execution_count": 6,
   "id": "40c8519a",
   "metadata": {},
   "outputs": [
    {
     "data": {
      "text/plain": [
       "numpy.ndarray"
      ]
     },
     "execution_count": 6,
     "metadata": {},
     "output_type": "execute_result"
    }
   ],
   "source": [
    "type(arr1)"
   ]
  },
  {
   "cell_type": "code",
   "execution_count": 7,
   "id": "207ce62f",
   "metadata": {},
   "outputs": [
    {
     "data": {
      "text/plain": [
       "array([  1,   2,  34,   3,   4, 555])"
      ]
     },
     "execution_count": 7,
     "metadata": {},
     "output_type": "execute_result"
    }
   ],
   "source": [
    "arr1"
   ]
  },
  {
   "cell_type": "code",
   "execution_count": 8,
   "id": "9f3abbd3",
   "metadata": {},
   "outputs": [],
   "source": [
    "arr2 = np.array([434,2343,24223,6452,223,5577,2])"
   ]
  },
  {
   "cell_type": "code",
   "execution_count": 9,
   "id": "6d9f1488",
   "metadata": {},
   "outputs": [
    {
     "data": {
      "text/plain": [
       "array([  434,  2343, 24223,  6452,   223,  5577,     2])"
      ]
     },
     "execution_count": 9,
     "metadata": {},
     "output_type": "execute_result"
    }
   ],
   "source": [
    "arr2"
   ]
  },
  {
   "cell_type": "code",
   "execution_count": 12,
   "id": "9ce51cbd",
   "metadata": {},
   "outputs": [
    {
     "data": {
      "text/plain": [
       "1"
      ]
     },
     "execution_count": 12,
     "metadata": {},
     "output_type": "execute_result"
    }
   ],
   "source": [
    "arr2.ndim     # \"ndim\"  # of dimensions or Axises"
   ]
  },
  {
   "cell_type": "code",
   "execution_count": 13,
   "id": "f0aa78e3",
   "metadata": {},
   "outputs": [
    {
     "data": {
      "text/plain": [
       "(7,)"
      ]
     },
     "execution_count": 13,
     "metadata": {},
     "output_type": "execute_result"
    }
   ],
   "source": [
    "arr2.shape   # \"shape\" of of elements each axis has"
   ]
  },
  {
   "cell_type": "code",
   "execution_count": 14,
   "id": "3c1835e3",
   "metadata": {},
   "outputs": [
    {
     "data": {
      "text/plain": [
       "7"
      ]
     },
     "execution_count": 14,
     "metadata": {},
     "output_type": "execute_result"
    }
   ],
   "source": [
    "arr2.size     # \"size\" total # of elments in the array"
   ]
  },
  {
   "cell_type": "code",
   "execution_count": 16,
   "id": "84b46420",
   "metadata": {},
   "outputs": [],
   "source": [
    "arr5 = np.array([[3,4,3,4,4,3], [343,343,243,234,112,22], [4,24,24,3,5,3]])"
   ]
  },
  {
   "cell_type": "code",
   "execution_count": 17,
   "id": "36259da5",
   "metadata": {},
   "outputs": [
    {
     "data": {
      "text/plain": [
       "array([[  3,   4,   3,   4,   4,   3],\n",
       "       [343, 343, 243, 234, 112,  22],\n",
       "       [  4,  24,  24,   3,   5,   3]])"
      ]
     },
     "execution_count": 17,
     "metadata": {},
     "output_type": "execute_result"
    }
   ],
   "source": [
    "arr5"
   ]
  },
  {
   "cell_type": "code",
   "execution_count": 18,
   "id": "918bbd45",
   "metadata": {},
   "outputs": [
    {
     "name": "stdout",
     "output_type": "stream",
     "text": [
      "2\n",
      "(3, 6)\n",
      "18\n"
     ]
    }
   ],
   "source": [
    "print(arr5.ndim)\n",
    "print(arr5.shape)\n",
    "print(arr5.size)"
   ]
  },
  {
   "cell_type": "code",
   "execution_count": 19,
   "id": "6b37eec5",
   "metadata": {},
   "outputs": [],
   "source": [
    "# 3 Axises\n",
    "\n",
    "arr6 = np.array([[[3,4,3,4,4,3], [343,343,243,234,112,22], [4,24,24,3,5,3]],[[3,4,3,4,4,3], [343,343,243,234,112,22], [4,24,24,3,5,3]],[[3,4,3,4,4,3], [343,343,243,234,112,22], [4,24,24,3,5,3]],[[3,4,3,4,4,3], [343,343,243,234,112,22], [4,24,24,3,5,3]]])"
   ]
  },
  {
   "cell_type": "code",
   "execution_count": 20,
   "id": "43a12632",
   "metadata": {},
   "outputs": [
    {
     "data": {
      "text/plain": [
       "array([[[  3,   4,   3,   4,   4,   3],\n",
       "        [343, 343, 243, 234, 112,  22],\n",
       "        [  4,  24,  24,   3,   5,   3]],\n",
       "\n",
       "       [[  3,   4,   3,   4,   4,   3],\n",
       "        [343, 343, 243, 234, 112,  22],\n",
       "        [  4,  24,  24,   3,   5,   3]],\n",
       "\n",
       "       [[  3,   4,   3,   4,   4,   3],\n",
       "        [343, 343, 243, 234, 112,  22],\n",
       "        [  4,  24,  24,   3,   5,   3]],\n",
       "\n",
       "       [[  3,   4,   3,   4,   4,   3],\n",
       "        [343, 343, 243, 234, 112,  22],\n",
       "        [  4,  24,  24,   3,   5,   3]]])"
      ]
     },
     "execution_count": 20,
     "metadata": {},
     "output_type": "execute_result"
    }
   ],
   "source": [
    "arr6"
   ]
  },
  {
   "cell_type": "code",
   "execution_count": 21,
   "id": "5c52ea0e",
   "metadata": {},
   "outputs": [
    {
     "name": "stdout",
     "output_type": "stream",
     "text": [
      "3\n",
      "(4, 3, 6)\n",
      "72\n"
     ]
    }
   ],
   "source": [
    "print(arr6.ndim)\n",
    "print(arr6.shape)\n",
    "print(arr6.size)"
   ]
  },
  {
   "cell_type": "markdown",
   "id": "3df92d46",
   "metadata": {},
   "source": [
    "# Indexing"
   ]
  },
  {
   "cell_type": "code",
   "execution_count": 22,
   "id": "30dc1a93",
   "metadata": {},
   "outputs": [],
   "source": [
    "arr10 = np.array([10,24,41,4,67,53,224,24,2211,11,666,332])"
   ]
  },
  {
   "cell_type": "code",
   "execution_count": 24,
   "id": "e7f13144",
   "metadata": {},
   "outputs": [
    {
     "data": {
      "text/plain": [
       "24"
      ]
     },
     "execution_count": 24,
     "metadata": {},
     "output_type": "execute_result"
    }
   ],
   "source": [
    "arr10[1]"
   ]
  },
  {
   "cell_type": "code",
   "execution_count": 26,
   "id": "34d6c296",
   "metadata": {},
   "outputs": [
    {
     "data": {
      "text/plain": [
       "11"
      ]
     },
     "execution_count": 26,
     "metadata": {},
     "output_type": "execute_result"
    }
   ],
   "source": [
    "arr10[9]"
   ]
  },
  {
   "cell_type": "code",
   "execution_count": 27,
   "id": "3880d0ad",
   "metadata": {},
   "outputs": [
    {
     "data": {
      "text/plain": [
       "11"
      ]
     },
     "execution_count": 27,
     "metadata": {},
     "output_type": "execute_result"
    }
   ],
   "source": [
    "arr10[-3]"
   ]
  },
  {
   "cell_type": "markdown",
   "id": "6f8e4294",
   "metadata": {},
   "source": [
    "# Slicing"
   ]
  },
  {
   "cell_type": "code",
   "execution_count": 29,
   "id": "92d0ca02",
   "metadata": {},
   "outputs": [
    {
     "data": {
      "text/plain": [
       "array([41,  4, 67])"
      ]
     },
     "execution_count": 29,
     "metadata": {},
     "output_type": "execute_result"
    }
   ],
   "source": [
    "arr10[2:5:1]"
   ]
  },
  {
   "cell_type": "code",
   "execution_count": 30,
   "id": "cf73f2fe",
   "metadata": {},
   "outputs": [
    {
     "data": {
      "text/plain": [
       "array([24,  4, 53, 24])"
      ]
     },
     "execution_count": 30,
     "metadata": {},
     "output_type": "execute_result"
    }
   ],
   "source": [
    "arr10[1:8:2]"
   ]
  },
  {
   "cell_type": "code",
   "execution_count": 31,
   "id": "3416b352",
   "metadata": {},
   "outputs": [
    {
     "data": {
      "text/plain": [
       "array([10, 24])"
      ]
     },
     "execution_count": 31,
     "metadata": {},
     "output_type": "execute_result"
    }
   ],
   "source": [
    "arr10[0:2]"
   ]
  },
  {
   "cell_type": "code",
   "execution_count": 32,
   "id": "0de9489b",
   "metadata": {},
   "outputs": [
    {
     "data": {
      "text/plain": [
       "array([  10,   24,   41,    4,   67,   53,  224,   24, 2211,   11,  666,\n",
       "        332])"
      ]
     },
     "execution_count": 32,
     "metadata": {},
     "output_type": "execute_result"
    }
   ],
   "source": [
    "arr10"
   ]
  },
  {
   "cell_type": "code",
   "execution_count": 33,
   "id": "282e2890",
   "metadata": {},
   "outputs": [
    {
     "data": {
      "text/plain": [
       "array([ 332,  666,   11, 2211,   24,  224,   53,   67,    4,   41,   24,\n",
       "         10])"
      ]
     },
     "execution_count": 33,
     "metadata": {},
     "output_type": "execute_result"
    }
   ],
   "source": [
    "arr10[::-1]     #Array reversed"
   ]
  },
  {
   "cell_type": "code",
   "execution_count": 34,
   "id": "d51aa11a",
   "metadata": {},
   "outputs": [
    {
     "data": {
      "text/plain": [
       "array([332,  11,  24,  53,   4,  24])"
      ]
     },
     "execution_count": 34,
     "metadata": {},
     "output_type": "execute_result"
    }
   ],
   "source": [
    "arr10[::-2]"
   ]
  },
  {
   "cell_type": "code",
   "execution_count": 35,
   "id": "b28f2f4e",
   "metadata": {},
   "outputs": [
    {
     "data": {
      "text/plain": [
       "array([ 666,   11, 2211,   24,  224,   53,   67,    4,   41,   24,   10])"
      ]
     },
     "execution_count": 35,
     "metadata": {},
     "output_type": "execute_result"
    }
   ],
   "source": [
    "arr10[-2::-1]"
   ]
  },
  {
   "cell_type": "code",
   "execution_count": 36,
   "id": "0cc9743b",
   "metadata": {},
   "outputs": [
    {
     "data": {
      "text/plain": [
       "array([24, 53])"
      ]
     },
     "execution_count": 36,
     "metadata": {},
     "output_type": "execute_result"
    }
   ],
   "source": [
    "l1 = [1,5]   # set up a list which will look for 1st and 5th index pos\n",
    "\n",
    "arr10[l1]   # l1 will find 1st and 5th index value for \"arr10\"  which is 24 and 53"
   ]
  },
  {
   "cell_type": "code",
   "execution_count": null,
   "id": "2ad3bacf",
   "metadata": {},
   "outputs": [],
   "source": []
  }
 ],
 "metadata": {
  "kernelspec": {
   "display_name": "Python 3 (ipykernel)",
   "language": "python",
   "name": "python3"
  },
  "language_info": {
   "codemirror_mode": {
    "name": "ipython",
    "version": 3
   },
   "file_extension": ".py",
   "mimetype": "text/x-python",
   "name": "python",
   "nbconvert_exporter": "python",
   "pygments_lexer": "ipython3",
   "version": "3.9.7"
  }
 },
 "nbformat": 4,
 "nbformat_minor": 5
}
