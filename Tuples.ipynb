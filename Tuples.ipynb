{
 "cells": [
  {
   "cell_type": "markdown",
   "id": "8d53883b",
   "metadata": {},
   "source": [
    "# Tuples"
   ]
  },
  {
   "cell_type": "code",
   "execution_count": 1,
   "id": "6d73cd0f",
   "metadata": {},
   "outputs": [],
   "source": [
    "A = ('dog', 'cat', 78, 3338, 34, 1, False)"
   ]
  },
  {
   "cell_type": "code",
   "execution_count": 2,
   "id": "c5991094",
   "metadata": {},
   "outputs": [
    {
     "data": {
      "text/plain": [
       "('dog', 'cat', 78, 3338, 34, 1, False)"
      ]
     },
     "execution_count": 2,
     "metadata": {},
     "output_type": "execute_result"
    }
   ],
   "source": [
    "A"
   ]
  },
  {
   "cell_type": "code",
   "execution_count": 3,
   "id": "134a3095",
   "metadata": {},
   "outputs": [
    {
     "data": {
      "text/plain": [
       "tuple"
      ]
     },
     "execution_count": 3,
     "metadata": {},
     "output_type": "execute_result"
    }
   ],
   "source": [
    "type(A)"
   ]
  },
  {
   "cell_type": "code",
   "execution_count": 4,
   "id": "57e521ea",
   "metadata": {},
   "outputs": [],
   "source": [
    "B = [1,2,3,534,52341,664]"
   ]
  },
  {
   "cell_type": "code",
   "execution_count": 5,
   "id": "485372b5",
   "metadata": {},
   "outputs": [
    {
     "data": {
      "text/plain": [
       "list"
      ]
     },
     "execution_count": 5,
     "metadata": {},
     "output_type": "execute_result"
    }
   ],
   "source": [
    "type(B)"
   ]
  },
  {
   "cell_type": "code",
   "execution_count": 6,
   "id": "dc9b9168",
   "metadata": {},
   "outputs": [
    {
     "data": {
      "text/plain": [
       "(1, 2, 3, 534, 52341, 664)"
      ]
     },
     "execution_count": 6,
     "metadata": {},
     "output_type": "execute_result"
    }
   ],
   "source": [
    "tuple(B)"
   ]
  },
  {
   "cell_type": "code",
   "execution_count": 7,
   "id": "13879810",
   "metadata": {},
   "outputs": [
    {
     "data": {
      "text/plain": [
       "list"
      ]
     },
     "execution_count": 7,
     "metadata": {},
     "output_type": "execute_result"
    }
   ],
   "source": [
    "type(B)"
   ]
  },
  {
   "cell_type": "code",
   "execution_count": 8,
   "id": "95acc927",
   "metadata": {},
   "outputs": [],
   "source": [
    "C = tuple(B)"
   ]
  },
  {
   "cell_type": "code",
   "execution_count": 9,
   "id": "8ba961a8",
   "metadata": {},
   "outputs": [
    {
     "data": {
      "text/plain": [
       "tuple"
      ]
     },
     "execution_count": 9,
     "metadata": {},
     "output_type": "execute_result"
    }
   ],
   "source": [
    "type(C)"
   ]
  },
  {
   "cell_type": "code",
   "execution_count": 11,
   "id": "48d8cb7e",
   "metadata": {},
   "outputs": [
    {
     "name": "stdout",
     "output_type": "stream",
     "text": [
      "1\n",
      "2\n",
      "3\n",
      "534\n",
      "52341\n",
      "664\n"
     ]
    }
   ],
   "source": [
    "for i in C:\n",
    "    print(i)"
   ]
  },
  {
   "cell_type": "markdown",
   "id": "60e62523",
   "metadata": {},
   "source": [
    "# Tuple Indexing"
   ]
  },
  {
   "cell_type": "code",
   "execution_count": 12,
   "id": "4332b96f",
   "metadata": {},
   "outputs": [
    {
     "data": {
      "text/plain": [
       "1"
      ]
     },
     "execution_count": 12,
     "metadata": {},
     "output_type": "execute_result"
    }
   ],
   "source": [
    "C[0]"
   ]
  },
  {
   "cell_type": "code",
   "execution_count": 13,
   "id": "cd17d495",
   "metadata": {},
   "outputs": [
    {
     "data": {
      "text/plain": [
       "3"
      ]
     },
     "execution_count": 13,
     "metadata": {},
     "output_type": "execute_result"
    }
   ],
   "source": [
    "C[2]"
   ]
  },
  {
   "cell_type": "code",
   "execution_count": 14,
   "id": "48cdd606",
   "metadata": {},
   "outputs": [
    {
     "data": {
      "text/plain": [
       "(1, 2, 3, 534, 52341, 664)"
      ]
     },
     "execution_count": 14,
     "metadata": {},
     "output_type": "execute_result"
    }
   ],
   "source": [
    "C"
   ]
  },
  {
   "cell_type": "code",
   "execution_count": 15,
   "id": "8dab0f1c",
   "metadata": {},
   "outputs": [
    {
     "data": {
      "text/plain": [
       "664"
      ]
     },
     "execution_count": 15,
     "metadata": {},
     "output_type": "execute_result"
    }
   ],
   "source": [
    "C[-1]"
   ]
  },
  {
   "cell_type": "code",
   "execution_count": 16,
   "id": "1a371be4",
   "metadata": {},
   "outputs": [
    {
     "data": {
      "text/plain": [
       "6"
      ]
     },
     "execution_count": 16,
     "metadata": {},
     "output_type": "execute_result"
    }
   ],
   "source": [
    "len(C)"
   ]
  },
  {
   "cell_type": "code",
   "execution_count": 17,
   "id": "df64faa9",
   "metadata": {},
   "outputs": [
    {
     "data": {
      "text/plain": [
       "664"
      ]
     },
     "execution_count": 17,
     "metadata": {},
     "output_type": "execute_result"
    }
   ],
   "source": [
    "C[len(C) - 1]"
   ]
  },
  {
   "cell_type": "code",
   "execution_count": 18,
   "id": "68aae573",
   "metadata": {},
   "outputs": [
    {
     "data": {
      "text/plain": [
       "(1, 2, 3, 534, 52341, 664)"
      ]
     },
     "execution_count": 18,
     "metadata": {},
     "output_type": "execute_result"
    }
   ],
   "source": [
    "C[:]"
   ]
  },
  {
   "cell_type": "code",
   "execution_count": 20,
   "id": "a0447879",
   "metadata": {},
   "outputs": [
    {
     "data": {
      "text/plain": [
       "(1, 2, 3, 534, 52341, 664)"
      ]
     },
     "execution_count": 20,
     "metadata": {},
     "output_type": "execute_result"
    }
   ],
   "source": [
    "C[0:]"
   ]
  },
  {
   "cell_type": "code",
   "execution_count": 21,
   "id": "cf16e046",
   "metadata": {},
   "outputs": [
    {
     "data": {
      "text/plain": [
       "(2, 3, 534, 52341, 664)"
      ]
     },
     "execution_count": 21,
     "metadata": {},
     "output_type": "execute_result"
    }
   ],
   "source": [
    "C[1:]"
   ]
  },
  {
   "cell_type": "code",
   "execution_count": 22,
   "id": "0868af83",
   "metadata": {},
   "outputs": [
    {
     "data": {
      "text/plain": [
       "(1, 2)"
      ]
     },
     "execution_count": 22,
     "metadata": {},
     "output_type": "execute_result"
    }
   ],
   "source": [
    "C[:2]"
   ]
  },
  {
   "cell_type": "code",
   "execution_count": 23,
   "id": "ed94552b",
   "metadata": {},
   "outputs": [
    {
     "data": {
      "text/plain": [
       "(2, 3)"
      ]
     },
     "execution_count": 23,
     "metadata": {},
     "output_type": "execute_result"
    }
   ],
   "source": [
    "C[1:3]"
   ]
  },
  {
   "cell_type": "code",
   "execution_count": 24,
   "id": "8c601161",
   "metadata": {},
   "outputs": [
    {
     "data": {
      "text/plain": [
       "(1, 2, 3, 534, 52341, 664)"
      ]
     },
     "execution_count": 24,
     "metadata": {},
     "output_type": "execute_result"
    }
   ],
   "source": [
    "C"
   ]
  },
  {
   "cell_type": "code",
   "execution_count": 27,
   "id": "d7e5ff7a",
   "metadata": {},
   "outputs": [
    {
     "data": {
      "text/plain": [
       "('dog', 'cat', 78, 3338, 34, 1, False, 1, 2, 3, 534, 52341, 664)"
      ]
     },
     "execution_count": 27,
     "metadata": {},
     "output_type": "execute_result"
    }
   ],
   "source": [
    "A + C"
   ]
  },
  {
   "cell_type": "markdown",
   "id": "985bec44",
   "metadata": {},
   "source": [
    "# Skipping Elements while Slicing"
   ]
  },
  {
   "cell_type": "code",
   "execution_count": 30,
   "id": "46eedfef",
   "metadata": {},
   "outputs": [],
   "source": [
    "D = ('ryan', 'blake', 'terrance', 'bontose', 'dobey', 'McCall', 'digby', 'poonyan', 'mickey ratt')"
   ]
  },
  {
   "cell_type": "code",
   "execution_count": 31,
   "id": "caaf2a13",
   "metadata": {},
   "outputs": [
    {
     "data": {
      "text/plain": [
       "('ryan',\n",
       " 'blake',\n",
       " 'terrance',\n",
       " 'bontose',\n",
       " 'dobey',\n",
       " 'McCall',\n",
       " 'digby',\n",
       " 'poonyan',\n",
       " 'mickey ratt')"
      ]
     },
     "execution_count": 31,
     "metadata": {},
     "output_type": "execute_result"
    }
   ],
   "source": [
    "D"
   ]
  },
  {
   "cell_type": "code",
   "execution_count": 32,
   "id": "fab3e43c",
   "metadata": {},
   "outputs": [
    {
     "data": {
      "text/plain": [
       "tuple"
      ]
     },
     "execution_count": 32,
     "metadata": {},
     "output_type": "execute_result"
    }
   ],
   "source": [
    "type(D)"
   ]
  },
  {
   "cell_type": "code",
   "execution_count": 33,
   "id": "9409d5b4",
   "metadata": {},
   "outputs": [
    {
     "data": {
      "text/plain": [
       "9"
      ]
     },
     "execution_count": 33,
     "metadata": {},
     "output_type": "execute_result"
    }
   ],
   "source": [
    "len(D)"
   ]
  },
  {
   "cell_type": "code",
   "execution_count": 35,
   "id": "c9b08e63",
   "metadata": {},
   "outputs": [],
   "source": [
    "E = D[0:8:2]"
   ]
  },
  {
   "cell_type": "code",
   "execution_count": 36,
   "id": "b1a13613",
   "metadata": {},
   "outputs": [
    {
     "data": {
      "text/plain": [
       "('ryan', 'terrance', 'dobey', 'digby')"
      ]
     },
     "execution_count": 36,
     "metadata": {},
     "output_type": "execute_result"
    }
   ],
   "source": [
    "E"
   ]
  },
  {
   "cell_type": "code",
   "execution_count": 37,
   "id": "1006e846",
   "metadata": {},
   "outputs": [],
   "source": [
    "F = D[0:10:3]"
   ]
  },
  {
   "cell_type": "code",
   "execution_count": 38,
   "id": "892e3bc8",
   "metadata": {},
   "outputs": [
    {
     "data": {
      "text/plain": [
       "('ryan', 'bontose', 'digby')"
      ]
     },
     "execution_count": 38,
     "metadata": {},
     "output_type": "execute_result"
    }
   ],
   "source": [
    "F"
   ]
  },
  {
   "cell_type": "code",
   "execution_count": 39,
   "id": "ff1dff40",
   "metadata": {},
   "outputs": [],
   "source": [
    "G = F[-1]"
   ]
  },
  {
   "cell_type": "code",
   "execution_count": 40,
   "id": "ccfb29b4",
   "metadata": {},
   "outputs": [
    {
     "data": {
      "text/plain": [
       "'digby'"
      ]
     },
     "execution_count": 40,
     "metadata": {},
     "output_type": "execute_result"
    }
   ],
   "source": [
    "G"
   ]
  },
  {
   "cell_type": "code",
   "execution_count": 47,
   "id": "e9cd67c7",
   "metadata": {},
   "outputs": [],
   "source": [
    "H = D[-2:2]"
   ]
  },
  {
   "cell_type": "code",
   "execution_count": 48,
   "id": "544116ce",
   "metadata": {},
   "outputs": [
    {
     "data": {
      "text/plain": [
       "()"
      ]
     },
     "execution_count": 48,
     "metadata": {},
     "output_type": "execute_result"
    }
   ],
   "source": [
    "H"
   ]
  },
  {
   "cell_type": "code",
   "execution_count": 51,
   "id": "7c3c4848",
   "metadata": {},
   "outputs": [],
   "source": [
    "J = D[8:10:-2]"
   ]
  },
  {
   "cell_type": "code",
   "execution_count": 52,
   "id": "1f7828e8",
   "metadata": {},
   "outputs": [
    {
     "data": {
      "text/plain": [
       "()"
      ]
     },
     "execution_count": 52,
     "metadata": {},
     "output_type": "execute_result"
    }
   ],
   "source": [
    "J"
   ]
  },
  {
   "cell_type": "code",
   "execution_count": 53,
   "id": "bb855704",
   "metadata": {},
   "outputs": [],
   "source": [
    "K = D[0:10:-4]"
   ]
  },
  {
   "cell_type": "code",
   "execution_count": 54,
   "id": "0066f934",
   "metadata": {},
   "outputs": [
    {
     "data": {
      "text/plain": [
       "()"
      ]
     },
     "execution_count": 54,
     "metadata": {},
     "output_type": "execute_result"
    }
   ],
   "source": [
    "K"
   ]
  },
  {
   "cell_type": "code",
   "execution_count": 55,
   "id": "669abf71",
   "metadata": {},
   "outputs": [
    {
     "data": {
      "text/plain": [
       "('ryan',\n",
       " 'blake',\n",
       " 'terrance',\n",
       " 'bontose',\n",
       " 'dobey',\n",
       " 'McCall',\n",
       " 'digby',\n",
       " 'poonyan',\n",
       " 'mickey ratt')"
      ]
     },
     "execution_count": 55,
     "metadata": {},
     "output_type": "execute_result"
    }
   ],
   "source": [
    "D"
   ]
  },
  {
   "cell_type": "code",
   "execution_count": 56,
   "id": "fe4b4254",
   "metadata": {},
   "outputs": [],
   "source": [
    "K = D[-1:]"
   ]
  },
  {
   "cell_type": "code",
   "execution_count": 57,
   "id": "3572123f",
   "metadata": {},
   "outputs": [
    {
     "data": {
      "text/plain": [
       "('mickey ratt',)"
      ]
     },
     "execution_count": 57,
     "metadata": {},
     "output_type": "execute_result"
    }
   ],
   "source": [
    "K"
   ]
  },
  {
   "cell_type": "code",
   "execution_count": 58,
   "id": "b45e3170",
   "metadata": {},
   "outputs": [
    {
     "data": {
      "text/plain": [
       "('ryan',\n",
       " 'blake',\n",
       " 'terrance',\n",
       " 'bontose',\n",
       " 'dobey',\n",
       " 'McCall',\n",
       " 'digby',\n",
       " 'poonyan',\n",
       " 'mickey ratt')"
      ]
     },
     "execution_count": 58,
     "metadata": {},
     "output_type": "execute_result"
    }
   ],
   "source": [
    "D[0:]"
   ]
  },
  {
   "cell_type": "code",
   "execution_count": 59,
   "id": "162ed9a7",
   "metadata": {},
   "outputs": [
    {
     "data": {
      "text/plain": [
       "('ryan',\n",
       " 'blake',\n",
       " 'terrance',\n",
       " 'bontose',\n",
       " 'dobey',\n",
       " 'McCall',\n",
       " 'digby',\n",
       " 'poonyan',\n",
       " 'mickey ratt')"
      ]
     },
     "execution_count": 59,
     "metadata": {},
     "output_type": "execute_result"
    }
   ],
   "source": [
    "D[::]"
   ]
  },
  {
   "cell_type": "code",
   "execution_count": 60,
   "id": "bd918ab8",
   "metadata": {},
   "outputs": [
    {
     "data": {
      "text/plain": [
       "('ryan',\n",
       " 'blake',\n",
       " 'terrance',\n",
       " 'bontose',\n",
       " 'dobey',\n",
       " 'McCall',\n",
       " 'digby',\n",
       " 'poonyan',\n",
       " 'mickey ratt')"
      ]
     },
     "execution_count": 60,
     "metadata": {},
     "output_type": "execute_result"
    }
   ],
   "source": [
    "D[:]"
   ]
  },
  {
   "cell_type": "code",
   "execution_count": 61,
   "id": "2ac3be6d",
   "metadata": {},
   "outputs": [
    {
     "data": {
      "text/plain": [
       "('ryan', 'terrance', 'dobey', 'digby', 'mickey ratt')"
      ]
     },
     "execution_count": 61,
     "metadata": {},
     "output_type": "execute_result"
    }
   ],
   "source": [
    "D[::2]"
   ]
  },
  {
   "cell_type": "code",
   "execution_count": 62,
   "id": "78d96bc4",
   "metadata": {},
   "outputs": [
    {
     "data": {
      "text/plain": [
       "('blake', 'bontose', 'McCall', 'poonyan')"
      ]
     },
     "execution_count": 62,
     "metadata": {},
     "output_type": "execute_result"
    }
   ],
   "source": [
    "D[1::2]"
   ]
  },
  {
   "cell_type": "code",
   "execution_count": 63,
   "id": "db677a25",
   "metadata": {},
   "outputs": [
    {
     "data": {
      "text/plain": [
       "('mickey ratt',\n",
       " 'poonyan',\n",
       " 'digby',\n",
       " 'McCall',\n",
       " 'dobey',\n",
       " 'bontose',\n",
       " 'terrance',\n",
       " 'blake',\n",
       " 'ryan')"
      ]
     },
     "execution_count": 63,
     "metadata": {},
     "output_type": "execute_result"
    }
   ],
   "source": [
    "# To go backwards\n",
    "\n",
    "D[::-1]"
   ]
  },
  {
   "cell_type": "code",
   "execution_count": 64,
   "id": "fdcc066b",
   "metadata": {},
   "outputs": [
    {
     "data": {
      "text/plain": [
       "('mickey ratt',\n",
       " 'poonyan',\n",
       " 'digby',\n",
       " 'McCall',\n",
       " 'dobey',\n",
       " 'bontose',\n",
       " 'terrance',\n",
       " 'blake')"
      ]
     },
     "execution_count": 64,
     "metadata": {},
     "output_type": "execute_result"
    }
   ],
   "source": [
    "# Ryan will be removed from beginning of list and will print out backwards.\n",
    "\n",
    "D[-1:0:-1]"
   ]
  },
  {
   "cell_type": "code",
   "execution_count": 65,
   "id": "fc36f949",
   "metadata": {},
   "outputs": [
    {
     "data": {
      "text/plain": [
       "('ryan',\n",
       " 'blake',\n",
       " 'terrance',\n",
       " 'bontose',\n",
       " 'dobey',\n",
       " 'McCall',\n",
       " 'digby',\n",
       " 'poonyan',\n",
       " 'mickey ratt')"
      ]
     },
     "execution_count": 65,
     "metadata": {},
     "output_type": "execute_result"
    }
   ],
   "source": [
    "D"
   ]
  },
  {
   "cell_type": "code",
   "execution_count": null,
   "id": "7a5e1f2f",
   "metadata": {},
   "outputs": [],
   "source": []
  }
 ],
 "metadata": {
  "kernelspec": {
   "display_name": "Python 3 (ipykernel)",
   "language": "python",
   "name": "python3"
  },
  "language_info": {
   "codemirror_mode": {
    "name": "ipython",
    "version": 3
   },
   "file_extension": ".py",
   "mimetype": "text/x-python",
   "name": "python",
   "nbconvert_exporter": "python",
   "pygments_lexer": "ipython3",
   "version": "3.9.7"
  }
 },
 "nbformat": 4,
 "nbformat_minor": 5
}
