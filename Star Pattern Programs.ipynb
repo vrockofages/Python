{
 "cells": [
  {
   "cell_type": "markdown",
   "id": "573809a6",
   "metadata": {},
   "source": [
    "# Pattern Programs"
   ]
  },
  {
   "cell_type": "code",
   "execution_count": 13,
   "id": "8cb16b05",
   "metadata": {},
   "outputs": [
    {
     "name": "stdout",
     "output_type": "stream",
     "text": [
      "        * \r\n",
      "       * * \r\n",
      "      * * * \r\n",
      "     * * * * \r\n",
      "    * * * * * \r\n"
     ]
    }
   ],
   "source": [
    "# Pyramid Pattern\n",
    "\n",
    "def pattern(n):     # \"n\" will be our number of lines\n",
    "    k = 2 * n - 2             # k = 2 * 5 - 2 = 8    This line is out NUMBER OF SPACES\n",
    "    for i in range(0,n):      # range (0,5)\n",
    "        for j in range(0,k):  # range (0,8)    This is our Loop for COLUMNS\n",
    "            print(end=\" \")\n",
    "        k = k - 1             # k = 7\n",
    "        for j in range(0,i+1):        # range(0,i+1)\n",
    "            print(\"* \", end=\"\")\n",
    "        print(\"\\r\")               # This is a \"Carriage Return\"  it will take everything after and put at beginning of the line.\n",
    "pattern(5)                 # Print out \"5\" lines"
   ]
  },
  {
   "cell_type": "code",
   "execution_count": 19,
   "id": "913ad5bf",
   "metadata": {},
   "outputs": [
    {
     "name": "stdout",
     "output_type": "stream",
     "text": [
      "   * * * * * * \r\n",
      "    * * * * * \r\n",
      "     * * * * \r\n",
      "      * * * \r\n",
      "       * * \r\n",
      "        * \r\n"
     ]
    }
   ],
   "source": [
    "# Backwards Pyramid Pattern\n",
    "\n",
    "def pattern(n):     # \"n\" will be our number of lines\n",
    "    k = n - 2             # k =3    This line is out NUMBER OF SPACES\n",
    "    for i in range(n,-1,-1):      # range (5,-1,-1)\n",
    "        for j in range(k,0,-1):  # range (8,0,-1)    This is our Loop for COLUMNS\n",
    "            print(end=\" \")\n",
    "        k = k + 1             # k = 4\n",
    "        for j in range(0,i+1):        # range(0,i+1)\n",
    "            print(\"* \", end=\"\")\n",
    "        print(\"\\r\")               # This is a \"Carriage Return\"  it will take everything after and put at beginning of the line.\n",
    "pattern(5)                 # Print out \"5\" lines"
   ]
  },
  {
   "cell_type": "code",
   "execution_count": 24,
   "id": "c3fa0b68",
   "metadata": {},
   "outputs": [
    {
     "name": "stdout",
     "output_type": "stream",
     "text": [
      "* \r\n",
      "* * \r\n",
      "* * * \r\n",
      "* * * * \r\n",
      "* * * * * \r\n",
      "* * * * * * \r\n",
      "* * * * * * * \r\n",
      "* * * * * * * * \r\n",
      "* * * * * * * * * \r\n",
      "* * * * * * * * * * \r\n",
      "* * * * * * * * * * * \r\n",
      "* * * * * * * * * * \r\n",
      "* * * * * * * * * \r\n",
      "* * * * * * * * \r\n",
      "* * * * * * * \r\n",
      "* * * * * * \r\n",
      "* * * * * \r\n",
      "* * * * \r\n",
      "* * * \r\n",
      "* * \r\n",
      "* \r\n"
     ]
    }
   ],
   "source": [
    "# Right Star Pattern\n",
    "\n",
    "def pattern(n):\n",
    "    for i in range(0,n):\n",
    "        for j in range(0,i + 1):\n",
    "            print(\"* \", end=\"\")\n",
    "        print(\"\\r\")\n",
    "    for i in range(n,-1,-1):\n",
    "        for j in range(0,i + 1):\n",
    "            print(\"* \", end=\"\")\n",
    "        print(\"\\r\")\n",
    "pattern(10)"
   ]
  },
  {
   "cell_type": "code",
   "execution_count": 42,
   "id": "3add5b1b",
   "metadata": {},
   "outputs": [
    {
     "name": "stdout",
     "output_type": "stream",
     "text": [
      "                  * \r\n",
      "                * * \r\n",
      "              * * * \r\n",
      "            * * * * \r\n",
      "          * * * * * \r\n",
      "        * * * * * * \r\n",
      "      * * * * * * * \r\n",
      "    * * * * * * * * \r\n",
      "  * * * * * * * * * \r\n",
      "* * * * * * * * * * \r\n",
      "  * * * * * * * * * \r\n",
      "    * * * * * * * * \r\n",
      "      * * * * * * * \r\n",
      "        * * * * * * \r\n",
      "          * * * * * \r\n",
      "            * * * * \r\n",
      "              * * * \r\n",
      "                * * \r\n",
      "                  * \r\n"
     ]
    }
   ],
   "source": [
    "# Left Star Pattern\n",
    "\n",
    "def pattern(n):\n",
    "    k = 2*n-2\n",
    "    for i in range(0,n-1):          #First Half of Rows\n",
    "        for j in range(0,k):\n",
    "            print(end=\" \")\n",
    "        k = k - 2\n",
    "        for j in range(0, i + 1):\n",
    "            print(\"* \", end=\"\")\n",
    "        print(\"\\r\")\n",
    "    k = -1\n",
    "    for i in range(n-1,-1,-1):      #2nd Half of Rows going backwards\n",
    "        for j in range(k,-1,-1):\n",
    "            print(end=\" \")\n",
    "        k = k + 2\n",
    "        for j in range(0,i+1):\n",
    "            print(\"* \", end=\"\")\n",
    "        print(\"\\r\")\n",
    "pattern(10)\n",
    "            \n",
    "   "
   ]
  },
  {
   "cell_type": "code",
   "execution_count": 50,
   "id": "80ad4bd0",
   "metadata": {},
   "outputs": [
    {
     "name": "stdout",
     "output_type": "stream",
     "text": [
      "   * * * * * * \r\n",
      "    * * * * * \r\n",
      "     * * * * \r\n",
      "      * * * \r\n",
      "       * * \r\n",
      "        * \r\n",
      "        * \r\n",
      "       * * \r\n",
      "      * * * \r\n",
      "     * * * * \r\n",
      "    * * * * * \r\n",
      "   * * * * * * \r\n"
     ]
    }
   ],
   "source": [
    "# Hourglass Pattern\n",
    "def pattern(n):\n",
    "    k = n - 2\n",
    "    for i in range(n,-1,-1):\n",
    "        for j in range(k,0,-1):\n",
    "            print(end=\" \")\n",
    "        k = k + 1\n",
    "        for j in range(0, i + 1):\n",
    "            print(\"* \",end=\"\")\n",
    "        print(\"\\r\")\n",
    "    k = 2 * n - 2             # k = 2 * 5 - 2 = 8    This line is out NUMBER OF SPACES\n",
    "    for i in range(0,n+1):      # range (0,5)\n",
    "        for j in range(0,k):  # range (0,8)    This is our Loop for COLUMNS\n",
    "            print(end=\" \")\n",
    "        k = k-1              # k = 7\n",
    "        for j in range(0,i+1):        # range(0,i+1)\n",
    "            print(\"* \", end=\"\")\n",
    "        print(\"\\r\")       \n",
    "        \n",
    "pattern(5)\n"
   ]
  },
  {
   "cell_type": "code",
   "execution_count": 53,
   "id": "0c626c29",
   "metadata": {},
   "outputs": [
    {
     "name": "stdout",
     "output_type": "stream",
     "text": [
      "* \r\n",
      "* * \r\n",
      "* * * \r\n",
      "* * * * \r\n",
      "* * * * * \r\n",
      "* * * * * * \r\n",
      "* * * * * * * \r\n",
      "* * * * * * * * \r\n",
      "* * * * * * * * * \r\n",
      "* * * * * * * * * * \r\n"
     ]
    }
   ],
   "source": [
    "# Right Triangle Pattern\n",
    "\n",
    "def pattern(n):           # We'll have 10 rows\n",
    "    for i in range(0,n):  #Go from index 0 to index of 9\n",
    "        for j in range(0,i+1):     # J will be our columns.  The first one is range(0,2), so one column occurs.\n",
    "                                   # on the 2nd go around our range is (0,3), so 2 columns appear and so on.\n",
    "            print(\"* \",end=\"\")\n",
    "        print(\"\\r\")\n",
    "pattern(10)"
   ]
  },
  {
   "cell_type": "code",
   "execution_count": 54,
   "id": "78bad683",
   "metadata": {},
   "outputs": [
    {
     "name": "stdout",
     "output_type": "stream",
     "text": [
      "            * \r\n",
      "          * * \r\n",
      "        * * * \r\n",
      "      * * * * \r\n",
      "    * * * * * \r\n",
      "  * * * * * * \r\n",
      "* * * * * * * \r\n"
     ]
    }
   ],
   "source": [
    "# Left Triangle Pattern\n",
    "\n",
    "def pattern(n):\n",
    "    k = 2 * n - 2\n",
    "    for i in range(0,n):\n",
    "        for j in range(0,k):\n",
    "            print(end=\" \")\n",
    "        k = k - 2\n",
    "        for j in range(0, i + 1):\n",
    "            print(\"* \", end=\"\")\n",
    "        print(\"\\r\")\n",
    "pattern(7)"
   ]
  },
  {
   "cell_type": "code",
   "execution_count": 56,
   "id": "a5a390d2",
   "metadata": {},
   "outputs": [
    {
     "name": "stdout",
     "output_type": "stream",
     "text": [
      "* * * * * * * * * * * \r\n",
      "* * * * * * * * * * \r\n",
      "* * * * * * * * * \r\n",
      "* * * * * * * * \r\n",
      "* * * * * * * \r\n",
      "* * * * * * \r\n",
      "* * * * * \r\n",
      "* * * * \r\n",
      "* * * \r\n",
      "* * \r\n",
      "* \r\n"
     ]
    }
   ],
   "source": [
    "# Downward Half Pyramid\n",
    "\n",
    "def pattern(n):\n",
    "    for i in range(n,-1,-1):\n",
    "        for j in range(0,i+1):\n",
    "            print(\"* \", end=\"\")\n",
    "        print(\"\\r\")\n",
    "pattern(10)\n",
    "            \n",
    "            "
   ]
  },
  {
   "cell_type": "code",
   "execution_count": 59,
   "id": "7073eb15",
   "metadata": {},
   "outputs": [
    {
     "name": "stdout",
     "output_type": "stream",
     "text": [
      "                  * \r\n",
      "                 * * \r\n",
      "                * * * \r\n",
      "               * * * * \r\n",
      "              * * * * * \r\n",
      "             * * * * * * \r\n",
      "            * * * * * * * \r\n",
      "           * * * * * * * * \r\n",
      "          * * * * * * * * * \r\n",
      "         * * * * * * * * * * \r\n",
      "        * * * * * * * * * * * \r\n",
      "         * * * * * * * * * * \r\n",
      "          * * * * * * * * * \r\n",
      "           * * * * * * * * \r\n",
      "            * * * * * * * \r\n",
      "             * * * * * * \r\n",
      "              * * * * * \r\n",
      "               * * * * \r\n",
      "                * * * \r\n",
      "                 * * \r\n",
      "                  * \r\n"
     ]
    }
   ],
   "source": [
    "# Diamond Pattern\n",
    "\n",
    "def pattern(n):\n",
    "    k = 2 * n - 2\n",
    "    for i in range(0,n):\n",
    "        for j in range(0,k):\n",
    "            print(end=\" \")\n",
    "        k = k - 1\n",
    "        for j in range(0, i + 1):\n",
    "            print(\"* \", end = \"\")\n",
    "        print(\"\\r\")\n",
    "    k = n - 2\n",
    "    for i in range(n,-1,-1):\n",
    "        for j in range(k,0,-1):\n",
    "            print(end=\" \")\n",
    "        k = k + 1\n",
    "        for j in range(0, i + 1):\n",
    "            print(\"* \",end=\"\")\n",
    "        print(\"\\r\")\n",
    "pattern(10)    \n",
    "        "
   ]
  },
  {
   "cell_type": "code",
   "execution_count": 66,
   "id": "48d63999",
   "metadata": {},
   "outputs": [
    {
     "name": "stdout",
     "output_type": "stream",
     "text": [
      "  *  \n",
      " * * \n",
      "*   *\n",
      " * * \n",
      "  *  \n"
     ]
    }
   ],
   "source": [
    "# Hollow Diamond Pattern\n",
    "\n",
    "for i in range (5):\n",
    "    for j in range(5):\n",
    "        if i + j == 2 or i - j == 2 or i + j == 6 or j-i ==2:\n",
    "            print(\"*\",end=\"\")\n",
    "        else:\n",
    "            print(end=\" \")\n",
    "    print()"
   ]
  },
  {
   "cell_type": "code",
   "execution_count": 69,
   "id": "410fe7d2",
   "metadata": {},
   "outputs": [
    {
     "name": "stdout",
     "output_type": "stream",
     "text": [
      "1 \r\n",
      "2 2 \r\n",
      "3 3 3 \r\n",
      "4 4 4 4 \r\n",
      "5 5 5 5 5 \r\n",
      "6 6 6 6 6 6 \r\n",
      "7 7 7 7 7 7 7 \r\n",
      "8 8 8 8 8 8 8 8 \r\n",
      "9 9 9 9 9 9 9 9 9 \r\n",
      "10 10 10 10 10 10 10 10 10 10 \r\n",
      "11 11 11 11 11 11 11 11 11 11 11 \r\n",
      "12 12 12 12 12 12 12 12 12 12 12 12 \r\n"
     ]
    }
   ],
   "source": [
    "# Number Patterns\n",
    "\n",
    "def pattern(n):\n",
    "    x = 0\n",
    "    for i in range(0,n):\n",
    "        x += 1                     #Increase x by 1\n",
    "        for j in range(0, i + 1):  #Increase number of columns by 1\n",
    "            print(x,end=\" \")\n",
    "        print('\\r')\n",
    "pattern(12)"
   ]
  },
  {
   "cell_type": "code",
   "execution_count": 71,
   "id": "05a93bf0",
   "metadata": {},
   "outputs": [
    {
     "name": "stdout",
     "output_type": "stream",
     "text": [
      "1  \n",
      "1  1  \n",
      "1  2  1  \n",
      "1  3  3  1  \n",
      "1  4  6  4  1  \n",
      "1  5  10  10  5  1  \n",
      "1  6  15  20  15  6  1  \n",
      "1  7  21  35  35  21  7  1  \n"
     ]
    }
   ],
   "source": [
    "# Pascal's Triangle\n",
    "\n",
    "def pattern(n):\n",
    "    for i in range(0,n):\n",
    "        for j in range(0, i + 1):\n",
    "            print(function(i,j), \" \",end=\"\")\n",
    "        print()\n",
    "        \n",
    "def function(n,k):\n",
    "    result = 1\n",
    "    if (k > n - k):\n",
    "        k = n - k\n",
    "    for i in range(0,k):\n",
    "        result = result * (n-i)\n",
    "        result = result//(i + 1)\n",
    "    return result\n",
    "\n",
    "pattern(8)\n",
    "            "
   ]
  },
  {
   "cell_type": "code",
   "execution_count": 72,
   "id": "c2f1660f",
   "metadata": {},
   "outputs": [
    {
     "name": "stdout",
     "output_type": "stream",
     "text": [
      "1 \r\n",
      "2 2 \r\n",
      "3 3 3 \r\n",
      "4 4 4 4 \r\n",
      "5 5 5 5 5 \r\n",
      "6 6 6 6 6 6 \r\n",
      "7 7 7 7 7 7 7 \r\n",
      "8 8 8 8 8 8 8 8 \r\n"
     ]
    }
   ],
   "source": [
    "def pattern(n):\n",
    "    x = 0\n",
    "    for i in range(0,n):\n",
    "        x = x + 1\n",
    "        for j in range(0, i + 1):\n",
    "            print(x, end=\" \")\n",
    "        print(\"\\r\")\n",
    "pattern(8)"
   ]
  },
  {
   "cell_type": "code",
   "execution_count": null,
   "id": "2b7ea6a7",
   "metadata": {},
   "outputs": [],
   "source": []
  }
 ],
 "metadata": {
  "kernelspec": {
   "display_name": "Python 3 (ipykernel)",
   "language": "python",
   "name": "python3"
  },
  "language_info": {
   "codemirror_mode": {
    "name": "ipython",
    "version": 3
   },
   "file_extension": ".py",
   "mimetype": "text/x-python",
   "name": "python",
   "nbconvert_exporter": "python",
   "pygments_lexer": "ipython3",
   "version": "3.9.7"
  }
 },
 "nbformat": 4,
 "nbformat_minor": 5
}
