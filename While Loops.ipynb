{
 "cells": [
  {
   "cell_type": "code",
   "execution_count": 1,
   "id": "5b456769",
   "metadata": {},
   "outputs": [
    {
     "name": "stdout",
     "output_type": "stream",
     "text": [
      "sup dawg\n",
      "sup dawg\n",
      "sup dawg\n",
      "sup dawg\n",
      "sup dawg\n"
     ]
    }
   ],
   "source": [
    "i=0\n",
    "while(i<5):\n",
    "    print(\"sup dawg\")\n",
    "    i = i + 1"
   ]
  },
  {
   "cell_type": "code",
   "execution_count": 2,
   "id": "73df40ef",
   "metadata": {},
   "outputs": [
    {
     "name": "stdout",
     "output_type": "stream",
     "text": [
      "0\n",
      "1\n",
      "2\n",
      "3\n",
      "4\n"
     ]
    }
   ],
   "source": [
    "i=0\n",
    "while(i<5):\n",
    "    print(i)\n",
    "    i = i + 1"
   ]
  },
  {
   "cell_type": "code",
   "execution_count": 1,
   "id": "ed4a306f",
   "metadata": {},
   "outputs": [
    {
     "name": "stdout",
     "output_type": "stream",
     "text": [
      "0\n",
      "2\n",
      "4\n"
     ]
    }
   ],
   "source": [
    "i = 0\n",
    "while (i < 5):\n",
    "    print(i)\n",
    "    i = i + 2"
   ]
  },
  {
   "cell_type": "code",
   "execution_count": 2,
   "id": "2cd775a9",
   "metadata": {},
   "outputs": [
    {
     "name": "stdout",
     "output_type": "stream",
     "text": [
      "0 0\n",
      "1 2\n",
      "2 4\n",
      "3 6\n"
     ]
    }
   ],
   "source": [
    "i = 0\n",
    "j = 0\n",
    "while (i + j < 10):\n",
    "    print (i, j)\n",
    "    i = i + 1\n",
    "    j = j + 2"
   ]
  },
  {
   "cell_type": "code",
   "execution_count": 3,
   "id": "f72ba96e",
   "metadata": {},
   "outputs": [
    {
     "name": "stdout",
     "output_type": "stream",
     "text": [
      "1\n",
      "1\n",
      "1\n",
      "1\n",
      "1\n"
     ]
    }
   ],
   "source": [
    "x = 1\n",
    "for i in range(0,5):\n",
    "    print(x)"
   ]
  },
  {
   "cell_type": "code",
   "execution_count": 4,
   "id": "a91b9bb9",
   "metadata": {},
   "outputs": [
    {
     "name": "stdout",
     "output_type": "stream",
     "text": [
      "1\n",
      "2\n",
      "3\n",
      "4\n",
      "5\n"
     ]
    }
   ],
   "source": [
    "x = 1\n",
    "for i in range(0,5):\n",
    "    print(x+i)\n",
    "# 0+1, 1+1, 2+1, 3+1, 4+1 (i is first and x is 2nd)"
   ]
  },
  {
   "cell_type": "markdown",
   "id": "a29d283d",
   "metadata": {},
   "source": [
    " # Factorial of a Number\n"
   ]
  },
  {
   "cell_type": "code",
   "execution_count": 5,
   "id": "05159087",
   "metadata": {},
   "outputs": [
    {
     "name": "stdout",
     "output_type": "stream",
     "text": [
      "120\n"
     ]
    }
   ],
   "source": [
    "# A Factorial example 5 = 5*4*3*2*1\n",
    "\n",
    "x = 1\n",
    "for i in range(1,6):\n",
    "    x = x * i\n",
    "print(x)"
   ]
  },
  {
   "cell_type": "code",
   "execution_count": 6,
   "id": "8e0f76ee",
   "metadata": {},
   "outputs": [
    {
     "name": "stdout",
     "output_type": "stream",
     "text": [
      "0 9\n",
      "1 8\n",
      "2 7\n",
      "3 6\n",
      "4 5\n"
     ]
    }
   ],
   "source": [
    "x = 10\n",
    "for i in range(0,5):\n",
    "    x = x-1\n",
    "    print(i,x)"
   ]
  },
  {
   "cell_type": "code",
   "execution_count": 7,
   "id": "4854b237",
   "metadata": {},
   "outputs": [
    {
     "name": "stdout",
     "output_type": "stream",
     "text": [
      "Please enter a number to calculate the factorial:5\n",
      "i value = 1 x value = 1\n",
      "i value = 2 x value = 2\n",
      "i value = 3 x value = 6\n",
      "i value = 4 x value = 24\n",
      "i value = 5 x value = 120\n"
     ]
    }
   ],
   "source": [
    "y = int(input(\"Please enter a number to calculate the factorial:\"))\n",
    "x = 1\n",
    "for i in range(1,y+1):   #Setting up our range input # + 1  ex: if 6 typed, range becomes (1,7)\n",
    "    x = x * i # 1*1, 2*1, 3*2, 4*6, etc...\n",
    "    print(\"i value = \" + str(i) + \" x value = \" + str(x))"
   ]
  },
  {
   "cell_type": "code",
   "execution_count": 9,
   "id": "1587a824",
   "metadata": {},
   "outputs": [],
   "source": [
    "List2 = [\"Black\", \"White\", \"Blue\", \"Red\", 30, 50, 60]"
   ]
  },
  {
   "cell_type": "code",
   "execution_count": 10,
   "id": "bba41fe6",
   "metadata": {},
   "outputs": [
    {
     "data": {
      "text/plain": [
       "['Black', 'White', 'Blue', 'Red', 30, 50, 60]"
      ]
     },
     "execution_count": 10,
     "metadata": {},
     "output_type": "execute_result"
    }
   ],
   "source": [
    "List2"
   ]
  },
  {
   "cell_type": "code",
   "execution_count": 11,
   "id": "8d7b6f15",
   "metadata": {},
   "outputs": [
    {
     "name": "stdout",
     "output_type": "stream",
     "text": [
      "Blue\n",
      "Blue\n",
      "Blue\n",
      "Blue\n",
      "Blue\n",
      "Blue\n"
     ]
    }
   ],
   "source": [
    "for i in range(0,6):\n",
    "    print(List2[2])"
   ]
  },
  {
   "cell_type": "code",
   "execution_count": 12,
   "id": "7571059d",
   "metadata": {},
   "outputs": [
    {
     "name": "stdout",
     "output_type": "stream",
     "text": [
      "Black\n",
      "White\n",
      "Blue\n",
      "Red\n",
      "30\n",
      "50\n",
      "60\n"
     ]
    }
   ],
   "source": [
    "for i in range(0,len(List2)):\n",
    "    print(List2[i])"
   ]
  },
  {
   "cell_type": "code",
   "execution_count": null,
   "id": "79b7f675",
   "metadata": {},
   "outputs": [],
   "source": []
  }
 ],
 "metadata": {
  "kernelspec": {
   "display_name": "Python 3 (ipykernel)",
   "language": "python",
   "name": "python3"
  },
  "language_info": {
   "codemirror_mode": {
    "name": "ipython",
    "version": 3
   },
   "file_extension": ".py",
   "mimetype": "text/x-python",
   "name": "python",
   "nbconvert_exporter": "python",
   "pygments_lexer": "ipython3",
   "version": "3.9.7"
  }
 },
 "nbformat": 4,
 "nbformat_minor": 5
}
