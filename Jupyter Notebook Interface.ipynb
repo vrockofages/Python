{
 "cells": [
  {
   "cell_type": "code",
   "execution_count": 1,
   "id": "8fdd255a",
   "metadata": {},
   "outputs": [],
   "source": [
    "# command mode: blue mode\n",
    "# edit mode: green\n",
    "# command mode -> edit mode: Press enter or you can click using mouse in the cell\n",
    "# edit mode -> command mode: Press ESC\n",
    "\n",
    "# CTRL + Enter can be used to run or to execute the whole chunk of code you have written in the cell.\n",
    "# You will see a change in [] when you execute any cell.\n",
    "\n",
    "# CTRL + Enter can execute the code but it will not add or move to the next cell.\n",
    "\n",
    "# while\n",
    "# Shift + Enter will execute the code and move to the next cell."
   ]
  },
  {
   "cell_type": "code",
   "execution_count": 2,
   "id": "4e646e31",
   "metadata": {},
   "outputs": [
    {
     "name": "stdout",
     "output_type": "stream",
     "text": [
      "Hello\n"
     ]
    }
   ],
   "source": [
    "print (\"Hello\")"
   ]
  },
  {
   "cell_type": "code",
   "execution_count": 4,
   "id": "1d3073ec",
   "metadata": {},
   "outputs": [],
   "source": [
    "# Add any cell above this cell, you can use 'a' only when you are in command mode\n",
    "# Add any cell below this cell, you can use 'b' only when you are in command mode"
   ]
  },
  {
   "cell_type": "code",
   "execution_count": 7,
   "id": "1d838e31",
   "metadata": {},
   "outputs": [],
   "source": [
    "# 'dd' can be used to delete a cell, but only in command mode."
   ]
  },
  {
   "cell_type": "markdown",
   "id": "bde75f4f",
   "metadata": {},
   "source": [
    "# First Program"
   ]
  },
  {
   "cell_type": "markdown",
   "id": "b6810192",
   "metadata": {},
   "source": [
    "###Second Program"
   ]
  },
  {
   "cell_type": "markdown",
   "id": "af8c167f",
   "metadata": {},
   "source": [
    "# Markdown"
   ]
  },
  {
   "cell_type": "code",
   "execution_count": null,
   "id": "b97db4bc",
   "metadata": {},
   "outputs": [],
   "source": []
  }
 ],
 "metadata": {
  "kernelspec": {
   "display_name": "Python 3 (ipykernel)",
   "language": "python",
   "name": "python3"
  },
  "language_info": {
   "codemirror_mode": {
    "name": "ipython",
    "version": 3
   },
   "file_extension": ".py",
   "mimetype": "text/x-python",
   "name": "python",
   "nbconvert_exporter": "python",
   "pygments_lexer": "ipython3",
   "version": "3.9.7"
  }
 },
 "nbformat": 4,
 "nbformat_minor": 5
}
