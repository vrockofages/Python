{
 "cells": [
  {
   "cell_type": "markdown",
   "id": "e3f8b133",
   "metadata": {},
   "source": [
    "# Tuple Methods"
   ]
  },
  {
   "cell_type": "code",
   "execution_count": 1,
   "id": "3639bcbb",
   "metadata": {},
   "outputs": [],
   "source": [
    "A = (10,20,30,40,30,30,30,20,42,65,234,3409, 34324, 3409, 57,57,2434,2343,300,13431)"
   ]
  },
  {
   "cell_type": "code",
   "execution_count": 2,
   "id": "83f874aa",
   "metadata": {},
   "outputs": [
    {
     "data": {
      "text/plain": [
       "(10,\n",
       " 20,\n",
       " 30,\n",
       " 40,\n",
       " 30,\n",
       " 30,\n",
       " 30,\n",
       " 20,\n",
       " 42,\n",
       " 65,\n",
       " 234,\n",
       " 3409,\n",
       " 34324,\n",
       " 3409,\n",
       " 57,\n",
       " 57,\n",
       " 2434,\n",
       " 2343,\n",
       " 300,\n",
       " 13431)"
      ]
     },
     "execution_count": 2,
     "metadata": {},
     "output_type": "execute_result"
    }
   ],
   "source": [
    "A"
   ]
  },
  {
   "cell_type": "code",
   "execution_count": 4,
   "id": "6766fcdb",
   "metadata": {},
   "outputs": [
    {
     "name": "stdout",
     "output_type": "stream",
     "text": [
      "10\n",
      "20\n",
      "30\n",
      "40\n",
      "30\n",
      "30\n",
      "30\n",
      "20\n",
      "42\n",
      "65\n",
      "234\n",
      "3409\n",
      "34324\n",
      "3409\n",
      "57\n",
      "57\n",
      "2434\n",
      "2343\n",
      "300\n",
      "13431\n"
     ]
    }
   ],
   "source": [
    "for i in A:\n",
    "    print(i)"
   ]
  },
  {
   "cell_type": "code",
   "execution_count": 5,
   "id": "c9ebc21a",
   "metadata": {},
   "outputs": [
    {
     "data": {
      "text/plain": [
       "tuple"
      ]
     },
     "execution_count": 5,
     "metadata": {},
     "output_type": "execute_result"
    }
   ],
   "source": [
    "type(A)"
   ]
  },
  {
   "cell_type": "code",
   "execution_count": 6,
   "id": "70627858",
   "metadata": {},
   "outputs": [
    {
     "data": {
      "text/plain": [
       "20"
      ]
     },
     "execution_count": 6,
     "metadata": {},
     "output_type": "execute_result"
    }
   ],
   "source": [
    "len(A) # length of tuple"
   ]
  },
  {
   "cell_type": "code",
   "execution_count": 7,
   "id": "7fbe4563",
   "metadata": {},
   "outputs": [
    {
     "data": {
      "text/plain": [
       "2"
      ]
     },
     "execution_count": 7,
     "metadata": {},
     "output_type": "execute_result"
    }
   ],
   "source": [
    "# of occurrences of \"20\" in the tuple\n",
    "\n",
    "A.count(20)"
   ]
  },
  {
   "cell_type": "code",
   "execution_count": 8,
   "id": "39354451",
   "metadata": {},
   "outputs": [
    {
     "data": {
      "text/plain": [
       "4"
      ]
     },
     "execution_count": 8,
     "metadata": {},
     "output_type": "execute_result"
    }
   ],
   "source": [
    "A.count(30)"
   ]
  },
  {
   "cell_type": "code",
   "execution_count": 10,
   "id": "22d79dff",
   "metadata": {},
   "outputs": [
    {
     "data": {
      "text/plain": [
       "2"
      ]
     },
     "execution_count": 10,
     "metadata": {},
     "output_type": "execute_result"
    }
   ],
   "source": [
    "A.index(30) # find index location of first occurence of \"30\" in the tuple"
   ]
  },
  {
   "cell_type": "code",
   "execution_count": 12,
   "id": "0d7bf022",
   "metadata": {},
   "outputs": [
    {
     "data": {
      "text/plain": [
       "19"
      ]
     },
     "execution_count": 12,
     "metadata": {},
     "output_type": "execute_result"
    }
   ],
   "source": [
    "A.index(13431)"
   ]
  },
  {
   "cell_type": "code",
   "execution_count": 13,
   "id": "ac2c3be9",
   "metadata": {},
   "outputs": [],
   "source": [
    "B = (342,34243,22324,24324,234224,13131)"
   ]
  },
  {
   "cell_type": "code",
   "execution_count": 14,
   "id": "b2c214aa",
   "metadata": {},
   "outputs": [],
   "source": [
    "del(B)    # Deletes the tuple"
   ]
  }
 ],
 "metadata": {
  "kernelspec": {
   "display_name": "Python 3 (ipykernel)",
   "language": "python",
   "name": "python3"
  },
  "language_info": {
   "codemirror_mode": {
    "name": "ipython",
    "version": 3
   },
   "file_extension": ".py",
   "mimetype": "text/x-python",
   "name": "python",
   "nbconvert_exporter": "python",
   "pygments_lexer": "ipython3",
   "version": "3.9.7"
  }
 },
 "nbformat": 4,
 "nbformat_minor": 5
}
