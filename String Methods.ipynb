{
 "cells": [
  {
   "cell_type": "code",
   "execution_count": 4,
   "id": "5e4e213d",
   "metadata": {},
   "outputs": [],
   "source": [
    "a = \"    Today is the day.\""
   ]
  },
  {
   "cell_type": "code",
   "execution_count": 2,
   "id": "c61e7dd3",
   "metadata": {},
   "outputs": [],
   "source": [
    "b = \"Tomorrow will be great\""
   ]
  },
  {
   "cell_type": "code",
   "execution_count": 3,
   "id": "333620f7",
   "metadata": {},
   "outputs": [],
   "source": [
    "c = \"Dokken, Crue, Leppard, Jovi, Halen!!!\""
   ]
  },
  {
   "cell_type": "code",
   "execution_count": 5,
   "id": "5b46cc62",
   "metadata": {},
   "outputs": [
    {
     "data": {
      "text/plain": [
       "'Today is the day.'"
      ]
     },
     "execution_count": 5,
     "metadata": {},
     "output_type": "execute_result"
    }
   ],
   "source": [
    "# Strip() removes whitespace before and after\n",
    "a.strip()"
   ]
  },
  {
   "cell_type": "code",
   "execution_count": 6,
   "id": "4de540cc",
   "metadata": {},
   "outputs": [
    {
     "data": {
      "text/plain": [
       "'dokken, crue, leppard, jovi, halen!!!'"
      ]
     },
     "execution_count": 6,
     "metadata": {},
     "output_type": "execute_result"
    }
   ],
   "source": [
    "# Lower() changes everything to lowercase\n",
    "c.lower()"
   ]
  },
  {
   "cell_type": "code",
   "execution_count": 7,
   "id": "5d9f92dd",
   "metadata": {},
   "outputs": [
    {
     "data": {
      "text/plain": [
       "'TOMORROW WILL BE GREAT'"
      ]
     },
     "execution_count": 7,
     "metadata": {},
     "output_type": "execute_result"
    }
   ],
   "source": [
    "# Upper() changes everything to uppercase\n",
    "b.upper()"
   ]
  },
  {
   "cell_type": "code",
   "execution_count": 9,
   "id": "3e71ac75",
   "metadata": {},
   "outputs": [
    {
     "data": {
      "text/plain": [
       "'    Toddogsy is the ddogsy.'"
      ]
     },
     "execution_count": 9,
     "metadata": {},
     "output_type": "execute_result"
    }
   ],
   "source": [
    "# Replace() change what, to what?  It does not make a permanent change.  To permanently change need to a = a.replace...\n",
    "# Replace() is case sensitive.\n",
    "a.replace(\"a\", \"dogs\")"
   ]
  },
  {
   "cell_type": "code",
   "execution_count": 10,
   "id": "69806c14",
   "metadata": {},
   "outputs": [
    {
     "data": {
      "text/plain": [
       "'    Today is the day.'"
      ]
     },
     "execution_count": 10,
     "metadata": {},
     "output_type": "execute_result"
    }
   ],
   "source": [
    "a"
   ]
  },
  {
   "cell_type": "code",
   "execution_count": 12,
   "id": "29c949ec",
   "metadata": {},
   "outputs": [
    {
     "data": {
      "text/plain": [
       "['Dokken,', 'Crue,', 'Leppard,', 'Jovi,', 'Halen!!!']"
      ]
     },
     "execution_count": 12,
     "metadata": {},
     "output_type": "execute_result"
    }
   ],
   "source": [
    "# Split(), splits the string into substrings by using a delimter\n",
    "c.split()"
   ]
  },
  {
   "cell_type": "code",
   "execution_count": 14,
   "id": "6de9d956",
   "metadata": {},
   "outputs": [
    {
     "data": {
      "text/plain": [
       "['Dokken', ' Crue', ' Leppard', ' Jovi', ' Halen!!!']"
      ]
     },
     "execution_count": 14,
     "metadata": {},
     "output_type": "execute_result"
    }
   ],
   "source": [
    "c.split(\",\")"
   ]
  },
  {
   "cell_type": "code",
   "execution_count": 15,
   "id": "92ecd0c1",
   "metadata": {},
   "outputs": [
    {
     "data": {
      "text/plain": [
       "['Dokken, Crue, Leppard, Jovi, Halen!!!']"
      ]
     },
     "execution_count": 15,
     "metadata": {},
     "output_type": "execute_result"
    }
   ],
   "source": [
    "c.split(\"***\")"
   ]
  },
  {
   "cell_type": "code",
   "execution_count": 16,
   "id": "24c925d4",
   "metadata": {},
   "outputs": [
    {
     "data": {
      "text/plain": [
       "['Dokken, Crue, Leppard, Jovi, Halen!!!']"
      ]
     },
     "execution_count": 16,
     "metadata": {},
     "output_type": "execute_result"
    }
   ],
   "source": [
    "c.split(\"-\")"
   ]
  },
  {
   "cell_type": "code",
   "execution_count": 17,
   "id": "6bda709e",
   "metadata": {},
   "outputs": [],
   "source": [
    "d = \"Dogs fly but not as high as Eagles\""
   ]
  },
  {
   "cell_type": "code",
   "execution_count": 18,
   "id": "85771fa7",
   "metadata": {},
   "outputs": [
    {
     "data": {
      "text/plain": [
       "['Dogs fly but not as high as Eagles']"
      ]
     },
     "execution_count": 18,
     "metadata": {},
     "output_type": "execute_result"
    }
   ],
   "source": [
    "d.split(\"   \")"
   ]
  },
  {
   "cell_type": "code",
   "execution_count": 19,
   "id": "ab2a7d7e",
   "metadata": {},
   "outputs": [
    {
     "data": {
      "text/plain": [
       "['Dogs fly but not as high as Eagles']"
      ]
     },
     "execution_count": 19,
     "metadata": {},
     "output_type": "execute_result"
    }
   ],
   "source": [
    "d.split(\"8\")"
   ]
  },
  {
   "cell_type": "code",
   "execution_count": 20,
   "id": "2877b667",
   "metadata": {},
   "outputs": [
    {
     "data": {
      "text/plain": [
       "['Dogs fly but not as high as Eagles']"
      ]
     },
     "execution_count": 20,
     "metadata": {},
     "output_type": "execute_result"
    }
   ],
   "source": [
    "d.split(\",\")"
   ]
  },
  {
   "cell_type": "code",
   "execution_count": 21,
   "id": "768a4384",
   "metadata": {},
   "outputs": [
    {
     "data": {
      "text/plain": [
       "['Dogs', 'fly', 'but', 'not', 'as', 'high', 'as', 'Eagles']"
      ]
     },
     "execution_count": 21,
     "metadata": {},
     "output_type": "execute_result"
    }
   ],
   "source": [
    "d.split()"
   ]
  },
  {
   "cell_type": "markdown",
   "id": "f917338c",
   "metadata": {},
   "source": [
    "# In and Not In"
   ]
  },
  {
   "cell_type": "code",
   "execution_count": 23,
   "id": "f7781570",
   "metadata": {},
   "outputs": [
    {
     "data": {
      "text/plain": [
       "True"
      ]
     },
     "execution_count": 23,
     "metadata": {},
     "output_type": "execute_result"
    }
   ],
   "source": [
    "# In and NOT IN\n",
    "\"Dogs\" in d"
   ]
  },
  {
   "cell_type": "code",
   "execution_count": 24,
   "id": "94438bb2",
   "metadata": {},
   "outputs": [
    {
     "data": {
      "text/plain": [
       "False"
      ]
     },
     "execution_count": 24,
     "metadata": {},
     "output_type": "execute_result"
    }
   ],
   "source": [
    "\"camels\" in c"
   ]
  },
  {
   "cell_type": "code",
   "execution_count": 25,
   "id": "868303d3",
   "metadata": {},
   "outputs": [
    {
     "data": {
      "text/plain": [
       "True"
      ]
     },
     "execution_count": 25,
     "metadata": {},
     "output_type": "execute_result"
    }
   ],
   "source": [
    "\"pigs\" not in d"
   ]
  },
  {
   "cell_type": "markdown",
   "id": "95af306c",
   "metadata": {},
   "source": [
    "# Use of Backslash"
   ]
  },
  {
   "cell_type": "code",
   "execution_count": 33,
   "id": "90da83c4",
   "metadata": {},
   "outputs": [],
   "source": [
    "RYAN = \"Vaughno is a \\\"Python legend\\\" and thats a fact\""
   ]
  },
  {
   "cell_type": "code",
   "execution_count": 34,
   "id": "e4b76239",
   "metadata": {},
   "outputs": [
    {
     "data": {
      "text/plain": [
       "'Vaughno is a \"Python legend\" and thats a fact'"
      ]
     },
     "execution_count": 34,
     "metadata": {},
     "output_type": "execute_result"
    }
   ],
   "source": [
    "RYAN"
   ]
  },
  {
   "cell_type": "markdown",
   "id": "2ec7a00d",
   "metadata": {},
   "source": [
    "# Backslash \\t and Backslash \\n"
   ]
  },
  {
   "cell_type": "code",
   "execution_count": 41,
   "id": "95d215b7",
   "metadata": {},
   "outputs": [],
   "source": [
    "x = \"Just me and my wine\\n....Just me and my wine!!!!\""
   ]
  },
  {
   "cell_type": "code",
   "execution_count": 42,
   "id": "d67802df",
   "metadata": {},
   "outputs": [
    {
     "data": {
      "text/plain": [
       "'Just me and my wine\\n....Just me and my wine!!!!'"
      ]
     },
     "execution_count": 42,
     "metadata": {},
     "output_type": "execute_result"
    }
   ],
   "source": [
    "x"
   ]
  },
  {
   "cell_type": "code",
   "execution_count": 43,
   "id": "8a153e36",
   "metadata": {},
   "outputs": [
    {
     "name": "stdout",
     "output_type": "stream",
     "text": [
      "Just me and my wine\n",
      "....Just me and my wine!!!!\n"
     ]
    }
   ],
   "source": [
    "print(x)"
   ]
  },
  {
   "cell_type": "code",
   "execution_count": 44,
   "id": "c566ff83",
   "metadata": {},
   "outputs": [],
   "source": [
    "y = \"Lets get \\t Rocked!\""
   ]
  },
  {
   "cell_type": "code",
   "execution_count": 45,
   "id": "bf0dcc0b",
   "metadata": {},
   "outputs": [
    {
     "data": {
      "text/plain": [
       "'Lets get \\t Rocked!'"
      ]
     },
     "execution_count": 45,
     "metadata": {},
     "output_type": "execute_result"
    }
   ],
   "source": [
    "y"
   ]
  },
  {
   "cell_type": "code",
   "execution_count": 46,
   "id": "87ca43ca",
   "metadata": {},
   "outputs": [
    {
     "name": "stdout",
     "output_type": "stream",
     "text": [
      "Lets get \t Rocked!\n"
     ]
    }
   ],
   "source": [
    "print(y)"
   ]
  },
  {
   "cell_type": "code",
   "execution_count": 3,
   "id": "c92b277d",
   "metadata": {},
   "outputs": [],
   "source": [
    "d = \"The world was born in a new age\""
   ]
  },
  {
   "cell_type": "code",
   "execution_count": 5,
   "id": "24b7567e",
   "metadata": {},
   "outputs": [
    {
     "data": {
      "text/plain": [
       "['The', 'world', 'was', 'born', 'in', 'a', 'new', 'age']"
      ]
     },
     "execution_count": 5,
     "metadata": {},
     "output_type": "execute_result"
    }
   ],
   "source": [
    "d.split()"
   ]
  },
  {
   "cell_type": "code",
   "execution_count": 6,
   "id": "ab7ad733",
   "metadata": {},
   "outputs": [
    {
     "data": {
      "text/plain": [
       "str"
      ]
     },
     "execution_count": 6,
     "metadata": {},
     "output_type": "execute_result"
    }
   ],
   "source": [
    "type(d)"
   ]
  },
  {
   "cell_type": "code",
   "execution_count": 7,
   "id": "ccc6c265",
   "metadata": {},
   "outputs": [
    {
     "ename": "AttributeError",
     "evalue": "'str' object has no attribute 'list'",
     "output_type": "error",
     "traceback": [
      "\u001b[1;31m---------------------------------------------------------------------------\u001b[0m",
      "\u001b[1;31mAttributeError\u001b[0m                            Traceback (most recent call last)",
      "\u001b[1;32mC:\\Users\\RVAUGH~1.GRA\\AppData\\Local\\Temp/ipykernel_8668/4245057810.py\u001b[0m in \u001b[0;36m<module>\u001b[1;34m\u001b[0m\n\u001b[1;32m----> 1\u001b[1;33m \u001b[0md\u001b[0m\u001b[1;33m.\u001b[0m\u001b[0mlist\u001b[0m\u001b[1;33m(\u001b[0m\u001b[1;33m)\u001b[0m\u001b[1;33m\u001b[0m\u001b[1;33m\u001b[0m\u001b[0m\n\u001b[0m",
      "\u001b[1;31mAttributeError\u001b[0m: 'str' object has no attribute 'list'"
     ]
    }
   ],
   "source": [
    "d.list()"
   ]
  },
  {
   "cell_type": "code",
   "execution_count": 8,
   "id": "4b468be2",
   "metadata": {},
   "outputs": [
    {
     "ename": "NameError",
     "evalue": "name 'dog' is not defined",
     "output_type": "error",
     "traceback": [
      "\u001b[1;31m---------------------------------------------------------------------------\u001b[0m",
      "\u001b[1;31mNameError\u001b[0m                                 Traceback (most recent call last)",
      "\u001b[1;32mC:\\Users\\RVAUGH~1.GRA\\AppData\\Local\\Temp/ipykernel_8668/2414006868.py\u001b[0m in \u001b[0;36m<module>\u001b[1;34m\u001b[0m\n\u001b[1;32m----> 1\u001b[1;33m \u001b[0md\u001b[0m \u001b[1;33m=\u001b[0m \u001b[0mdog\u001b[0m\u001b[1;33m,\u001b[0m \u001b[0mcat\u001b[0m\u001b[1;33m,\u001b[0m \u001b[0mcow\u001b[0m\u001b[1;33m\u001b[0m\u001b[1;33m\u001b[0m\u001b[0m\n\u001b[0m",
      "\u001b[1;31mNameError\u001b[0m: name 'dog' is not defined"
     ]
    }
   ],
   "source": [
    "d = dog, cat, cow"
   ]
  },
  {
   "cell_type": "code",
   "execution_count": 9,
   "id": "80929f27",
   "metadata": {},
   "outputs": [],
   "source": [
    "d = [\"dog\", \"cat\", \"cow\"]"
   ]
  },
  {
   "cell_type": "code",
   "execution_count": 10,
   "id": "54fecdb0",
   "metadata": {},
   "outputs": [
    {
     "data": {
      "text/plain": [
       "list"
      ]
     },
     "execution_count": 10,
     "metadata": {},
     "output_type": "execute_result"
    }
   ],
   "source": [
    "type(d)"
   ]
  },
  {
   "cell_type": "code",
   "execution_count": null,
   "id": "b7aaa0fa",
   "metadata": {},
   "outputs": [],
   "source": []
  }
 ],
 "metadata": {
  "kernelspec": {
   "display_name": "Python 3 (ipykernel)",
   "language": "python",
   "name": "python3"
  },
  "language_info": {
   "codemirror_mode": {
    "name": "ipython",
    "version": 3
   },
   "file_extension": ".py",
   "mimetype": "text/x-python",
   "name": "python",
   "nbconvert_exporter": "python",
   "pygments_lexer": "ipython3",
   "version": "3.9.7"
  }
 },
 "nbformat": 4,
 "nbformat_minor": 5
}
