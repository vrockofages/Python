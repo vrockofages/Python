{
 "cells": [
  {
   "cell_type": "markdown",
   "id": "0567c70a",
   "metadata": {},
   "source": [
    "# Dictionaries"
   ]
  },
  {
   "cell_type": "code",
   "execution_count": 1,
   "id": "f7da3e3e",
   "metadata": {},
   "outputs": [],
   "source": [
    "Ryan = {'ryan':47, 'colin':21, 'maya':16, 'mason':13, 'joel':50, 'ashley': 45, 'dez':4}"
   ]
  },
  {
   "cell_type": "code",
   "execution_count": 2,
   "id": "e4e4659f",
   "metadata": {},
   "outputs": [
    {
     "data": {
      "text/plain": [
       "dict"
      ]
     },
     "execution_count": 2,
     "metadata": {},
     "output_type": "execute_result"
    }
   ],
   "source": [
    "type(Ryan)"
   ]
  },
  {
   "cell_type": "code",
   "execution_count": 6,
   "id": "2b8f5767",
   "metadata": {},
   "outputs": [
    {
     "data": {
      "text/plain": [
       "{'ryan': 47,\n",
       " 'colin': 21,\n",
       " 'maya': 16,\n",
       " 'mason': 13,\n",
       " 'joel': 50,\n",
       " 'ashley': 45,\n",
       " 'dez': 4}"
      ]
     },
     "execution_count": 6,
     "metadata": {},
     "output_type": "execute_result"
    }
   ],
   "source": [
    "Ryan"
   ]
  },
  {
   "cell_type": "code",
   "execution_count": 7,
   "id": "61527278",
   "metadata": {},
   "outputs": [
    {
     "data": {
      "text/plain": [
       "['ryan', 'colin', 'maya', 'mason', 'joel', 'ashley', 'dez']"
      ]
     },
     "execution_count": 7,
     "metadata": {},
     "output_type": "execute_result"
    }
   ],
   "source": [
    "list(Ryan)"
   ]
  },
  {
   "cell_type": "code",
   "execution_count": 9,
   "id": "fbab9eaf",
   "metadata": {},
   "outputs": [
    {
     "data": {
      "text/plain": [
       "47"
      ]
     },
     "execution_count": 9,
     "metadata": {},
     "output_type": "execute_result"
    }
   ],
   "source": [
    "Ryan['ryan'] # Find value for 'ryan'"
   ]
  },
  {
   "cell_type": "code",
   "execution_count": 10,
   "id": "f8a1aafb",
   "metadata": {},
   "outputs": [
    {
     "name": "stdout",
     "output_type": "stream",
     "text": [
      "ryan\n",
      "colin\n",
      "maya\n",
      "mason\n",
      "joel\n",
      "ashley\n",
      "dez\n"
     ]
    }
   ],
   "source": [
    "for i in Ryan:   # Print the \"keys\"\n",
    "    print(i)"
   ]
  },
  {
   "cell_type": "code",
   "execution_count": 12,
   "id": "db7604c0",
   "metadata": {},
   "outputs": [
    {
     "name": "stdout",
     "output_type": "stream",
     "text": [
      "47\n",
      "21\n",
      "16\n",
      "13\n",
      "50\n",
      "45\n",
      "4\n"
     ]
    }
   ],
   "source": [
    "for i in Ryan:      # Print the \"values\"\n",
    "    print(Ryan[i])"
   ]
  },
  {
   "cell_type": "code",
   "execution_count": 13,
   "id": "8947fd16",
   "metadata": {},
   "outputs": [
    {
     "name": "stdout",
     "output_type": "stream",
     "text": [
      "ryan 47\n",
      "colin 21\n",
      "maya 16\n",
      "mason 13\n",
      "joel 50\n",
      "ashley 45\n",
      "dez 4\n"
     ]
    }
   ],
   "source": [
    "# Print keys and values\n",
    "\n",
    "for i in Ryan:\n",
    "    print(i,Ryan[i])"
   ]
  },
  {
   "cell_type": "code",
   "execution_count": 14,
   "id": "bdae7a8a",
   "metadata": {},
   "outputs": [
    {
     "name": "stdout",
     "output_type": "stream",
     "text": [
      "ryan 47\n",
      "colin 21\n",
      "maya 16\n",
      "mason 13\n",
      "joel 50\n",
      "ashley 45\n",
      "dez 4\n"
     ]
    }
   ],
   "source": [
    "for key, values in Ryan.items():\n",
    "    print(key, values)"
   ]
  },
  {
   "cell_type": "code",
   "execution_count": 15,
   "id": "0ad32275",
   "metadata": {},
   "outputs": [],
   "source": [
    "# Keys can have several values for each key\n",
    "\n",
    "Grades = {'Vrock': [98,95,88,92,67,80], 'Wolfking': [78,88,89,95,78,91]}"
   ]
  },
  {
   "cell_type": "code",
   "execution_count": 16,
   "id": "fd7848ad",
   "metadata": {},
   "outputs": [
    {
     "data": {
      "text/plain": [
       "{'Vrock': [98, 95, 88, 92, 67, 80], 'Wolfking': [78, 88, 89, 95, 78, 91]}"
      ]
     },
     "execution_count": 16,
     "metadata": {},
     "output_type": "execute_result"
    }
   ],
   "source": [
    "Grades"
   ]
  },
  {
   "cell_type": "code",
   "execution_count": 17,
   "id": "55da2b6b",
   "metadata": {},
   "outputs": [
    {
     "name": "stdout",
     "output_type": "stream",
     "text": [
      "Vrock [98, 95, 88, 92, 67, 80]\n",
      "Wolfking [78, 88, 89, 95, 78, 91]\n"
     ]
    }
   ],
   "source": [
    "for key, values in Grades.items():\n",
    "    print(key, values)"
   ]
  },
  {
   "cell_type": "code",
   "execution_count": 18,
   "id": "2d0146e9",
   "metadata": {},
   "outputs": [
    {
     "name": "stdout",
     "output_type": "stream",
     "text": [
      "78\n",
      "88\n",
      "89\n",
      "95\n",
      "78\n",
      "91\n"
     ]
    }
   ],
   "source": [
    "for i in Grades['Wolfking']:\n",
    "    print(i)"
   ]
  },
  {
   "cell_type": "code",
   "execution_count": 19,
   "id": "4ff68ff3",
   "metadata": {},
   "outputs": [
    {
     "name": "stdout",
     "output_type": "stream",
     "text": [
      "Vrock [98, 95, 88, 92, 67, 80]\n",
      "Wolfking [78, 88, 89, 95, 78, 91]\n"
     ]
    }
   ],
   "source": [
    "for i in Grades:\n",
    "    print (i, Grades[i])"
   ]
  },
  {
   "cell_type": "code",
   "execution_count": 20,
   "id": "fdf464dc",
   "metadata": {},
   "outputs": [
    {
     "name": "stdout",
     "output_type": "stream",
     "text": [
      "Vrock 98\n",
      "Vrock 95\n",
      "Vrock 88\n",
      "Vrock 92\n",
      "Vrock 67\n",
      "Vrock 80\n",
      "Wolfking 78\n",
      "Wolfking 88\n",
      "Wolfking 89\n",
      "Wolfking 95\n",
      "Wolfking 78\n",
      "Wolfking 91\n"
     ]
    }
   ],
   "source": [
    "for i in Grades:\n",
    "    for j in Grades[i]:\n",
    "        print(i,j)"
   ]
  },
  {
   "cell_type": "markdown",
   "id": "17d4d426",
   "metadata": {},
   "source": [
    "# Adding Items to Dictionary"
   ]
  },
  {
   "cell_type": "code",
   "execution_count": 28,
   "id": "632973fe",
   "metadata": {},
   "outputs": [],
   "source": [
    "Grades['Mickey Ratt'] = [67,89,90,87]   # Adds Mickey Ratt to Student List in \"Grades\" Dictionary"
   ]
  },
  {
   "cell_type": "code",
   "execution_count": 27,
   "id": "491758fb",
   "metadata": {},
   "outputs": [
    {
     "data": {
      "text/plain": [
       "{'Vrock': [98, 95, 88, 92, 67, 80],\n",
       " 'Wolfking': [78, 88, 89, 95, 78, 91],\n",
       " 'Mickey Ratt': [67, 89, 90, 87]}"
      ]
     },
     "execution_count": 27,
     "metadata": {},
     "output_type": "execute_result"
    }
   ],
   "source": [
    "Grades"
   ]
  },
  {
   "cell_type": "markdown",
   "id": "98371b57",
   "metadata": {},
   "source": [
    "# Dictionary Methods"
   ]
  },
  {
   "cell_type": "code",
   "execution_count": 31,
   "id": "8a6e4d93",
   "metadata": {},
   "outputs": [
    {
     "data": {
      "text/plain": [
       "[78, 88, 89, 95, 78, 91]"
      ]
     },
     "execution_count": 31,
     "metadata": {},
     "output_type": "execute_result"
    }
   ],
   "source": [
    "Grades.get('Wolfking')"
   ]
  },
  {
   "cell_type": "code",
   "execution_count": 32,
   "id": "32bfc5b9",
   "metadata": {},
   "outputs": [
    {
     "data": {
      "text/plain": [
       "[98, 95, 88, 92, 67, 80]"
      ]
     },
     "execution_count": 32,
     "metadata": {},
     "output_type": "execute_result"
    }
   ],
   "source": [
    "Grades.pop('Vrock')"
   ]
  },
  {
   "cell_type": "code",
   "execution_count": 33,
   "id": "982ffe7d",
   "metadata": {},
   "outputs": [
    {
     "data": {
      "text/plain": [
       "{'Wolfking': [78, 88, 89, 95, 78, 91], 'Mickey Ratt': [67, 89, 90, 87]}"
      ]
     },
     "execution_count": 33,
     "metadata": {},
     "output_type": "execute_result"
    }
   ],
   "source": [
    "Grades"
   ]
  },
  {
   "cell_type": "code",
   "execution_count": 34,
   "id": "39a40fdb",
   "metadata": {},
   "outputs": [
    {
     "data": {
      "text/plain": [
       "2"
      ]
     },
     "execution_count": 34,
     "metadata": {},
     "output_type": "execute_result"
    }
   ],
   "source": [
    "len(Grades)"
   ]
  },
  {
   "cell_type": "code",
   "execution_count": 35,
   "id": "db825812",
   "metadata": {},
   "outputs": [
    {
     "data": {
      "text/plain": [
       "6"
      ]
     },
     "execution_count": 35,
     "metadata": {},
     "output_type": "execute_result"
    }
   ],
   "source": [
    "len(Grades['Wolfking'])"
   ]
  },
  {
   "cell_type": "code",
   "execution_count": 36,
   "id": "0877c751",
   "metadata": {},
   "outputs": [
    {
     "name": "stdout",
     "output_type": "stream",
     "text": [
      "Wolfking 6\n",
      "Mickey Ratt 4\n"
     ]
    }
   ],
   "source": [
    "for i in Grades:\n",
    "    print(i,len(Grades[i]))"
   ]
  },
  {
   "cell_type": "code",
   "execution_count": 37,
   "id": "52083b2e",
   "metadata": {},
   "outputs": [
    {
     "data": {
      "text/plain": [
       "{'Wolfking': [78, 88, 89, 95, 78, 91]}"
      ]
     },
     "execution_count": 37,
     "metadata": {},
     "output_type": "execute_result"
    }
   ],
   "source": [
    "del Grades['Mickey Ratt']\n",
    "Grades"
   ]
  },
  {
   "cell_type": "markdown",
   "id": "ef4774ee",
   "metadata": {},
   "source": [
    "# Nested Dictionaries"
   ]
  },
  {
   "cell_type": "code",
   "execution_count": 6,
   "id": "8ff8f412",
   "metadata": {},
   "outputs": [],
   "source": [
    "Bands = {'Def Leppard': {'Pyromania':83, 'Hysteria' : 87, 'Adrenalize':92, 'Retroactive':93, 'Slang':96},\n",
    "         'Kiss':        {'Revenge':92, 'Psycho Circus' : 97, 'Hotter Than Hell':81, 'Crazy Nights':88, 'Lick it Up':83},\n",
    "         'Motley Crue': {'Girls, Girls, Girls':87, 'Dr. Feelgood' : 89, 'Theater of Pain':85, 'Decade of Decadence':91, 'Generation Swine':97},   \n",
    "         'Poison':      {'Flesh n Blood':89, 'Crack a Smile' : 99, 'Hollyweird':2001, 'Look What the Cat Dragged In':87}\n",
    "        }\n",
    "         "
   ]
  },
  {
   "cell_type": "code",
   "execution_count": 14,
   "id": "31133be0",
   "metadata": {},
   "outputs": [
    {
     "name": "stdout",
     "output_type": "stream",
     "text": [
      "{'Pyromania': 83, 'Hysteria': 87, 'Adrenalize': 92, 'Retroactive': 93, 'Slang': 96}\n",
      "{'Revenge': 92, 'Psycho Circus': 97, 'Hotter Than Hell': 81, 'Crazy Nights': 88, 'Lick it Up': 83}\n",
      "{'Girls, Girls, Girls': 87, 'Dr. Feelgood': 89, 'Theater of Pain': 85, 'Decade of Decadence': 91, 'Generation Swine': 97}\n",
      "{'Flesh n Blood': 89, 'Crack a Smile': 99, 'Hollyweird': 2001, 'Look What the Cat Dragged In': 87}\n"
     ]
    }
   ],
   "source": [
    "for i in Bands:\n",
    "    print(Bands[i])"
   ]
  },
  {
   "cell_type": "code",
   "execution_count": 27,
   "id": "b1069263",
   "metadata": {},
   "outputs": [
    {
     "data": {
      "text/plain": [
       "{'Revenge': 92,\n",
       " 'Psycho Circus': 97,\n",
       " 'Hotter Than Hell': 81,\n",
       " 'Crazy Nights': 88,\n",
       " 'Lick it Up': 83}"
      ]
     },
     "execution_count": 27,
     "metadata": {},
     "output_type": "execute_result"
    }
   ],
   "source": [
    "Bands['Kiss']"
   ]
  },
  {
   "cell_type": "code",
   "execution_count": 57,
   "id": "cd017576",
   "metadata": {},
   "outputs": [
    {
     "name": "stdout",
     "output_type": "stream",
     "text": [
      "Pyromania\n",
      "Hysteria\n",
      "Adrenalize\n",
      "Retroactive\n",
      "Slang\n",
      "Revenge\n",
      "Psycho Circus\n",
      "Hotter Than Hell\n",
      "Crazy Nights\n",
      "Lick it Up\n",
      "Girls, Girls, Girls\n",
      "Dr. Feelgood\n",
      "Theater of Pain\n",
      "Decade of Decadence\n",
      "Generation Swine\n",
      "Flesh n Blood\n",
      "Crack a Smile\n",
      "Hollyweird\n",
      "Look What the Cat Dragged In\n"
     ]
    }
   ],
   "source": [
    "for  i in Bands:\n",
    "    for j in Bands[i]:\n",
    "       print((j))"
   ]
  },
  {
   "cell_type": "code",
   "execution_count": 34,
   "id": "5cf3ab0a",
   "metadata": {},
   "outputs": [],
   "source": [
    "Albums = []\n",
    "for j in Bands ['Def Leppard']:\n",
    "    Albums.append(j)\n",
    "     "
   ]
  },
  {
   "cell_type": "code",
   "execution_count": 66,
   "id": "e318be39",
   "metadata": {},
   "outputs": [
    {
     "data": {
      "text/plain": [
       "['Pyromania', 'Hysteria', 'Adrenalize', 'Retroactive', 'Slang']"
      ]
     },
     "execution_count": 66,
     "metadata": {},
     "output_type": "execute_result"
    }
   ],
   "source": [
    "Albums"
   ]
  },
  {
   "cell_type": "code",
   "execution_count": null,
   "id": "dd39cc31",
   "metadata": {},
   "outputs": [],
   "source": []
  },
  {
   "cell_type": "code",
   "execution_count": null,
   "id": "17c86463",
   "metadata": {},
   "outputs": [],
   "source": []
  },
  {
   "cell_type": "code",
   "execution_count": 103,
   "id": "f571e904",
   "metadata": {},
   "outputs": [],
   "source": [
    "Student = { 'John'  : {'algebra':98, 'physics':95, 'english':88, 'stats':96, 'finance':85},\n",
    "            'Jenna' : {'algebra':81, 'physics':90, 'english':79, 'stats':65, 'finance':45},\n",
    "            'Max'   : {'algebra':87, 'physics':67, 'english':99, 'stats':84, 'finance':79},\n",
    "            'Jenfa' : {'algebra':81, 'physics':85, 'english':79, 'stats':93, 'finance':90}\n",
    "          }"
   ]
  },
  {
   "cell_type": "code",
   "execution_count": 104,
   "id": "07f8dd92",
   "metadata": {},
   "outputs": [
    {
     "data": {
      "text/plain": [
       "{'John': {'algebra': 98,\n",
       "  'physics': 95,\n",
       "  'english': 88,\n",
       "  'stats': 96,\n",
       "  'finance': 85},\n",
       " 'Jenna': {'algebra': 81,\n",
       "  'physics': 90,\n",
       "  'english': 79,\n",
       "  'stats': 65,\n",
       "  'finance': 45},\n",
       " 'Max': {'algebra': 87,\n",
       "  'physics': 67,\n",
       "  'english': 99,\n",
       "  'stats': 84,\n",
       "  'finance': 79},\n",
       " 'Jenfa': {'algebra': 81,\n",
       "  'physics': 85,\n",
       "  'english': 79,\n",
       "  'stats': 93,\n",
       "  'finance': 90}}"
      ]
     },
     "execution_count": 104,
     "metadata": {},
     "output_type": "execute_result"
    }
   ],
   "source": [
    "Student"
   ]
  },
  {
   "cell_type": "code",
   "execution_count": 105,
   "id": "7bfd190c",
   "metadata": {},
   "outputs": [
    {
     "data": {
      "text/plain": [
       "95"
      ]
     },
     "execution_count": 105,
     "metadata": {},
     "output_type": "execute_result"
    }
   ],
   "source": [
    "Student['John']['physics']"
   ]
  },
  {
   "cell_type": "code",
   "execution_count": 75,
   "id": "57247f08",
   "metadata": {},
   "outputs": [],
   "source": [
    "Grades = []"
   ]
  },
  {
   "cell_type": "code",
   "execution_count": 80,
   "id": "899761d8",
   "metadata": {},
   "outputs": [
    {
     "data": {
      "text/plain": [
       "list"
      ]
     },
     "execution_count": 80,
     "metadata": {},
     "output_type": "execute_result"
    }
   ],
   "source": [
    "type(Grades)"
   ]
  },
  {
   "cell_type": "code",
   "execution_count": 115,
   "id": "74e97f1f",
   "metadata": {},
   "outputs": [
    {
     "name": "stdout",
     "output_type": "stream",
     "text": [
      "algebra 98\n",
      "physics 95\n",
      "english 99\n",
      "stats 96\n",
      "finance 90\n"
     ]
    }
   ],
   "source": [
    "Subject = []                # Let's find the highest grade in each subject by any of the 4 students\n",
    "\n",
    "for j in Student['John']:   # Subject will be all of the \"subject names\" which come from \"Jenna\"\n",
    "    Subject.append(j)\n",
    "for i in Subject:            # Iterate through \"Subject\"\n",
    "    Grades = []              # Create a blank list \"Grades\"\n",
    "    for j in Student:\n",
    "        Grades.append(Student[j][i])   #Add \"Subject Name\" which is [i] and add the \"Max Grade\" to Grades list.\n",
    "    print(i,max(Grades))            # Print the \"Subject Name\" and the Highest Grade in \"Grades\"\n",
    "    "
   ]
  },
  {
   "cell_type": "code",
   "execution_count": 110,
   "id": "be7406e5",
   "metadata": {},
   "outputs": [
    {
     "data": {
      "text/plain": [
       "['algebra', 'physics', 'english', 'stats', 'finance']"
      ]
     },
     "execution_count": 110,
     "metadata": {},
     "output_type": "execute_result"
    }
   ],
   "source": [
    "Subject"
   ]
  },
  {
   "cell_type": "code",
   "execution_count": 111,
   "id": "dc89948d",
   "metadata": {},
   "outputs": [
    {
     "data": {
      "text/plain": [
       "{'algebra': 81, 'physics': 85, 'english': 79, 'stats': 93, 'finance': 90}"
      ]
     },
     "execution_count": 111,
     "metadata": {},
     "output_type": "execute_result"
    }
   ],
   "source": [
    "Student[j]"
   ]
  },
  {
   "cell_type": "code",
   "execution_count": 96,
   "id": "34cb7457",
   "metadata": {},
   "outputs": [
    {
     "data": {
      "text/plain": [
       "{'Def Leppard': {'Pyromania': 83,\n",
       "  'Hysteria': 87,\n",
       "  'Adrenalize': 92,\n",
       "  'Retroactive': 93,\n",
       "  'Slang': 96},\n",
       " 'Kiss': {'Revenge': 92,\n",
       "  'Psycho Circus': 97,\n",
       "  'Hotter Than Hell': 81,\n",
       "  'Crazy Nights': 88,\n",
       "  'Lick it Up': 83},\n",
       " 'Motley Crue': {'Girls, Girls, Girls': 87,\n",
       "  'Dr. Feelgood': 89,\n",
       "  'Theater of Pain': 85,\n",
       "  'Decade of Decadence': 91,\n",
       "  'Generation Swine': 97},\n",
       " 'Poison': {'Flesh n Blood': 89,\n",
       "  'Crack a Smile': 99,\n",
       "  'Hollyweird': 2001,\n",
       "  'Look What the Cat Dragged In': 87}}"
      ]
     },
     "execution_count": 96,
     "metadata": {},
     "output_type": "execute_result"
    }
   ],
   "source": [
    "Bands"
   ]
  },
  {
   "cell_type": "code",
   "execution_count": 131,
   "id": "7e11561f",
   "metadata": {},
   "outputs": [
    {
     "name": "stdout",
     "output_type": "stream",
     "text": [
      "{'John': {'algebra': 98, 'physics': 95, 'english': 88, 'stats': 96, 'finance': 85}, 'Jenna': {'algebra': 81, 'physics': 90, 'english': 79, 'stats': 65, 'finance': 45}, 'Max': {'algebra': 87, 'physics': 67, 'english': 99, 'stats': 84, 'finance': 79}, 'Jenfa': {'algebra': 81, 'physics': 85, 'english': 79, 'stats': 93, 'finance': 90}}\n"
     ]
    }
   ],
   "source": [
    "print(Student)"
   ]
  },
  {
   "cell_type": "code",
   "execution_count": 142,
   "id": "27d3101a",
   "metadata": {},
   "outputs": [
    {
     "name": "stdout",
     "output_type": "stream",
     "text": [
      "algebra [98, 81, 87, 81]\n",
      "physics [95, 90, 67, 85]\n",
      "english [88, 79, 99, 79]\n",
      "stats [96, 65, 84, 93]\n",
      "finance [85, 45, 79, 90]\n"
     ]
    }
   ],
   "source": [
    "Subject = []                # Let's find the highest grade in each subject by any of the 4 students\n",
    "\n",
    "for i in Student['John']:   # Subject will be all of the ***KEYS*** \"subject names\" which come from \"John\"\n",
    "    Subject.append(i)\n",
    "        \n",
    "for j in Subject:            # Iterate through \"Subjects\" KEYS\n",
    "    Grades = []              # Create a blank list \"Grades\"\n",
    "    \n",
    "    for i in Student:\n",
    "        Grades.append(Student[i][j])   #Add \"Subject Name\" which is [i] and add the \"Max Grade\" to Grades list.\n",
    "    print(j,Grades)            # Print the \"Subject Name\" and the Highest Grade in \"Grades\""
   ]
  },
  {
   "cell_type": "code",
   "execution_count": 144,
   "id": "22911c60",
   "metadata": {},
   "outputs": [
    {
     "name": "stdout",
     "output_type": "stream",
     "text": [
      "Jenfa 98\n",
      "Jenfa 95\n",
      "Jenfa 99\n",
      "Jenfa 96\n",
      "Jenfa 90\n"
     ]
    }
   ],
   "source": [
    "Subject = []                # Let's find the highest grade in each subject by any of the 4 students\n",
    "\n",
    "for i in Student['John']:   # Subject will be all of the ***KEYS*** \"subject names\" which come from \"John\"\n",
    "    Subject.append(i)\n",
    "        \n",
    "for j in Subject:            # Iterate through \"Subjects\" KEYS\n",
    "    Grades = []              # Create a blank list \"Grades\"\n",
    "    \n",
    "    for i in Student:\n",
    "        Grades.append(Student[i][j])   #Add \"Subject Name\" which is [i] and add the \"Max Grade\" to Grades list.\n",
    "    print(i,max(Grades))            # Print the \"Subject Name\" and the Highest Grade in \"Grades\""
   ]
  },
  {
   "cell_type": "code",
   "execution_count": 140,
   "id": "54090405",
   "metadata": {},
   "outputs": [
    {
     "name": "stdout",
     "output_type": "stream",
     "text": [
      "finance 90\n"
     ]
    }
   ],
   "source": [
    "print(j,max(Grades))"
   ]
  },
  {
   "cell_type": "code",
   "execution_count": 141,
   "id": "bb7344e5",
   "metadata": {},
   "outputs": [
    {
     "name": "stdout",
     "output_type": "stream",
     "text": [
      "Jenfa 90\n"
     ]
    }
   ],
   "source": [
    "print(i,max(Grades))"
   ]
  },
  {
   "cell_type": "code",
   "execution_count": 124,
   "id": "819d9fde",
   "metadata": {},
   "outputs": [
    {
     "data": {
      "text/plain": [
       "str"
      ]
     },
     "execution_count": 124,
     "metadata": {},
     "output_type": "execute_result"
    }
   ],
   "source": [
    "dogs"
   ]
  },
  {
   "cell_type": "code",
   "execution_count": null,
   "id": "f6c4df2a",
   "metadata": {},
   "outputs": [],
   "source": []
  },
  {
   "cell_type": "code",
   "execution_count": 123,
   "id": "f8150e53",
   "metadata": {},
   "outputs": [
    {
     "data": {
      "text/plain": [
       "'finance'"
      ]
     },
     "execution_count": 123,
     "metadata": {},
     "output_type": "execute_result"
    }
   ],
   "source": [
    "cats"
   ]
  },
  {
   "cell_type": "code",
   "execution_count": 137,
   "id": "8cdd800c",
   "metadata": {},
   "outputs": [
    {
     "data": {
      "text/plain": [
       "[85, 45, 79, 90]"
      ]
     },
     "execution_count": 137,
     "metadata": {},
     "output_type": "execute_result"
    }
   ],
   "source": [
    "Grades[:]"
   ]
  },
  {
   "cell_type": "code",
   "execution_count": 122,
   "id": "5aaf3d74",
   "metadata": {},
   "outputs": [
    {
     "data": {
      "text/plain": [
       "['algebra', 'physics', 'english', 'stats', 'finance']"
      ]
     },
     "execution_count": 122,
     "metadata": {},
     "output_type": "execute_result"
    }
   ],
   "source": [
    "Subject            # Subject has all the KEYS from JOHN"
   ]
  },
  {
   "cell_type": "code",
   "execution_count": 145,
   "id": "60c36ab3",
   "metadata": {},
   "outputs": [
    {
     "name": "stdout",
     "output_type": "stream",
     "text": [
      "algebra 98\n",
      "physics 95\n",
      "english 99\n",
      "stats 96\n",
      "finance 90\n"
     ]
    }
   ],
   "source": [
    "Subject = []                # Let's find the highest grade in each subject by any of the 4 students\n",
    "\n",
    "for j in Student['John']:   # Subject will be all of the \"subject names\" which come from \"Jenna\"\n",
    "    Subject.append(j)\n",
    "for i in Subject:            # Iterate through \"Subject\"\n",
    "    Grades = []              # Create a blank list \"Grades\"\n",
    "    for j in Student:\n",
    "        Grades.append(Student[j][i])   #Add \"Subject Name\" which is [i] and add the \"Max Grade\" to Grades list.\n",
    "    print(i,max(Grades))            # Print the \"Subject Name\" and the Highest Grade in \"Grades\""
   ]
  },
  {
   "cell_type": "code",
   "execution_count": null,
   "id": "9f114017",
   "metadata": {},
   "outputs": [],
   "source": [
    "Student = { 'John'  : {'algebra':98, 'physics':95, 'english':88, 'stats':96, 'finance':85},\n",
    "            'Jenna' : {'algebra':81, 'physics':90, 'english':79, 'stats':65, 'finance':45},\n",
    "            'Max'   : {'algebra':87, 'physics':67, 'english':99, 'stats':84, 'finance':79},\n",
    "            'Jenfa' : {'algebra':81, 'physics':85, 'english':79, 'stats':93, 'finance':90}\n",
    "          }"
   ]
  },
  {
   "cell_type": "code",
   "execution_count": 152,
   "id": "8f37e127",
   "metadata": {},
   "outputs": [
    {
     "name": "stdout",
     "output_type": "stream",
     "text": [
      "John {'algebra': 98, 'physics': 95, 'english': 88, 'stats': 96, 'finance': 85}\n",
      "Jenna {'algebra': 81, 'physics': 90, 'english': 79, 'stats': 65, 'finance': 45}\n",
      "Max {'algebra': 87, 'physics': 67, 'english': 99, 'stats': 84, 'finance': 79}\n",
      "Jenfa {'algebra': 81, 'physics': 85, 'english': 79, 'stats': 93, 'finance': 90}\n"
     ]
    }
   ],
   "source": [
    "for i in Student:\n",
    "    print(i,Student[i])"
   ]
  },
  {
   "cell_type": "code",
   "execution_count": 154,
   "id": "4d18ec2c",
   "metadata": {},
   "outputs": [
    {
     "name": "stdout",
     "output_type": "stream",
     "text": [
      "John 96\n",
      "Jenna 65\n",
      "Max 84\n",
      "Jenfa 93\n"
     ]
    }
   ],
   "source": [
    "for i in Student:\n",
    "    print(i,Student[i]['stats'])"
   ]
  },
  {
   "cell_type": "code",
   "execution_count": 147,
   "id": "3a7c6232",
   "metadata": {},
   "outputs": [
    {
     "name": "stdout",
     "output_type": "stream",
     "text": [
      "John\n",
      "Jenna\n",
      "Max\n",
      "Jenfa\n"
     ]
    }
   ],
   "source": [
    "for i in Student:\n",
    "    print(i)"
   ]
  },
  {
   "cell_type": "code",
   "execution_count": 164,
   "id": "0a44bc6f",
   "metadata": {},
   "outputs": [
    {
     "name": "stdout",
     "output_type": "stream",
     "text": [
      "{'algebra': 98, 'physics': 95, 'english': 88, 'stats': 96, 'finance': 85}\n",
      "{'algebra': 81, 'physics': 90, 'english': 79, 'stats': 65, 'finance': 45}\n",
      "{'algebra': 87, 'physics': 67, 'english': 99, 'stats': 84, 'finance': 79}\n",
      "{'algebra': 81, 'physics': 85, 'english': 79, 'stats': 93, 'finance': 90}\n"
     ]
    }
   ],
   "source": [
    "for i in Student:\n",
    "    print(Student[i])"
   ]
  },
  {
   "cell_type": "code",
   "execution_count": 148,
   "id": "fb7d757b",
   "metadata": {},
   "outputs": [
    {
     "data": {
      "text/plain": [
       "dict"
      ]
     },
     "execution_count": 148,
     "metadata": {},
     "output_type": "execute_result"
    }
   ],
   "source": [
    "type(Student)"
   ]
  },
  {
   "cell_type": "code",
   "execution_count": 155,
   "id": "eef3ad2d",
   "metadata": {},
   "outputs": [
    {
     "data": {
      "text/plain": [
       "98"
      ]
     },
     "execution_count": 155,
     "metadata": {},
     "output_type": "execute_result"
    }
   ],
   "source": [
    "Student['John']['algebra']"
   ]
  },
  {
   "cell_type": "code",
   "execution_count": 165,
   "id": "e8d6a786",
   "metadata": {},
   "outputs": [
    {
     "name": "stdout",
     "output_type": "stream",
     "text": [
      "algebra\n",
      "physics\n",
      "english\n",
      "stats\n",
      "finance\n",
      "algebra\n",
      "physics\n",
      "english\n",
      "stats\n",
      "finance\n",
      "algebra\n",
      "physics\n",
      "english\n",
      "stats\n",
      "finance\n",
      "algebra\n",
      "physics\n",
      "english\n",
      "stats\n",
      "finance\n"
     ]
    }
   ],
   "source": [
    "for i in Student:\n",
    "    for j in Student[i]:\n",
    "        print(j)              # Prints out the KEYS in Student[i] because KEYS in [i] would be the Student Names"
   ]
  },
  {
   "cell_type": "code",
   "execution_count": 158,
   "id": "6ba4deac",
   "metadata": {},
   "outputs": [],
   "source": [
    "# We can take the above and put into a list \"Subjects\"\n",
    "\n",
    "Subjects = []\n",
    "for j in Student['John']:\n",
    "    Subjects.append(j)"
   ]
  },
  {
   "cell_type": "code",
   "execution_count": 159,
   "id": "d6b0b5a2",
   "metadata": {},
   "outputs": [
    {
     "data": {
      "text/plain": [
       "['algebra', 'physics', 'english', 'stats', 'finance']"
      ]
     },
     "execution_count": 159,
     "metadata": {},
     "output_type": "execute_result"
    }
   ],
   "source": [
    "Subjects"
   ]
  },
  {
   "cell_type": "code",
   "execution_count": 170,
   "id": "6deb939f",
   "metadata": {},
   "outputs": [
    {
     "name": "stdout",
     "output_type": "stream",
     "text": [
      "98\n",
      "81\n",
      "87\n",
      "81\n",
      "95\n",
      "90\n",
      "67\n",
      "85\n",
      "88\n",
      "79\n",
      "99\n",
      "79\n",
      "96\n",
      "65\n",
      "84\n",
      "93\n",
      "85\n",
      "45\n",
      "79\n",
      "90\n"
     ]
    }
   ],
   "source": [
    "\n",
    "#Grades = []\n",
    "for i in Subjects:\n",
    "    for j in Student:\n",
    "        print(Student[j][i])   #output 1st 4 rows 'algebra', next 4 rows 'physics', next 4 rows \"english\", etc etc"
   ]
  },
  {
   "cell_type": "code",
   "execution_count": 171,
   "id": "00b360d5",
   "metadata": {},
   "outputs": [
    {
     "name": "stdout",
     "output_type": "stream",
     "text": [
      "algebra 98\n",
      "physics 95\n",
      "english 99\n",
      "stats 96\n",
      "finance 90\n"
     ]
    }
   ],
   "source": [
    "# Printing out the max Grade by each KEY of \"Subjects\"\n",
    "\n",
    "for i in Subjects:\n",
    "    Grades = []\n",
    "    for j in Student:\n",
    "        Grades.append(Student[j][i])\n",
    "    print(i,max(Grades))"
   ]
  },
  {
   "cell_type": "code",
   "execution_count": 172,
   "id": "84e9b9ee",
   "metadata": {},
   "outputs": [
    {
     "name": "stdout",
     "output_type": "stream",
     "text": [
      "90\n"
     ]
    }
   ],
   "source": [
    "print(Student[j][i])"
   ]
  },
  {
   "cell_type": "code",
   "execution_count": 174,
   "id": "84d0796d",
   "metadata": {},
   "outputs": [
    {
     "name": "stdout",
     "output_type": "stream",
     "text": [
      "{'algebra': 81, 'physics': 85, 'english': 79, 'stats': 93, 'finance': 90}\n"
     ]
    }
   ],
   "source": [
    "print(Student[j])"
   ]
  },
  {
   "cell_type": "code",
   "execution_count": null,
   "id": "8589e42e",
   "metadata": {},
   "outputs": [],
   "source": []
  }
 ],
 "metadata": {
  "kernelspec": {
   "display_name": "Python 3 (ipykernel)",
   "language": "python",
   "name": "python3"
  },
  "language_info": {
   "codemirror_mode": {
    "name": "ipython",
    "version": 3
   },
   "file_extension": ".py",
   "mimetype": "text/x-python",
   "name": "python",
   "nbconvert_exporter": "python",
   "pygments_lexer": "ipython3",
   "version": "3.9.7"
  }
 },
 "nbformat": 4,
 "nbformat_minor": 5
}
