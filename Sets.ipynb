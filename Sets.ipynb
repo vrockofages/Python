{
 "cells": [
  {
   "cell_type": "markdown",
   "id": "f86e161e",
   "metadata": {},
   "source": [
    "# Sets"
   ]
  },
  {
   "cell_type": "code",
   "execution_count": 5,
   "id": "f61c0a6b",
   "metadata": {},
   "outputs": [],
   "source": [
    "# Our Set definition\n",
    "# Sets do not allow any duplicate values\n",
    "\n",
    "RyanSet = {True, 'dogs', 'building', 65.43, 64.26, '65.3234', False, 0, 1, 2348392}"
   ]
  },
  {
   "cell_type": "code",
   "execution_count": 3,
   "id": "9045360a",
   "metadata": {},
   "outputs": [
    {
     "data": {
      "text/plain": [
       "{2348392, 64.26, '65.3234', 65.43, False, True, 'building', 'dogs'}"
      ]
     },
     "execution_count": 3,
     "metadata": {},
     "output_type": "execute_result"
    }
   ],
   "source": [
    "RyanSet\n",
    "# 0 and 1 get removed because True and False are boolean values with 1 and 0 as default values."
   ]
  },
  {
   "cell_type": "code",
   "execution_count": 4,
   "id": "8549941c",
   "metadata": {},
   "outputs": [
    {
     "data": {
      "text/plain": [
       "set"
      ]
     },
     "execution_count": 4,
     "metadata": {},
     "output_type": "execute_result"
    }
   ],
   "source": [
    "type(RyanSet)"
   ]
  },
  {
   "cell_type": "code",
   "execution_count": 6,
   "id": "94c65081",
   "metadata": {},
   "outputs": [],
   "source": [
    "# You can convert a list into a Set by using the \"Set\" operator\n",
    "\n",
    "# A List will accept any values, even duplicates.\n",
    "\n",
    "List1 = [43, 434, 342, 90243, 'cool', 'digby', False]"
   ]
  },
  {
   "cell_type": "code",
   "execution_count": 7,
   "id": "c0ac99c2",
   "metadata": {},
   "outputs": [
    {
     "data": {
      "text/plain": [
       "{342, 43, 434, 90243, False, 'cool', 'digby'}"
      ]
     },
     "execution_count": 7,
     "metadata": {},
     "output_type": "execute_result"
    }
   ],
   "source": [
    "set(List1)"
   ]
  },
  {
   "cell_type": "code",
   "execution_count": 8,
   "id": "1d2bb50e",
   "metadata": {},
   "outputs": [
    {
     "data": {
      "text/plain": [
       "list"
      ]
     },
     "execution_count": 8,
     "metadata": {},
     "output_type": "execute_result"
    }
   ],
   "source": [
    "type(List1)"
   ]
  },
  {
   "cell_type": "code",
   "execution_count": 10,
   "id": "d982df53",
   "metadata": {},
   "outputs": [],
   "source": [
    "C = set(List1)"
   ]
  },
  {
   "cell_type": "code",
   "execution_count": 11,
   "id": "2eb84079",
   "metadata": {},
   "outputs": [
    {
     "data": {
      "text/plain": [
       "set"
      ]
     },
     "execution_count": 11,
     "metadata": {},
     "output_type": "execute_result"
    }
   ],
   "source": [
    "type(C)"
   ]
  },
  {
   "cell_type": "code",
   "execution_count": 12,
   "id": "6dc17560",
   "metadata": {},
   "outputs": [
    {
     "name": "stdout",
     "output_type": "stream",
     "text": [
      "False\n",
      "90243\n",
      "cool\n",
      "43\n",
      "digby\n",
      "434\n",
      "342\n"
     ]
    }
   ],
   "source": [
    "for i in C:\n",
    "    print(i)"
   ]
  },
  {
   "cell_type": "code",
   "execution_count": 13,
   "id": "790b922f",
   "metadata": {},
   "outputs": [
    {
     "data": {
      "text/plain": [
       "False"
      ]
     },
     "execution_count": 13,
     "metadata": {},
     "output_type": "execute_result"
    }
   ],
   "source": [
    "C.pop()"
   ]
  },
  {
   "cell_type": "code",
   "execution_count": 14,
   "id": "fbede491",
   "metadata": {},
   "outputs": [],
   "source": [
    "C.add(5234)"
   ]
  },
  {
   "cell_type": "code",
   "execution_count": 15,
   "id": "ef12eb73",
   "metadata": {},
   "outputs": [
    {
     "data": {
      "text/plain": [
       "{342, 43, 434, 5234, 90243, 'cool', 'digby'}"
      ]
     },
     "execution_count": 15,
     "metadata": {},
     "output_type": "execute_result"
    }
   ],
   "source": [
    "C"
   ]
  },
  {
   "cell_type": "code",
   "execution_count": 18,
   "id": "1b173803",
   "metadata": {},
   "outputs": [
    {
     "data": {
      "text/plain": [
       "7"
      ]
     },
     "execution_count": 18,
     "metadata": {},
     "output_type": "execute_result"
    }
   ],
   "source": [
    "len(C)"
   ]
  },
  {
   "cell_type": "code",
   "execution_count": 19,
   "id": "88ef26dc",
   "metadata": {},
   "outputs": [],
   "source": [
    "ST = {1,343,645,7634,354, 4, 'a','n'}"
   ]
  },
  {
   "cell_type": "code",
   "execution_count": 20,
   "id": "bcf820d2",
   "metadata": {},
   "outputs": [
    {
     "data": {
      "text/plain": [
       "8"
      ]
     },
     "execution_count": 20,
     "metadata": {},
     "output_type": "execute_result"
    }
   ],
   "source": [
    "len(ST)"
   ]
  },
  {
   "cell_type": "code",
   "execution_count": 21,
   "id": "4717102a",
   "metadata": {},
   "outputs": [],
   "source": [
    "ST.add(34343)"
   ]
  },
  {
   "cell_type": "code",
   "execution_count": 22,
   "id": "866290de",
   "metadata": {},
   "outputs": [
    {
     "data": {
      "text/plain": [
       "{1, 343, 34343, 354, 4, 645, 7634, 'a', 'n'}"
      ]
     },
     "execution_count": 22,
     "metadata": {},
     "output_type": "execute_result"
    }
   ],
   "source": [
    "ST"
   ]
  },
  {
   "cell_type": "code",
   "execution_count": 23,
   "id": "bee61de8",
   "metadata": {},
   "outputs": [],
   "source": [
    "ST.update([89809, 34999, 134])"
   ]
  },
  {
   "cell_type": "code",
   "execution_count": 24,
   "id": "43a45765",
   "metadata": {},
   "outputs": [
    {
     "data": {
      "text/plain": [
       "{1, 134, 343, 34343, 34999, 354, 4, 645, 7634, 89809, 'a', 'n'}"
      ]
     },
     "execution_count": 24,
     "metadata": {},
     "output_type": "execute_result"
    }
   ],
   "source": [
    "ST"
   ]
  },
  {
   "cell_type": "code",
   "execution_count": 25,
   "id": "6d4ce6c5",
   "metadata": {},
   "outputs": [],
   "source": [
    "#Lets add a set to a set\n",
    "\n",
    "ST.update({\"harris\", False, \"LEPPARD\"})"
   ]
  },
  {
   "cell_type": "code",
   "execution_count": 26,
   "id": "b766320c",
   "metadata": {},
   "outputs": [
    {
     "data": {
      "text/plain": [
       "{1,\n",
       " 134,\n",
       " 343,\n",
       " 34343,\n",
       " 34999,\n",
       " 354,\n",
       " 4,\n",
       " 645,\n",
       " 7634,\n",
       " 89809,\n",
       " False,\n",
       " 'LEPPARD',\n",
       " 'a',\n",
       " 'harris',\n",
       " 'n'}"
      ]
     },
     "execution_count": 26,
     "metadata": {},
     "output_type": "execute_result"
    }
   ],
   "source": [
    "ST"
   ]
  },
  {
   "cell_type": "code",
   "execution_count": 29,
   "id": "c144eb3c",
   "metadata": {},
   "outputs": [
    {
     "name": "stdout",
     "output_type": "stream",
     "text": [
      "False\n",
      "1\n",
      "354\n",
      "n\n",
      "4\n",
      "645\n",
      "a\n",
      "34343\n",
      "134\n",
      "LEPPARD\n",
      "harris\n",
      "89809\n",
      "7634\n",
      "343\n",
      "34999\n"
     ]
    }
   ],
   "source": [
    "for i in ST:\n",
    "    print(i)"
   ]
  },
  {
   "cell_type": "code",
   "execution_count": 32,
   "id": "8eb1bd4d",
   "metadata": {},
   "outputs": [
    {
     "ename": "KeyError",
     "evalue": "{354, 'harris'}",
     "output_type": "error",
     "traceback": [
      "\u001b[1;31m---------------------------------------------------------------------------\u001b[0m",
      "\u001b[1;31mKeyError\u001b[0m                                  Traceback (most recent call last)",
      "\u001b[1;32mC:\\Users\\RVAUGH~1.GRA\\AppData\\Local\\Temp/ipykernel_18224/896323950.py\u001b[0m in \u001b[0;36m<module>\u001b[1;34m\u001b[0m\n\u001b[1;32m----> 1\u001b[1;33m \u001b[0mST\u001b[0m\u001b[1;33m.\u001b[0m\u001b[0mremove\u001b[0m\u001b[1;33m(\u001b[0m\u001b[1;33m{\u001b[0m\u001b[1;36m354\u001b[0m\u001b[1;33m,\u001b[0m \u001b[1;34m'harris'\u001b[0m\u001b[1;33m}\u001b[0m\u001b[1;33m)\u001b[0m\u001b[1;33m\u001b[0m\u001b[1;33m\u001b[0m\u001b[0m\n\u001b[0m",
      "\u001b[1;31mKeyError\u001b[0m: {354, 'harris'}"
     ]
    }
   ],
   "source": [
    "ST.remove({354, 'harris'})"
   ]
  },
  {
   "cell_type": "code",
   "execution_count": 34,
   "id": "3a3c92d1",
   "metadata": {},
   "outputs": [],
   "source": [
    "ST.remove(343)"
   ]
  },
  {
   "cell_type": "code",
   "execution_count": 35,
   "id": "3d6a84d4",
   "metadata": {},
   "outputs": [
    {
     "data": {
      "text/plain": [
       "{1,\n",
       " 134,\n",
       " 34343,\n",
       " 34999,\n",
       " 354,\n",
       " 4,\n",
       " 645,\n",
       " 7634,\n",
       " 89809,\n",
       " False,\n",
       " 'LEPPARD',\n",
       " 'a',\n",
       " 'harris',\n",
       " 'n'}"
      ]
     },
     "execution_count": 35,
     "metadata": {},
     "output_type": "execute_result"
    }
   ],
   "source": [
    "ST"
   ]
  },
  {
   "cell_type": "code",
   "execution_count": 36,
   "id": "cf80d24f",
   "metadata": {},
   "outputs": [
    {
     "data": {
      "text/plain": [
       "False"
      ]
     },
     "execution_count": 36,
     "metadata": {},
     "output_type": "execute_result"
    }
   ],
   "source": [
    "ST.pop()"
   ]
  },
  {
   "cell_type": "code",
   "execution_count": 37,
   "id": "7042db57",
   "metadata": {},
   "outputs": [
    {
     "data": {
      "text/plain": [
       "1"
      ]
     },
     "execution_count": 37,
     "metadata": {},
     "output_type": "execute_result"
    }
   ],
   "source": [
    "ST.pop()"
   ]
  },
  {
   "cell_type": "code",
   "execution_count": 38,
   "id": "b5b33627",
   "metadata": {},
   "outputs": [],
   "source": [
    "A = {'dog', 'coke', 'pepsi', 76,243,909,5875}\n",
    "B = {'dog', 'cat', 76, 343782, 23422, 99349, 3993, False}"
   ]
  },
  {
   "cell_type": "code",
   "execution_count": 40,
   "id": "1badbf54",
   "metadata": {},
   "outputs": [
    {
     "name": "stdout",
     "output_type": "stream",
     "text": [
      "{'pepsi', 243, 5875, 'dog', 'coke', 909, 76}\n",
      "{False, 343782, 'cat', 76, 99349, 3993, 'dog', 23422}\n"
     ]
    }
   ],
   "source": [
    "print(A)\n",
    "print(B)"
   ]
  },
  {
   "cell_type": "code",
   "execution_count": 41,
   "id": "09ab0324",
   "metadata": {},
   "outputs": [
    {
     "data": {
      "text/plain": [
       "{23422,\n",
       " 243,\n",
       " 343782,\n",
       " 3993,\n",
       " 5875,\n",
       " 76,\n",
       " 909,\n",
       " 99349,\n",
       " False,\n",
       " 'cat',\n",
       " 'coke',\n",
       " 'dog',\n",
       " 'pepsi'}"
      ]
     },
     "execution_count": 41,
     "metadata": {},
     "output_type": "execute_result"
    }
   ],
   "source": [
    "A.union(B)"
   ]
  },
  {
   "cell_type": "code",
   "execution_count": 42,
   "id": "bb0356ef",
   "metadata": {},
   "outputs": [
    {
     "data": {
      "text/plain": [
       "{243, 5875, 76, 909, 'coke', 'dog', 'pepsi'}"
      ]
     },
     "execution_count": 42,
     "metadata": {},
     "output_type": "execute_result"
    }
   ],
   "source": [
    "A"
   ]
  },
  {
   "cell_type": "code",
   "execution_count": 43,
   "id": "6210809b",
   "metadata": {},
   "outputs": [
    {
     "data": {
      "text/plain": [
       "{243, 5875, 909, 'coke', 'pepsi'}"
      ]
     },
     "execution_count": 43,
     "metadata": {},
     "output_type": "execute_result"
    }
   ],
   "source": [
    "A - B"
   ]
  },
  {
   "cell_type": "code",
   "execution_count": 44,
   "id": "9842244b",
   "metadata": {},
   "outputs": [
    {
     "data": {
      "text/plain": [
       "{23422, 343782, 3993, 99349, False, 'cat'}"
      ]
     },
     "execution_count": 44,
     "metadata": {},
     "output_type": "execute_result"
    }
   ],
   "source": [
    "B - A"
   ]
  },
  {
   "cell_type": "code",
   "execution_count": 45,
   "id": "d881a7d5",
   "metadata": {},
   "outputs": [
    {
     "data": {
      "text/plain": [
       "{23422, 243, 343782, 3993, 5875, 909, 99349, False, 'cat', 'coke', 'pepsi'}"
      ]
     },
     "execution_count": 45,
     "metadata": {},
     "output_type": "execute_result"
    }
   ],
   "source": [
    "# ^ Caret will return all non common elements between 2 sets\n",
    "A^B"
   ]
  },
  {
   "cell_type": "code",
   "execution_count": 46,
   "id": "bd18ddd9",
   "metadata": {},
   "outputs": [
    {
     "data": {
      "text/plain": [
       "{76, 'dog'}"
      ]
     },
     "execution_count": 46,
     "metadata": {},
     "output_type": "execute_result"
    }
   ],
   "source": [
    "B.intersection(A)"
   ]
  },
  {
   "cell_type": "code",
   "execution_count": null,
   "id": "70a09598",
   "metadata": {},
   "outputs": [],
   "source": []
  }
 ],
 "metadata": {
  "kernelspec": {
   "display_name": "Python 3 (ipykernel)",
   "language": "python",
   "name": "python3"
  },
  "language_info": {
   "codemirror_mode": {
    "name": "ipython",
    "version": 3
   },
   "file_extension": ".py",
   "mimetype": "text/x-python",
   "name": "python",
   "nbconvert_exporter": "python",
   "pygments_lexer": "ipython3",
   "version": "3.9.7"
  }
 },
 "nbformat": 4,
 "nbformat_minor": 5
}
