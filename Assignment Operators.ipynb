{
 "cells": [
  {
   "cell_type": "code",
   "execution_count": 1,
   "id": "5e37c8e0",
   "metadata": {},
   "outputs": [],
   "source": [
    "x=8"
   ]
  },
  {
   "cell_type": "code",
   "execution_count": 2,
   "id": "3cb7ef69",
   "metadata": {},
   "outputs": [
    {
     "data": {
      "text/plain": [
       "8"
      ]
     },
     "execution_count": 2,
     "metadata": {},
     "output_type": "execute_result"
    }
   ],
   "source": [
    "x"
   ]
  },
  {
   "cell_type": "code",
   "execution_count": 3,
   "id": "5a7d0c9f",
   "metadata": {},
   "outputs": [],
   "source": [
    "x = x + 7"
   ]
  },
  {
   "cell_type": "code",
   "execution_count": 4,
   "id": "13760d43",
   "metadata": {},
   "outputs": [
    {
     "data": {
      "text/plain": [
       "15"
      ]
     },
     "execution_count": 4,
     "metadata": {},
     "output_type": "execute_result"
    }
   ],
   "source": [
    "x"
   ]
  },
  {
   "cell_type": "code",
   "execution_count": 5,
   "id": "1a820f4e",
   "metadata": {},
   "outputs": [],
   "source": [
    "x = x - 6"
   ]
  },
  {
   "cell_type": "code",
   "execution_count": 6,
   "id": "4513d5b3",
   "metadata": {},
   "outputs": [
    {
     "data": {
      "text/plain": [
       "9"
      ]
     },
     "execution_count": 6,
     "metadata": {},
     "output_type": "execute_result"
    }
   ],
   "source": [
    "x"
   ]
  },
  {
   "cell_type": "code",
   "execution_count": 7,
   "id": "742049c1",
   "metadata": {},
   "outputs": [
    {
     "data": {
      "text/plain": [
       "int"
      ]
     },
     "execution_count": 7,
     "metadata": {},
     "output_type": "execute_result"
    }
   ],
   "source": [
    "type(x)"
   ]
  },
  {
   "cell_type": "code",
   "execution_count": 8,
   "id": "421fb5bf",
   "metadata": {},
   "outputs": [],
   "source": [
    "x = x//10"
   ]
  },
  {
   "cell_type": "code",
   "execution_count": 9,
   "id": "415e2f72",
   "metadata": {},
   "outputs": [
    {
     "data": {
      "text/plain": [
       "0"
      ]
     },
     "execution_count": 9,
     "metadata": {},
     "output_type": "execute_result"
    }
   ],
   "source": [
    "x"
   ]
  },
  {
   "cell_type": "code",
   "execution_count": 10,
   "id": "f5bf90cf",
   "metadata": {},
   "outputs": [],
   "source": [
    "x = 5"
   ]
  },
  {
   "cell_type": "code",
   "execution_count": 11,
   "id": "3f6934d0",
   "metadata": {},
   "outputs": [],
   "source": [
    "x = x//15"
   ]
  },
  {
   "cell_type": "code",
   "execution_count": 12,
   "id": "1c795fb5",
   "metadata": {},
   "outputs": [
    {
     "data": {
      "text/plain": [
       "0"
      ]
     },
     "execution_count": 12,
     "metadata": {},
     "output_type": "execute_result"
    }
   ],
   "source": [
    "x"
   ]
  },
  {
   "cell_type": "code",
   "execution_count": 13,
   "id": "559eb39e",
   "metadata": {},
   "outputs": [],
   "source": [
    "x = x%15"
   ]
  },
  {
   "cell_type": "code",
   "execution_count": 14,
   "id": "bd5f245e",
   "metadata": {},
   "outputs": [
    {
     "data": {
      "text/plain": [
       "0"
      ]
     },
     "execution_count": 14,
     "metadata": {},
     "output_type": "execute_result"
    }
   ],
   "source": [
    "x"
   ]
  },
  {
   "cell_type": "code",
   "execution_count": 15,
   "id": "b8c5616f",
   "metadata": {},
   "outputs": [],
   "source": [
    "x = 7"
   ]
  },
  {
   "cell_type": "code",
   "execution_count": 16,
   "id": "21a16bfa",
   "metadata": {},
   "outputs": [
    {
     "data": {
      "text/plain": [
       "7"
      ]
     },
     "execution_count": 16,
     "metadata": {},
     "output_type": "execute_result"
    }
   ],
   "source": [
    "x"
   ]
  },
  {
   "cell_type": "code",
   "execution_count": 17,
   "id": "e116031e",
   "metadata": {},
   "outputs": [],
   "source": [
    "x = x/3"
   ]
  },
  {
   "cell_type": "code",
   "execution_count": 18,
   "id": "4b1ebd6b",
   "metadata": {},
   "outputs": [
    {
     "data": {
      "text/plain": [
       "2.3333333333333335"
      ]
     },
     "execution_count": 18,
     "metadata": {},
     "output_type": "execute_result"
    }
   ],
   "source": [
    "x"
   ]
  },
  {
   "cell_type": "code",
   "execution_count": 19,
   "id": "ad0d6628",
   "metadata": {},
   "outputs": [],
   "source": [
    "x = x**3"
   ]
  },
  {
   "cell_type": "code",
   "execution_count": 20,
   "id": "759f6fa3",
   "metadata": {},
   "outputs": [
    {
     "data": {
      "text/plain": [
       "12.703703703703706"
      ]
     },
     "execution_count": 20,
     "metadata": {},
     "output_type": "execute_result"
    }
   ],
   "source": [
    "x"
   ]
  },
  {
   "cell_type": "code",
   "execution_count": 21,
   "id": "24907568",
   "metadata": {},
   "outputs": [],
   "source": [
    "# To get the remainder, modulus\n",
    "x = x%10"
   ]
  },
  {
   "cell_type": "code",
   "execution_count": 22,
   "id": "dba48b0a",
   "metadata": {},
   "outputs": [
    {
     "data": {
      "text/plain": [
       "2.703703703703706"
      ]
     },
     "execution_count": 22,
     "metadata": {},
     "output_type": "execute_result"
    }
   ],
   "source": [
    "x"
   ]
  },
  {
   "cell_type": "code",
   "execution_count": 23,
   "id": "124cafe1",
   "metadata": {},
   "outputs": [],
   "source": [
    "x = x//10"
   ]
  },
  {
   "cell_type": "code",
   "execution_count": 24,
   "id": "058443b9",
   "metadata": {},
   "outputs": [
    {
     "data": {
      "text/plain": [
       "0.0"
      ]
     },
     "execution_count": 24,
     "metadata": {},
     "output_type": "execute_result"
    }
   ],
   "source": [
    "x"
   ]
  },
  {
   "cell_type": "code",
   "execution_count": 25,
   "id": "5f05671a",
   "metadata": {},
   "outputs": [],
   "source": [
    "x = 25"
   ]
  },
  {
   "cell_type": "code",
   "execution_count": 26,
   "id": "abfc7f81",
   "metadata": {},
   "outputs": [],
   "source": [
    "x = x//10"
   ]
  },
  {
   "cell_type": "code",
   "execution_count": 27,
   "id": "d2fee059",
   "metadata": {},
   "outputs": [
    {
     "data": {
      "text/plain": [
       "2"
      ]
     },
     "execution_count": 27,
     "metadata": {},
     "output_type": "execute_result"
    }
   ],
   "source": [
    "x"
   ]
  },
  {
   "cell_type": "code",
   "execution_count": 28,
   "id": "24178a58",
   "metadata": {},
   "outputs": [],
   "source": [
    "x = 25"
   ]
  },
  {
   "cell_type": "code",
   "execution_count": 29,
   "id": "293ec0b8",
   "metadata": {},
   "outputs": [
    {
     "data": {
      "text/plain": [
       "25"
      ]
     },
     "execution_count": 29,
     "metadata": {},
     "output_type": "execute_result"
    }
   ],
   "source": [
    "x"
   ]
  },
  {
   "cell_type": "code",
   "execution_count": 30,
   "id": "e17b7939",
   "metadata": {},
   "outputs": [],
   "source": [
    "x = x/10"
   ]
  },
  {
   "cell_type": "code",
   "execution_count": 31,
   "id": "e8fcf97b",
   "metadata": {},
   "outputs": [
    {
     "data": {
      "text/plain": [
       "2.5"
      ]
     },
     "execution_count": 31,
     "metadata": {},
     "output_type": "execute_result"
    }
   ],
   "source": [
    "x"
   ]
  },
  {
   "cell_type": "code",
   "execution_count": null,
   "id": "aeaa752d",
   "metadata": {},
   "outputs": [],
   "source": []
  }
 ],
 "metadata": {
  "kernelspec": {
   "display_name": "Python 3 (ipykernel)",
   "language": "python",
   "name": "python3"
  },
  "language_info": {
   "codemirror_mode": {
    "name": "ipython",
    "version": 3
   },
   "file_extension": ".py",
   "mimetype": "text/x-python",
   "name": "python",
   "nbconvert_exporter": "python",
   "pygments_lexer": "ipython3",
   "version": "3.9.7"
  }
 },
 "nbformat": 4,
 "nbformat_minor": 5
}
