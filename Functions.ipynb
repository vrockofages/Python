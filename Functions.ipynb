{
 "cells": [
  {
   "cell_type": "markdown",
   "id": "24733cbf",
   "metadata": {},
   "source": [
    "# Functions"
   ]
  },
  {
   "cell_type": "code",
   "execution_count": 1,
   "id": "09678345",
   "metadata": {},
   "outputs": [],
   "source": [
    "def square(x):\n",
    "    y = x**2\n",
    "    return(y)"
   ]
  },
  {
   "cell_type": "code",
   "execution_count": 2,
   "id": "9d9cbabf",
   "metadata": {},
   "outputs": [
    {
     "data": {
      "text/plain": [
       "9"
      ]
     },
     "execution_count": 2,
     "metadata": {},
     "output_type": "execute_result"
    }
   ],
   "source": [
    "# Now let's call our function \"square\"\n",
    "\n",
    "square(3)"
   ]
  },
  {
   "cell_type": "code",
   "execution_count": 3,
   "id": "6af77d8c",
   "metadata": {},
   "outputs": [
    {
     "data": {
      "text/plain": [
       "25"
      ]
     },
     "execution_count": 3,
     "metadata": {},
     "output_type": "execute_result"
    }
   ],
   "source": [
    "square(5)"
   ]
  },
  {
   "cell_type": "code",
   "execution_count": 7,
   "id": "0c110fe9",
   "metadata": {},
   "outputs": [],
   "source": [
    "# Here we have defined a new function \"cube\"\n",
    "\n",
    "def cube(x):\n",
    "    y = x**3\n",
    "    return(y)"
   ]
  },
  {
   "cell_type": "code",
   "execution_count": 8,
   "id": "91466d0c",
   "metadata": {},
   "outputs": [
    {
     "data": {
      "text/plain": [
       "125"
      ]
     },
     "execution_count": 8,
     "metadata": {},
     "output_type": "execute_result"
    }
   ],
   "source": [
    "cube(5)"
   ]
  },
  {
   "cell_type": "code",
   "execution_count": 22,
   "id": "ce7e1fb3",
   "metadata": {},
   "outputs": [],
   "source": [
    "def addition(x,y,z):\n",
    "    add = x+y+z\n",
    "    print(\"The sum is \" + str(add))"
   ]
  },
  {
   "cell_type": "code",
   "execution_count": 23,
   "id": "514d4f22",
   "metadata": {},
   "outputs": [
    {
     "name": "stdout",
     "output_type": "stream",
     "text": [
      "The sum is 129\n"
     ]
    }
   ],
   "source": [
    "addition(32,54,43)"
   ]
  },
  {
   "cell_type": "code",
   "execution_count": 29,
   "id": "a5326bac",
   "metadata": {},
   "outputs": [],
   "source": [
    "def AddMultDiv(x,y,z):\n",
    "    add = x+y+z\n",
    "    mult = x*y*z\n",
    "    div = x/y/z\n",
    "    return(add, mult, div)"
   ]
  },
  {
   "cell_type": "code",
   "execution_count": 30,
   "id": "4a6aeb2d",
   "metadata": {},
   "outputs": [
    {
     "data": {
      "text/plain": [
       "(7, 8, 2.0)"
      ]
     },
     "execution_count": 30,
     "metadata": {},
     "output_type": "execute_result"
    }
   ],
   "source": [
    "AddMultDiv(4,2,1)"
   ]
  },
  {
   "cell_type": "code",
   "execution_count": 35,
   "id": "4eaf3a9d",
   "metadata": {},
   "outputs": [],
   "source": [
    "def AddMultDivPrint(x,y,z):\n",
    "    add = x+y+z\n",
    "    mult = x*y*z\n",
    "    div = x/y/z\n",
    "    print(\"The sum is\", add)\n",
    "    print(mult)\n",
    "    print(div)"
   ]
  },
  {
   "cell_type": "code",
   "execution_count": 36,
   "id": "3220e5b1",
   "metadata": {},
   "outputs": [
    {
     "name": "stdout",
     "output_type": "stream",
     "text": [
      "The sume is 9\n",
      "24\n",
      "0.6666666666666666\n"
     ]
    }
   ],
   "source": [
    "AddMultDivPrint(4,3,2)"
   ]
  },
  {
   "cell_type": "code",
   "execution_count": 37,
   "id": "b455135c",
   "metadata": {},
   "outputs": [
    {
     "data": {
      "text/plain": [
       "function"
      ]
     },
     "execution_count": 37,
     "metadata": {},
     "output_type": "execute_result"
    }
   ],
   "source": [
    "type(AddMultDiv)"
   ]
  },
  {
   "cell_type": "code",
   "execution_count": 39,
   "id": "0ee814d9",
   "metadata": {},
   "outputs": [
    {
     "data": {
      "text/plain": [
       "tuple"
      ]
     },
     "execution_count": 39,
     "metadata": {},
     "output_type": "execute_result"
    }
   ],
   "source": [
    "type(AddMultDiv(5,6,5))"
   ]
  },
  {
   "cell_type": "code",
   "execution_count": 46,
   "id": "d9f67cbb",
   "metadata": {},
   "outputs": [],
   "source": [
    "def factorial(x):\n",
    "    \n",
    "    fact = 1\n",
    "    for i in range(1,x+1):\n",
    "        fact = fact*i\n",
    "    return(fact)"
   ]
  },
  {
   "cell_type": "code",
   "execution_count": 47,
   "id": "6b075726",
   "metadata": {},
   "outputs": [
    {
     "data": {
      "text/plain": [
       "120"
      ]
     },
     "execution_count": 47,
     "metadata": {},
     "output_type": "execute_result"
    }
   ],
   "source": [
    "factorial(5)"
   ]
  },
  {
   "cell_type": "code",
   "execution_count": null,
   "id": "64a5d323",
   "metadata": {},
   "outputs": [],
   "source": []
  }
 ],
 "metadata": {
  "kernelspec": {
   "display_name": "Python 3 (ipykernel)",
   "language": "python",
   "name": "python3"
  },
  "language_info": {
   "codemirror_mode": {
    "name": "ipython",
    "version": 3
   },
   "file_extension": ".py",
   "mimetype": "text/x-python",
   "name": "python",
   "nbconvert_exporter": "python",
   "pygments_lexer": "ipython3",
   "version": "3.9.7"
  }
 },
 "nbformat": 4,
 "nbformat_minor": 5
}
