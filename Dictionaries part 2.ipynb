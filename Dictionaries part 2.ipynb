{
 "cells": [
  {
   "cell_type": "code",
   "execution_count": 18,
   "id": "f63793d9",
   "metadata": {},
   "outputs": [
    {
     "data": {
      "text/plain": [
       "{'1': 'ryanomite', '2': 'animalize', '3': 'hercules'}"
      ]
     },
     "execution_count": 18,
     "metadata": {},
     "output_type": "execute_result"
    }
   ],
   "source": [
    "mydict = {\"1\":'ryanomite', '2':'animalize', '3':'hercules'}\n",
    "mydict"
   ]
  },
  {
   "cell_type": "markdown",
   "id": "23e35165",
   "metadata": {},
   "source": [
    "# Dict()   dictionary function"
   ]
  },
  {
   "cell_type": "code",
   "execution_count": 4,
   "id": "5026ad8b",
   "metadata": {},
   "outputs": [
    {
     "data": {
      "text/plain": [
       "{'1': 'ryanomite', '2': 'animalize', '3': 'hercules'}"
      ]
     },
     "execution_count": 4,
     "metadata": {},
     "output_type": "execute_result"
    }
   ],
   "source": [
    "newdict = dict(mydict)\n",
    "\n",
    "ryan = dict()   # creates an empty dictionary\n",
    "newdict"
   ]
  },
  {
   "cell_type": "markdown",
   "id": "0af2e648",
   "metadata": {},
   "source": [
    "# Nested Dictionaries"
   ]
  },
  {
   "cell_type": "code",
   "execution_count": 11,
   "id": "49a55f5d",
   "metadata": {},
   "outputs": [],
   "source": [
    "NestedDict = {'Family Member':{'Mason':{'Age':'13', 'Height':'66', 'Hair':'Brown'},\n",
    "                               'Ryan':{'Age':'47', 'Height':'72', 'Hair':'Ash Blonde' }}}"
   ]
  },
  {
   "cell_type": "code",
   "execution_count": 42,
   "id": "34352ced",
   "metadata": {},
   "outputs": [
    {
     "data": {
      "text/plain": [
       "{'Family Member': {'Mason': {'Age': '13', 'Height': '66', 'Hair': 'Brown'},\n",
       "  'Ryan': {'Age': '47', 'Height': '72', 'Hair': 'Ash Blonde'}}}"
      ]
     },
     "execution_count": 42,
     "metadata": {},
     "output_type": "execute_result"
    }
   ],
   "source": [
    "NestedDict"
   ]
  },
  {
   "cell_type": "code",
   "execution_count": 19,
   "id": "bd425e42",
   "metadata": {},
   "outputs": [
    {
     "data": {
      "text/plain": [
       "'ryanomite'"
      ]
     },
     "execution_count": 19,
     "metadata": {},
     "output_type": "execute_result"
    }
   ],
   "source": [
    "mydict['1']"
   ]
  },
  {
   "cell_type": "code",
   "execution_count": 20,
   "id": "51a01f69",
   "metadata": {},
   "outputs": [
    {
     "name": "stdout",
     "output_type": "stream",
     "text": [
      "dict_keys(['Family Member'])\n"
     ]
    }
   ],
   "source": [
    "print(NestedDict.keys())"
   ]
  },
  {
   "cell_type": "code",
   "execution_count": 21,
   "id": "8bacfcd4",
   "metadata": {},
   "outputs": [
    {
     "name": "stdout",
     "output_type": "stream",
     "text": [
      "dict_keys(['1', '2', '3'])\n"
     ]
    }
   ],
   "source": [
    "print(mydict.keys())  # Keys() grabs all the keys"
   ]
  },
  {
   "cell_type": "code",
   "execution_count": 22,
   "id": "9266a191",
   "metadata": {},
   "outputs": [
    {
     "name": "stdout",
     "output_type": "stream",
     "text": [
      "dict_values(['ryanomite', 'animalize', 'hercules'])\n"
     ]
    }
   ],
   "source": [
    "print(mydict.values())     # Values() grabs all the values"
   ]
  },
  {
   "cell_type": "code",
   "execution_count": 23,
   "id": "2adcde8d",
   "metadata": {},
   "outputs": [
    {
     "name": "stdout",
     "output_type": "stream",
     "text": [
      "ryanomite\n"
     ]
    }
   ],
   "source": [
    "print(mydict.get('1'))     # Get() allows you to specify a key and gets its \"value\""
   ]
  },
  {
   "cell_type": "code",
   "execution_count": 25,
   "id": "a963a84f",
   "metadata": {},
   "outputs": [
    {
     "name": "stdout",
     "output_type": "stream",
     "text": [
      "1  YO YO YO\n",
      "2  YO YO YO\n",
      "3  YO YO YO\n"
     ]
    }
   ],
   "source": [
    "for x in mydict:\n",
    "    print(x + \"  YO YO YO\")"
   ]
  },
  {
   "cell_type": "code",
   "execution_count": 26,
   "id": "ec0a62bb",
   "metadata": {},
   "outputs": [
    {
     "name": "stdout",
     "output_type": "stream",
     "text": [
      "ryanomite\n",
      "animalize\n",
      "hercules\n"
     ]
    }
   ],
   "source": [
    "for x in mydict.values():\n",
    "    print(x)"
   ]
  },
  {
   "cell_type": "code",
   "execution_count": 27,
   "id": "a3c2fafb",
   "metadata": {},
   "outputs": [
    {
     "name": "stdout",
     "output_type": "stream",
     "text": [
      "1 ryanomite\n",
      "2 animalize\n",
      "3 hercules\n"
     ]
    }
   ],
   "source": [
    "for x,y in mydict.items():   # x represents \"keys\" and y represents \"values\"\n",
    "    print(x,y)"
   ]
  },
  {
   "cell_type": "code",
   "execution_count": 28,
   "id": "b9ccb857",
   "metadata": {},
   "outputs": [
    {
     "data": {
      "text/plain": [
       "'3'"
      ]
     },
     "execution_count": 28,
     "metadata": {},
     "output_type": "execute_result"
    }
   ],
   "source": [
    "x"
   ]
  },
  {
   "cell_type": "markdown",
   "id": "264cf923",
   "metadata": {},
   "source": [
    "# Updating"
   ]
  },
  {
   "cell_type": "code",
   "execution_count": 33,
   "id": "594d3fe9",
   "metadata": {},
   "outputs": [],
   "source": [
    "mydict['ryanomite'] = '001'"
   ]
  },
  {
   "cell_type": "code",
   "execution_count": 35,
   "id": "240c6103",
   "metadata": {},
   "outputs": [],
   "source": [
    "mydict['sebastian'] = '1'"
   ]
  },
  {
   "cell_type": "code",
   "execution_count": 32,
   "id": "6bfa98ad",
   "metadata": {},
   "outputs": [
    {
     "data": {
      "text/plain": [
       "dict"
      ]
     },
     "execution_count": 32,
     "metadata": {},
     "output_type": "execute_result"
    }
   ],
   "source": [
    "type(mydict)"
   ]
  },
  {
   "cell_type": "code",
   "execution_count": 36,
   "id": "dd8fa156",
   "metadata": {},
   "outputs": [
    {
     "data": {
      "text/plain": [
       "{'1': 'ryanomite',\n",
       " '2': 'animalize',\n",
       " '3': 'hercules',\n",
       " 'ryanomite': '001',\n",
       " 'sebastian': '1'}"
      ]
     },
     "execution_count": 36,
     "metadata": {},
     "output_type": "execute_result"
    }
   ],
   "source": [
    "mydict"
   ]
  },
  {
   "cell_type": "markdown",
   "id": "d3515f88",
   "metadata": {},
   "source": [
    "# Deleting"
   ]
  },
  {
   "cell_type": "code",
   "execution_count": 37,
   "id": "67238cfc",
   "metadata": {},
   "outputs": [
    {
     "data": {
      "text/plain": [
       "'001'"
      ]
     },
     "execution_count": 37,
     "metadata": {},
     "output_type": "execute_result"
    }
   ],
   "source": [
    "mydict.pop('ryanomite')"
   ]
  },
  {
   "cell_type": "code",
   "execution_count": 39,
   "id": "77458657",
   "metadata": {},
   "outputs": [
    {
     "data": {
      "text/plain": [
       "('sebastian', '1')"
      ]
     },
     "execution_count": 39,
     "metadata": {},
     "output_type": "execute_result"
    }
   ],
   "source": [
    "mydict.popitem()"
   ]
  },
  {
   "cell_type": "code",
   "execution_count": 40,
   "id": "51b64eca",
   "metadata": {},
   "outputs": [],
   "source": [
    "del mydict['1']"
   ]
  },
  {
   "cell_type": "code",
   "execution_count": 41,
   "id": "fa5294ed",
   "metadata": {},
   "outputs": [
    {
     "data": {
      "text/plain": [
       "{'2': 'animalize', '3': 'hercules'}"
      ]
     },
     "execution_count": 41,
     "metadata": {},
     "output_type": "execute_result"
    }
   ],
   "source": [
    "mydict"
   ]
  },
  {
   "cell_type": "markdown",
   "id": "4c0ca096",
   "metadata": {},
   "source": [
    "# Dictionary to Dataframe"
   ]
  },
  {
   "cell_type": "code",
   "execution_count": 43,
   "id": "e1fba1b9",
   "metadata": {},
   "outputs": [],
   "source": [
    "import pandas as pd\n",
    "df = pd.DataFrame(NestedDict['Family Member'])"
   ]
  },
  {
   "cell_type": "code",
   "execution_count": 44,
   "id": "93b2f88c",
   "metadata": {},
   "outputs": [
    {
     "data": {
      "text/html": [
       "<div>\n",
       "<style scoped>\n",
       "    .dataframe tbody tr th:only-of-type {\n",
       "        vertical-align: middle;\n",
       "    }\n",
       "\n",
       "    .dataframe tbody tr th {\n",
       "        vertical-align: top;\n",
       "    }\n",
       "\n",
       "    .dataframe thead th {\n",
       "        text-align: right;\n",
       "    }\n",
       "</style>\n",
       "<table border=\"1\" class=\"dataframe\">\n",
       "  <thead>\n",
       "    <tr style=\"text-align: right;\">\n",
       "      <th></th>\n",
       "      <th>Mason</th>\n",
       "      <th>Ryan</th>\n",
       "    </tr>\n",
       "  </thead>\n",
       "  <tbody>\n",
       "    <tr>\n",
       "      <th>Age</th>\n",
       "      <td>13</td>\n",
       "      <td>47</td>\n",
       "    </tr>\n",
       "    <tr>\n",
       "      <th>Height</th>\n",
       "      <td>66</td>\n",
       "      <td>72</td>\n",
       "    </tr>\n",
       "    <tr>\n",
       "      <th>Hair</th>\n",
       "      <td>Brown</td>\n",
       "      <td>Ash Blonde</td>\n",
       "    </tr>\n",
       "  </tbody>\n",
       "</table>\n",
       "</div>"
      ],
      "text/plain": [
       "        Mason        Ryan\n",
       "Age        13          47\n",
       "Height     66          72\n",
       "Hair    Brown  Ash Blonde"
      ]
     },
     "execution_count": 44,
     "metadata": {},
     "output_type": "execute_result"
    }
   ],
   "source": [
    "df"
   ]
  },
  {
   "cell_type": "code",
   "execution_count": null,
   "id": "02e354bc",
   "metadata": {},
   "outputs": [],
   "source": []
  }
 ],
 "metadata": {
  "kernelspec": {
   "display_name": "Python 3 (ipykernel)",
   "language": "python",
   "name": "python3"
  },
  "language_info": {
   "codemirror_mode": {
    "name": "ipython",
    "version": 3
   },
   "file_extension": ".py",
   "mimetype": "text/x-python",
   "name": "python",
   "nbconvert_exporter": "python",
   "pygments_lexer": "ipython3",
   "version": "3.9.7"
  }
 },
 "nbformat": 4,
 "nbformat_minor": 5
}
